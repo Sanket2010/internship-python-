{
 "cells": [
  {
   "cell_type": "code",
   "execution_count": 1,
   "id": "072d95d4",
   "metadata": {},
   "outputs": [
    {
     "name": "stdout",
     "output_type": "stream",
     "text": [
      "String with single quote: \n",
      "Hello world\n"
     ]
    }
   ],
   "source": [
    "#strings with single quote\n",
    "a = 'Hello world'\n",
    "print(\"String with single quote: \")\n",
    "print(a)"
   ]
  },
  {
   "cell_type": "code",
   "execution_count": 2,
   "id": "424e5b3f",
   "metadata": {},
   "outputs": [
    {
     "name": "stdout",
     "output_type": "stream",
     "text": [
      "\n",
      " String with double quotes: \n",
      "Hello world\n"
     ]
    }
   ],
   "source": [
    "#String with double quotes\n",
    "a = \"Hello world\"\n",
    "print(\"\\n String with double quotes: \")\n",
    "print(a)"
   ]
  },
  {
   "cell_type": "code",
   "execution_count": 3,
   "id": "7d6e028c",
   "metadata": {},
   "outputs": [
    {
     "name": "stdout",
     "output_type": "stream",
     "text": [
      "\n",
      " String with triple quotes\n",
      "Hello world\n"
     ]
    }
   ],
   "source": [
    "#String with triple quotes\n",
    "a = '''Hello world'''\n",
    "print(\"\\n String with triple quotes\")\n",
    "print(a)"
   ]
  },
  {
   "cell_type": "code",
   "execution_count": 6,
   "id": "b42a6050",
   "metadata": {},
   "outputs": [
    {
     "name": "stdout",
     "output_type": "stream",
     "text": [
      "\n",
      " String with single quote\n",
      "     Hello\n",
      "     world\n",
      "     sanket\n"
     ]
    }
   ],
   "source": [
    "#String with triple quotes\n",
    "a = '''     Hello\n",
    "     world\n",
    "     sanket'''\n",
    "print(\"\\n String with single quote\")\n",
    "print(a)"
   ]
  },
  {
   "cell_type": "code",
   "execution_count": 7,
   "id": "a95ac189",
   "metadata": {},
   "outputs": [
    {
     "name": "stdout",
     "output_type": "stream",
     "text": [
      "Initial String: \n",
      "SanketIyer\n",
      "\n",
      "First character of String is: \n",
      "S\n",
      "\n",
      "Last character of String is: \n",
      "r\n"
     ]
    }
   ],
   "source": [
    "# Python Program to Access\n",
    "# characters of String\n",
    "\n",
    "a = \"SanketIyer\"\n",
    "print(\"Initial String: \")\n",
    "print(a)\n",
    "\n",
    "# Printing First character\n",
    "print(\"\\nFirst character of String is: \")\n",
    "print(a[0])\n",
    "\n",
    "# Printing Last character\n",
    "print(\"\\nLast character of String is: \")\n",
    "print(a[-1])\n"
   ]
  },
  {
   "cell_type": "code",
   "execution_count": 8,
   "id": "d21d2a5c",
   "metadata": {},
   "outputs": [
    {
     "name": "stdout",
     "output_type": "stream",
     "text": [
      "teknaS\n"
     ]
    }
   ],
   "source": [
    "#Program to reverse a string\n",
    "x = \"Sanket\"\n",
    "print(x[::-1])\n"
   ]
  },
  {
   "cell_type": "code",
   "execution_count": 11,
   "id": "9932c4fd",
   "metadata": {},
   "outputs": [
    {
     "name": "stdout",
     "output_type": "stream",
     "text": [
      "teknaS\n"
     ]
    }
   ],
   "source": [
    "x =\"Sanket\"\n",
    "x= \"\".join(reversed(x))\n",
    "    \n",
    "print(x)"
   ]
  },
  {
   "cell_type": "code",
   "execution_count": 17,
   "id": "abdb51e1",
   "metadata": {},
   "outputs": [
    {
     "name": "stdout",
     "output_type": "stream",
     "text": [
      "\n",
      " intial string: \n",
      "sanketiyer\n",
      "\n",
      " slicing characters from 3-10: \n",
      "ketiyer\n",
      "\n",
      " slicing characters b/w 3rd and 2nd last character: \n",
      "ketiy\n"
     ]
    }
   ],
   "source": [
    "# Creating a String\n",
    "a = \"sanketiyer\"\n",
    "print(\"\\n intial string: \")\n",
    "print(a)\n",
    " \n",
    "# printing the 3rd and 10th character\n",
    "print(\"\\n slicing characters from 3-10: \")\n",
    "print(a[3:10])\n",
    "\n",
    "# Printing characters between\n",
    "# 3rd and 2nd last character\n",
    "\n",
    "print(\"\\n slicing characters b/w 3rd and 2nd last character: \")\n",
    "print(a[3:-2])\n",
    "\n",
    "\n"
   ]
  },
  {
   "cell_type": "code",
   "execution_count": 19,
   "id": "9e7b06fe",
   "metadata": {},
   "outputs": [
    {
     "name": "stdout",
     "output_type": "stream",
     "text": [
      "Initial String with use of Triple Quotes: \n",
      "I'm a \"Sanket\"\n",
      "\n",
      "Escaping Single Quote: \n",
      "I'm a \"Sanket\"\n",
      "\n",
      "Escaping Double Quotes: \n",
      "I'm a \"Sanket\"\n",
      "\n",
      "Escaping Backslashes: \n",
      "C:\\Python\\sanket\\\n",
      "\n",
      "Tab: \n",
      "Hi\tGeeks\n",
      "\n",
      "New Line: \n",
      "Python\n",
      "Geeks\n"
     ]
    }
   ],
   "source": [
    "# Python Program for\n",
    "# Escape Sequencing\n",
    "# of String\n",
    "\n",
    "# Initial String\n",
    "s = '''I'm a \"Sanket\"'''\n",
    "print(\"Initial String with use of Triple Quotes: \")\n",
    "print(s)\n",
    "\n",
    "# Escaping Single Quote\n",
    "S = 'I\\'m a \"Sanket\"'\n",
    "print(\"\\nEscaping Single Quote: \")\n",
    "print(S)\n",
    "\n",
    "# Escaping Double Quotes\n",
    "S = \"I'm a \\\"Sanket\\\"\"\n",
    "print(\"\\nEscaping Double Quotes: \")\n",
    "print(S)\n",
    "\n",
    "# Printing Paths with the\n",
    "# use of Escape Sequences\n",
    "S = \"C:\\\\Python\\\\sanket\\\\\"\n",
    "print(\"\\nEscaping Backslashes: \")\n",
    "print(S)\n",
    "\n",
    "# Printing Paths with the\n",
    "# use of Tab\n",
    "S = \"Hi\\tGeeks\"\n",
    "print(\"\\nTab: \")\n",
    "print(S)\n",
    "\n",
    "# Printing Paths with the\n",
    "# use of New Line\n",
    "S = \"Python\\nGeeks\"\n",
    "print(\"\\nNew Line: \")\n",
    "print(S)\n"
   ]
  },
  {
   "cell_type": "code",
   "execution_count": 38,
   "id": "1a73c019",
   "metadata": {},
   "outputs": [
    {
     "name": "stdout",
     "output_type": "stream",
     "text": [
      "blank list: \n",
      "[]\n",
      "list of numbers: \n",
      "[10, 20, 30]\n",
      "\n",
      "list of items: \n",
      "apple\n",
      "grapes\n",
      "grapes\n",
      "['apple', 'mango', 'grapes']\n"
     ]
    }
   ],
   "source": [
    "#creating blank list\n",
    "l = []\n",
    "print(\"blank list: \")\n",
    "print(l)\n",
    "\n",
    "#Creating a list of numbers\n",
    "l = [10, 20, 30]\n",
    "print(\"list of numbers: \")\n",
    "print(l)\n",
    "\n",
    "#Creating a list of strings and accesing it\n",
    "l = ['apple', 'mango', 'grapes']\n",
    "print(\"\\nlist of items: \")\n",
    "print(l[0])\n",
    "print(l[2])\n",
    "print(l[-1])\n",
    "print(l)"
   ]
  },
  {
   "cell_type": "code",
   "execution_count": 27,
   "id": "cf75bd89",
   "metadata": {},
   "outputs": [
    {
     "name": "stdout",
     "output_type": "stream",
     "text": [
      "\n",
      " print the numbers: \n",
      "[1, 2, 4, 4, 5, 5, 7, 8, 8]\n"
     ]
    }
   ],
   "source": [
    "# Creating a List with\n",
    "# the use of Numbers\n",
    "# (Having duplicate values)\n",
    "List = [1,2,4,4,5,5,7,8,8]\n",
    "print(\"\\n print the numbers: \")\n",
    "print(List)\n"
   ]
  },
  {
   "cell_type": "code",
   "execution_count": 37,
   "id": "b42f1bec",
   "metadata": {},
   "outputs": [
    {
     "name": "stdout",
     "output_type": "stream",
     "text": [
      "\n",
      "List with the use of Mixed Values: \n",
      "[1, 2, 'Geeks', 4, 'For', 6, 'Geeks']\n",
      "\n",
      "List with the use of Mixed Values: \n",
      "[1, 2, 'Sanket', 4, 'R', 6, 'Iyer']\n",
      "7\n"
     ]
    }
   ],
   "source": [
    "# Creating a List with\n",
    "# mixed type of values\n",
    "# (Having numbers and strings)\n",
    "List = [1, 2, 'Geeks', 4, 'For', 6, 'Geeks']\n",
    "print(\"\\nList with the use of Mixed Values: \")\n",
    "print(List)\n",
    "\n",
    "# Creating a List with\n",
    "# mixed type of values\n",
    "# (Having numbers and strings)\n",
    "\n",
    "List = [1, 2, 'Sanket', 4, 'R', 6, 'Iyer']\n",
    "print(\"\\nList with the use of Mixed Values: \")\n",
    "print(List)\n",
    "print(len(List))"
   ]
  },
  {
   "cell_type": "code",
   "execution_count": 35,
   "id": "be534189",
   "metadata": {},
   "outputs": [
    {
     "name": "stdout",
     "output_type": "stream",
     "text": [
      "Accessing the contes of the lists\n",
      "Iyer\n",
      "apple\n"
     ]
    }
   ],
   "source": [
    "# Creating a Multi-Dimensional List\n",
    "# (By Nesting a list inside a List)\n",
    "List = [['sanket','R','Iyer'],['apple','mango','grapes']]\n",
    "print(\"Accessing the contes of the lists\")\n",
    "print(List[0][2])\n",
    "print(List[1][0])"
   ]
  },
  {
   "cell_type": "code",
   "execution_count": 39,
   "id": "9c8a9ac0",
   "metadata": {},
   "outputs": [
    {
     "name": "stdout",
     "output_type": "stream",
     "text": [
      "['orange', 'kiwi', 'melon']\n"
     ]
    }
   ],
   "source": [
    "thislist = [\"apple\", \"banana\", \"cherry\", \"orange\", \"kiwi\", \"melon\", \"mango\"]\n",
    "print(thislist[-4:-1])"
   ]
  },
  {
   "cell_type": "code",
   "execution_count": 41,
   "id": "96bcf2b4",
   "metadata": {},
   "outputs": [
    {
     "name": "stdout",
     "output_type": "stream",
     "text": [
      "['apple', 'banana', 'grapes']\n"
     ]
    }
   ],
   "source": [
    "List = [\"apple\",\"mango\",\"grapes\"]\n",
    "List[1] = \"banana\"\n",
    "print(List)"
   ]
  },
  {
   "cell_type": "code",
   "execution_count": 42,
   "id": "7a601977",
   "metadata": {},
   "outputs": [
    {
     "name": "stdout",
     "output_type": "stream",
     "text": [
      "['apple', 'blackcurrent', 'watermelon', 'orange', 'kiwi', 'melon', 'mango']\n"
     ]
    }
   ],
   "source": [
    "List = [\"apple\", \"banana\", \"cherry\", \"orange\", \"kiwi\", \"melon\", \"mango\"]\n",
    "List[1:3] = \"blackcurrent\",\"watermelon\"\n",
    "print(List)"
   ]
  },
  {
   "cell_type": "code",
   "execution_count": 44,
   "id": "3ab4a75c",
   "metadata": {},
   "outputs": [
    {
     "name": "stdout",
     "output_type": "stream",
     "text": [
      "['apple', 'banana']\n"
     ]
    }
   ],
   "source": [
    "List = [\"apple\",\"mango\",\"grapes\"]\n",
    "List[1:3] = [\"banana\"]\n",
    "print(List)"
   ]
  },
  {
   "cell_type": "code",
   "execution_count": 45,
   "id": "f3833a70",
   "metadata": {},
   "outputs": [
    {
     "name": "stdout",
     "output_type": "stream",
     "text": [
      "['apple', 'banana', 'watermelon', 'cherry']\n"
     ]
    }
   ],
   "source": [
    "List = [\"apple\", \"banana\", \"cherry\"]\n",
    "List.insert(2, \"watermelon\")\n",
    "print(List)"
   ]
  },
  {
   "cell_type": "code",
   "execution_count": 46,
   "id": "22d42fc4",
   "metadata": {},
   "outputs": [
    {
     "name": "stdout",
     "output_type": "stream",
     "text": [
      "['apple', 'banana', 'cherry', 'watermelon']\n"
     ]
    }
   ],
   "source": [
    "List = [\"apple\", \"banana\", \"cherry\"]\n",
    "List.append(\"watermelon\")\n",
    "print(List)"
   ]
  },
  {
   "cell_type": "code",
   "execution_count": 47,
   "id": "576bb813",
   "metadata": {},
   "outputs": [
    {
     "name": "stdout",
     "output_type": "stream",
     "text": [
      "['apple', 'banana', 'cherry', 'apple', 'mango', 'grapes']\n"
     ]
    }
   ],
   "source": [
    "List1 = [\"apple\", \"banana\", \"cherry\"]\n",
    "List2 = [\"apple\",\"mango\",\"grapes\"]\n",
    "List1.extend(List2)\n",
    "print(List1)"
   ]
  },
  {
   "cell_type": "code",
   "execution_count": 50,
   "id": "d06eb8b6",
   "metadata": {},
   "outputs": [
    {
     "name": "stdout",
     "output_type": "stream",
     "text": [
      "initial list:\n",
      "[1, 2, 3, 4, 5, 6, 7, 8, 8, 9, 1]\n",
      "\n",
      " List after removal of items\n",
      "[1, 2, 3, 4, 7, 8, 8, 9, 1]\n"
     ]
    }
   ],
   "source": [
    "List =[1,2,3,4,5,6,7,8,8,9,1]\n",
    "print(\"initial list:\")\n",
    "print(List)\n",
    "\n",
    "List.remove(5)\n",
    "List.remove(6)\n",
    "print(\"\\n List after removal of items\")\n",
    "print(List)\n"
   ]
  },
  {
   "cell_type": "code",
   "execution_count": 51,
   "id": "c36beda6",
   "metadata": {},
   "outputs": [
    {
     "name": "stdout",
     "output_type": "stream",
     "text": [
      "\n",
      "List after popping an element: \n",
      "[1, 2, 3, 4]\n",
      "\n",
      "List after popping a specific element: \n",
      "[1, 2, 4]\n"
     ]
    }
   ],
   "source": [
    "List = [1, 2, 3, 4, 5]\n",
    "\n",
    "# Removing element from the\n",
    "# Set using the pop() method\n",
    "List.pop()\n",
    "print(\"\\nList after popping an element: \")\n",
    "print(List)\n",
    "\n",
    "# Removing element at a\n",
    "# specific location from the\n",
    "# Set using the pop() method\n",
    "List.pop(2)\n",
    "print(\"\\nList after popping a specific element: \")\n",
    "print(List)\n"
   ]
  },
  {
   "cell_type": "code",
   "execution_count": 3,
   "id": "8c1eca51",
   "metadata": {},
   "outputs": [
    {
     "name": "stdout",
     "output_type": "stream",
     "text": [
      "[0, 1, 2, 3, 4, 5, 6, 7, 8, 9]\n"
     ]
    }
   ],
   "source": [
    "#List comphrehension\n",
    "#to print 1 to 10\n",
    "List =[x for x in range(10)]\n",
    "print(List)"
   ]
  },
  {
   "cell_type": "code",
   "execution_count": 3,
   "id": "175629b4",
   "metadata": {},
   "outputs": [
    {
     "name": "stdout",
     "output_type": "stream",
     "text": [
      "[0, 1, 2, 3, 4]\n"
     ]
    }
   ],
   "source": [
    "List =[x for x in range(10) if x < 5]\n",
    "print(List)"
   ]
  },
  {
   "cell_type": "code",
   "execution_count": 4,
   "id": "e2c36e82",
   "metadata": {},
   "outputs": [
    {
     "name": "stdout",
     "output_type": "stream",
     "text": [
      "Intial tuple is empty\n",
      "()\n"
     ]
    }
   ],
   "source": [
    "# Creating an empty Tuple\n",
    "Tuple1=()\n",
    "print(\"Intial tuple is empty\")\n",
    "print(Tuple1)"
   ]
  },
  {
   "cell_type": "code",
   "execution_count": 5,
   "id": "33f71e77",
   "metadata": {},
   "outputs": [
    {
     "name": "stdout",
     "output_type": "stream",
     "text": [
      "\n",
      " Tuples with using strings\n",
      "('sanket', 'iyer')\n"
     ]
    }
   ],
   "source": [
    "# Creating a Tuple\n",
    "# with the use of stringTuple1= ('sanket','iyer')\n",
    "print(\"\\n Tuples with using strings\")\n",
    "print(Tuple1)"
   ]
  },
  {
   "cell_type": "code",
   "execution_count": 6,
   "id": "8c45bbf2",
   "metadata": {},
   "outputs": [
    {
     "name": "stdout",
     "output_type": "stream",
     "text": [
      "\n",
      " Printing list using tuples\n",
      "(1, 2, 3, 4, 5, 6)\n"
     ]
    }
   ],
   "source": [
    "# Creating a Tuple with\n",
    "# the use of list List1 = [1,2,3,4,5,6]\n",
    "\n",
    "print(\"\\n Printing list using tuples\")\n",
    "print(tuple(List1))"
   ]
  },
  {
   "cell_type": "code",
   "execution_count": 7,
   "id": "d1d15cb8",
   "metadata": {},
   "outputs": [
    {
     "name": "stdout",
     "output_type": "stream",
     "text": [
      "\n",
      " Printing tuple using In built function\n",
      "('S', 'a', 'n', 'k', 'e', 't')\n"
     ]
    }
   ],
   "source": [
    "# Creating a Tuple\n",
    "# with the use of built-in function\n",
    "\n",
    "Tuple1 = tuple('Sanket')\n",
    "print(\"\\n Printing tuple using In built function\")\n",
    "print(Tuple1)"
   ]
  },
  {
   "cell_type": "code",
   "execution_count": 8,
   "id": "ffb467c0",
   "metadata": {},
   "outputs": [
    {
     "name": "stdout",
     "output_type": "stream",
     "text": [
      "\n",
      " Printing tuple with mixed data\n",
      "(1, 'Sanket', 3, 'Iyer')\n"
     ]
    }
   ],
   "source": [
    "#Creating tuples\n",
    "# with Mixed Datatype\n",
    "Tuple1 = (1,'Sanket',3,'Iyer')\n",
    "print(\"\\n Printing tuple with mixed data\")\n",
    "print(Tuple1)"
   ]
  },
  {
   "cell_type": "code",
   "execution_count": 9,
   "id": "f967ab98",
   "metadata": {},
   "outputs": [
    {
     "name": "stdout",
     "output_type": "stream",
     "text": [
      "\n",
      " printing the nested tuple\n",
      "((1, 2, 3, 4, 5, 6), ('Sanket', 'R', 'Iyer'))\n"
     ]
    }
   ],
   "source": [
    "# Creating a Tuple\n",
    "# with nested tuples\n",
    "Tuple1 = (1,2,3,4,5,6)\n",
    "Tuple2 = ('Sanket','R','Iyer')\n",
    "Tuple3 = (Tuple1, Tuple2)\n",
    "print(\"\\n printing the nested tuple\")\n",
    "print(Tuple3)"
   ]
  },
  {
   "cell_type": "code",
   "execution_count": 11,
   "id": "ed217330",
   "metadata": {},
   "outputs": [
    {
     "name": "stdout",
     "output_type": "stream",
     "text": [
      "\n",
      " printing with repetion: \n",
      "('sanket', 'sanket', 'sanket')\n"
     ]
    }
   ],
   "source": [
    "# Creating a Tuple\n",
    "# with repetition\n",
    "\n",
    "Tuple1 = ('sanket',) * 3\n",
    "print(\"\\n printing with repetion: \")\n",
    "print(Tuple1)"
   ]
  },
  {
   "cell_type": "code",
   "execution_count": 12,
   "id": "54ed2fea",
   "metadata": {},
   "outputs": [
    {
     "name": "stdout",
     "output_type": "stream",
     "text": [
      "\n",
      " tuple with loop\n",
      "(('Sanket',),)\n",
      "((('Sanket',),),)\n",
      "(((('Sanket',),),),)\n",
      "((((('Sanket',),),),),)\n",
      "(((((('Sanket',),),),),),)\n"
     ]
    }
   ],
   "source": [
    "# Creating a Tuple\n",
    "# with the use of loop\n",
    "\n",
    "Tuple1 = ('Sanket',)\n",
    "n = 5\n",
    "print(\"\\n tuple with loop\")\n",
    "for i in range(int(n)):\n",
    "    Tuple1 = (Tuple1,)\n",
    "    print(Tuple1)"
   ]
  },
  {
   "cell_type": "code",
   "execution_count": 14,
   "id": "259e6b89",
   "metadata": {},
   "outputs": [
    {
     "name": "stdout",
     "output_type": "stream",
     "text": [
      "\n",
      " first element of tuple\n",
      "S\n",
      "k\n"
     ]
    }
   ],
   "source": [
    "# Accessing Tuple\n",
    "# with Indexing\n",
    "Tuple1 = tuple('Sanket')\n",
    "print(\"\\n first element of tuple\")\n",
    "print(Tuple1[0])\n",
    "print(Tuple1[3])"
   ]
  },
  {
   "cell_type": "code",
   "execution_count": 15,
   "id": "1a363ac3",
   "metadata": {},
   "outputs": [
    {
     "name": "stdout",
     "output_type": "stream",
     "text": [
      "Sanket\n",
      "R\n",
      "Iyer\n"
     ]
    }
   ],
   "source": [
    "# Tuple unpacking\n",
    "Tuple1 = ('Sanket','R','Iyer')\n",
    "# This line unpack\n",
    "# values of Tuple1\n",
    "a,b,c = Tuple1\n",
    "print(a)\n",
    "print(b)\n",
    "print(c)"
   ]
  },
  {
   "cell_type": "code",
   "execution_count": 16,
   "id": "1c53c20e",
   "metadata": {},
   "outputs": [
    {
     "name": "stdout",
     "output_type": "stream",
     "text": [
      "\n",
      " Tuple1: \n",
      "(1, 2, 3, 4, 5, 6)\n",
      "\n",
      " Tuple2: \n",
      "('Sanket', 'R', 'Iyer')\n",
      "\n",
      " Concatation of tuple1 and tuple2: \n",
      "(1, 2, 3, 4, 5, 6, 'Sanket', 'R', 'Iyer')\n"
     ]
    }
   ],
   "source": [
    "# Concatenation of tuples\n",
    "Tuple1 = (1,2,3,4,5,6)\n",
    "Tuple2 = ('Sanket','R','Iyer')\n",
    "\n",
    "Tuple3 = Tuple1 + Tuple2\n",
    "#printing the first tuple\n",
    "print(\"\\n Tuple1: \")\n",
    "print(Tuple1)\n",
    "#printing the second tuple\n",
    "print(\"\\n Tuple2: \")\n",
    "print(Tuple2)\n",
    "\n",
    "print(\"\\n Concatenation of tuple1 and tuple2: \")\n",
    "print(Tuple3)"
   ]
  },
  {
   "cell_type": "code",
   "execution_count": 24,
   "id": "a632d6da",
   "metadata": {},
   "outputs": [
    {
     "name": "stdout",
     "output_type": "stream",
     "text": [
      "\n",
      " Removal of the first element\n",
      "('A', 'N', 'K', 'E', 'T', 'I', 'Y', 'E', 'R')\n",
      "\n",
      "Tuple after sequence of Element is reversed: \n",
      "('R', 'E', 'Y', 'I', 'T', 'E', 'K', 'N', 'A', 'S')\n",
      "\n",
      "Printing elements between Range 4-9: \n",
      "('E', 'T', 'I', 'Y', 'E')\n"
     ]
    }
   ],
   "source": [
    "# Slicing of a Tuple\n",
    " \n",
    "# Slicing of a Tuple\n",
    "# with Numbers\n",
    "\n",
    "Tuple1 = tuple('SANKETIYER')\n",
    "#removal of element from the tuple\n",
    "print(\"\\n Removal of the first element\")\n",
    "print(Tuple1[1:])\n",
    "\n",
    "# Reversing the Tuple\n",
    "print(\"\\nTuple after sequence of Element is reversed: \")\n",
    "print(Tuple1[::-1])\n",
    " \n",
    "# Printing elements of a Range\n",
    "print(\"\\nPrinting elements between Range 4-9: \")\n",
    "print(Tuple1[4:9])"
   ]
  },
  {
   "cell_type": "code",
   "execution_count": 25,
   "id": "76177f92",
   "metadata": {},
   "outputs": [
    {
     "ename": "NameError",
     "evalue": "name 'Tuple1' is not defined",
     "output_type": "error",
     "traceback": [
      "\u001b[1;31m---------------------------------------------------------------------------\u001b[0m",
      "\u001b[1;31mNameError\u001b[0m                                 Traceback (most recent call last)",
      "Cell \u001b[1;32mIn[25], line 6\u001b[0m\n\u001b[0;32m      3\u001b[0m Tuple1 \u001b[38;5;241m=\u001b[39m (\u001b[38;5;241m0\u001b[39m, \u001b[38;5;241m1\u001b[39m, \u001b[38;5;241m2\u001b[39m, \u001b[38;5;241m3\u001b[39m, \u001b[38;5;241m4\u001b[39m)\n\u001b[0;32m      4\u001b[0m \u001b[38;5;28;01mdel\u001b[39;00m Tuple1\n\u001b[1;32m----> 6\u001b[0m \u001b[38;5;28mprint\u001b[39m(\u001b[43mTuple1\u001b[49m)\n",
      "\u001b[1;31mNameError\u001b[0m: name 'Tuple1' is not defined"
     ]
    }
   ],
   "source": [
    "# Deleting a Tuple\n",
    "\n",
    "Tuple1 = (0, 1, 2, 3, 4)\n",
    "del Tuple1\n",
    "\n",
    "print(Tuple1)\n"
   ]
  },
  {
   "cell_type": "code",
   "execution_count": 1,
   "id": "96460f14",
   "metadata": {},
   "outputs": [
    {
     "name": "stdout",
     "output_type": "stream",
     "text": [
      "{'apple', 'cherry', 'banana'}\n"
     ]
    }
   ],
   "source": [
    "#set\n",
    "myset = {\"apple\", \"banana\", \"cherry\"}\n",
    "print(myset)"
   ]
  },
  {
   "cell_type": "code",
   "execution_count": 8,
   "id": "cdccecdb",
   "metadata": {},
   "outputs": [
    {
     "name": "stdout",
     "output_type": "stream",
     "text": [
      "\n",
      " Initial set:\n",
      "set()\n",
      "\n",
      " set with use of strings\n",
      "{'S', 'K', 'I', 'N', 'R', 'E', 'Y', 'T', 'A'}\n",
      "\n",
      "Set with the use of an Object: \n",
      "{'S', 'K', 'I', 'N', 'R', 'E', 'Y', 'T', 'A'}\n",
      "\n",
      "Set with the use of List: \n",
      "{'Iyer', 'Sanket', 'R'}\n"
     ]
    }
   ],
   "source": [
    "# Python program to demonstrate\n",
    "# Creation of Set in Python\n",
    " \n",
    "# Creating a Setset1 ={}\n",
    "set1 = set()\n",
    "print(\"\\n Initial set:\")\n",
    "print(set1)\n",
    "\n",
    "# Creating a Set with\n",
    "# the use of a String\n",
    "set1 = set('SANKETIYER')\n",
    "print(\"\\n set with use of strings\")\n",
    "print(set1)\n",
    "\n",
    "# Creating a Set with\n",
    "# the use of Constructor\n",
    "# (Using object to Store String)\n",
    "String = 'SANKETIYER'\n",
    "set1 = set(String)\n",
    "print(\"\\nSet with the use of an Object: \" )\n",
    "print(set1)\n",
    " \n",
    "# Creating a Set with\n",
    "# the use of a List\n",
    "set1 = set([\"Sanket\", \"R\", \"Iyer\"])\n",
    "print(\"\\nSet with the use of List: \")\n",
    "print(set1)\n"
   ]
  },
  {
   "cell_type": "code",
   "execution_count": 11,
   "id": "ad23d067",
   "metadata": {},
   "outputs": [
    {
     "name": "stdout",
     "output_type": "stream",
     "text": [
      "Initial blank Set: \n",
      "set()\n",
      "\n",
      " Set after additon of three elements: \n",
      "{8, 9, (6, 7)}\n",
      "\n",
      " set after addtion of 1-5 elements: \n",
      "{1, 2, 3, 4, 5, 8, 9, (6, 7)}\n"
     ]
    }
   ],
   "source": [
    "# Python program to demonstrate\n",
    "# Addition of elements in a Set\n",
    " \n",
    "# Creating a Set\n",
    "\n",
    "set1 = set()\n",
    "print(\"Initial blank Set: \")\n",
    "print(set1)\n",
    "#adding set and tuple\n",
    "set1.add(9)\n",
    "set1.add(8)\n",
    "set1.add((6,7))\n",
    "print(\"\\n Set after additon of three elements: \")\n",
    "print(set1)\n",
    "\n",
    "# Adding elements to the Set\n",
    "# using Iterator\n",
    "for i in range(1,6):\n",
    "    set1.add(i)\n",
    "print(\"\\n set after addtion of 1-5 elements: \")\n",
    "print(set1)\n",
    "    "
   ]
  },
  {
   "cell_type": "code",
   "execution_count": 12,
   "id": "f64f0b1d",
   "metadata": {},
   "outputs": [
    {
     "name": "stdout",
     "output_type": "stream",
     "text": [
      "Initial Set: \n",
      "{1, 2, 3, 4, 5, 6, 7, 8, 9, 10, 11, 12}\n",
      "\n",
      "Set after Removal of two elements: \n",
      "{1, 2, 3, 4, 7, 8, 9, 10, 11, 12}\n",
      "\n",
      "Set after Discarding two elements: \n",
      "{1, 2, 3, 4, 7, 10, 11, 12}\n",
      "\n",
      "Set after Removing a range of elements: \n",
      "{7, 10, 11, 12}\n"
     ]
    }
   ],
   "source": [
    "# Python program to demonstrate\n",
    "# Deletion of elements in a Set\n",
    "\n",
    "# Creating a Set\n",
    "set1 = set([1, 2, 3, 4, 5, 6,7, 8, 9, 10, 11, 12])\n",
    "print(\"Initial Set: \")\n",
    "print(set1)\n",
    "\n",
    "# Removing elements from Set\n",
    "# using Remove() method\n",
    "set1.remove(5)\n",
    "set1.remove(6)\n",
    "print(\"\\nSet after Removal of two elements: \")\n",
    "print(set1)\n",
    "\n",
    "# Removing elements from Set\n",
    "# using Discard() method\n",
    "set1.discard(8)\n",
    "set1.discard(9)\n",
    "print(\"\\nSet after Discarding two elements: \")\n",
    "print(set1)\n",
    "\n",
    "# Removing elements from Set\n",
    "# using iterator method\n",
    "for i in range(1, 5):\n",
    "    set1.remove(i)\n",
    "print(\"\\nSet after Removing a range of elements: \")\n",
    "print(set1)\n"
   ]
  },
  {
   "cell_type": "code",
   "execution_count": 16,
   "id": "cea26826",
   "metadata": {},
   "outputs": [
    {
     "name": "stdout",
     "output_type": "stream",
     "text": [
      "\n",
      " Initial State: \n",
      "{1, 2, 3, 4, 5, 6, 7, 8, 9, 10}\n",
      "\n",
      " Removing element from set using pop: \n",
      "{2, 3, 4, 5, 6, 7, 8, 9, 10}\n",
      "\n",
      "Set after clearing all the elements: \n",
      "set()\n"
     ]
    }
   ],
   "source": [
    "set1 = set([1,2,3,4,5,6,7,8,9,10])\n",
    "print(\"\\n Initial State: \")\n",
    "print(set1)\n",
    "\n",
    "# Removing element from the\n",
    "# Set using the pop() method\n",
    "set1.pop()\n",
    "print(\"\\n Removing element from set using pop: \")\n",
    "print(set1)\n",
    "\n",
    "# Removing all the elements from\n",
    "# Set using clear() method\n",
    "set1.clear()\n",
    "print(\"\\nSet after clearing all the elements: \")\n",
    "print(set1)"
   ]
  },
  {
   "cell_type": "code",
   "execution_count": 17,
   "id": "91c3b462",
   "metadata": {},
   "outputs": [
    {
     "name": "stdout",
     "output_type": "stream",
     "text": [
      "\n",
      " the contents of dictionary: \n",
      "{1: 'Sanket', 2: 'R', 3: 'Iyer'}\n"
     ]
    }
   ],
   "source": [
    "# Creating a Dictionary\n",
    "# with Integer Keys\n",
    "dict1 = {1:'Sanket',2:'R',3:'Iyer'}\n",
    "print(\"\\n the contents of dictionary: \")\n",
    "print(dict1)"
   ]
  },
  {
   "cell_type": "code",
   "execution_count": 19,
   "id": "d790442e",
   "metadata": {},
   "outputs": [
    {
     "name": "stdout",
     "output_type": "stream",
     "text": [
      "\n",
      " Dictionaries with each item pair: \n",
      "{1: 'Sanket', 2: 'Iyer'}\n"
     ]
    }
   ],
   "source": [
    "# Creating a Dictionary\n",
    "# with each item as a Pair\n",
    "\n",
    "Dict = dict([(1,'Sanket'),(2,'Iyer')])\n",
    "print(\"\\n Dictionaries with each item pair: \")\n",
    "print(Dict)"
   ]
  },
  {
   "cell_type": "code",
   "execution_count": 21,
   "id": "455b1ed1",
   "metadata": {},
   "outputs": [
    {
     "name": "stdout",
     "output_type": "stream",
     "text": [
      "\n",
      " the contents of dictionary: \n",
      "{1: 'Sanket', 2: 'Iyer', 3: {'A': 'apple', 'B': 'mango', 'C': 'grapes'}}\n"
     ]
    }
   ],
   "source": [
    "# Creating a Nested Dictionary\n",
    "dict1 = {1:'Sanket',2:'Iyer',3:{'A':'apple','B':'mango','C':'grapes'}}\n",
    "print(\"\\n the contents of dictionary: \")\n",
    "print(dict1)"
   ]
  },
  {
   "cell_type": "code",
   "execution_count": 28,
   "id": "8826966f",
   "metadata": {},
   "outputs": [
    {
     "name": "stdout",
     "output_type": "stream",
     "text": [
      "\n",
      " Empty Dictionary: \n",
      "{}\n",
      "\n",
      "Dictionary after adding 3 elements: \n",
      "{0: 'Sanket', 1: 'Iyer', 2: 20}\n",
      "\n",
      "Dictionary after adding 3 elements: \n",
      "{0: 'Sanket', 1: 'Iyer', 2: 20, 'Value set': (2, 3, 4)}\n",
      "\n",
      " updating Dictionary: \n",
      "{0: 'Sanket', 1: 'Iyer', 2: 'awesome', 'Value set': (2, 3, 4)}\n",
      "\n",
      " Accessing the elements of dictionary using key value: \n",
      "(2, 3, 4)\n",
      "Sanket\n",
      "\n",
      " accessing a element using get: \n",
      "awesome\n"
     ]
    }
   ],
   "source": [
    "#Empty dictionary\n",
    "Dict ={}\n",
    "print(\"\\n Empty Dictionary: \")\n",
    "print(Dict)\n",
    "#adding elements in dictionary\n",
    "Dict[0] = 'Sanket'\n",
    "Dict[1] = 'Iyer'\n",
    "Dict[2] = 20\n",
    "print(\"\\nDictionary after adding 3 elements: \")\n",
    "print(Dict)\n",
    "\n",
    "# Adding set of values\n",
    "# to a single Key\n",
    "Dict['Value set'] = 2,3,4\n",
    "print(\"\\nDictionary after adding 3 elements: \")\n",
    "print(Dict)\n",
    "\n",
    "# Updating existing Key's Value\n",
    "Dict[2] = 'awesome' \n",
    "print(\"\\n updating Dictionary: \")\n",
    "print(Dict)\n",
    "\n",
    "#Accessing the elements of dictionary\n",
    "print(\"\\n Accessing the elements of dictionary using key value: \")\n",
    "print(Dict['Value set'])\n",
    "print(Dict[0])\n",
    "\n",
    "# accessing a element using get()\n",
    "# method\n",
    "print(\"\\n accessing a element using get: \")\n",
    "print(Dict.get(2))\n"
   ]
  },
  {
   "cell_type": "code",
   "execution_count": 29,
   "id": "030dc088",
   "metadata": {},
   "outputs": [
    {
     "name": "stdout",
     "output_type": "stream",
     "text": [
      "{1: 'Python', 2: 'Java', 3: 'Ruby', 4: 'Scala'}\n",
      "{}\n",
      "Python\n",
      "dict_items([(1, 'Python'), (2, 'Java'), (3, 'Ruby'), (4, 'Scala')])\n",
      "dict_keys([1, 2, 3, 4])\n",
      "{1: 'Python', 2: 'Java', 3: 'Ruby'}\n",
      "{1: 'Python', 2: 'Java'}\n",
      "{1: 'Python', 2: 'Java', 3: 'Scala'}\n",
      "dict_values(['Python', 'Java', 'Scala'])\n"
     ]
    }
   ],
   "source": [
    "# demo for all dictionary methods\n",
    "dict1 = {1: \"Python\", 2: \"Java\", 3: \"Ruby\", 4: \"Scala\"}\n",
    "\n",
    "# copy() method\n",
    "dict2 = dict1.copy()\n",
    "print(dict2)\n",
    "\n",
    "# clear() method\n",
    "dict1.clear()\n",
    "print(dict1)\n",
    "\n",
    "# get() method\n",
    "print(dict2.get(1))\n",
    "\n",
    "# items() method\n",
    "print(dict2.items())\n",
    "\n",
    "# keys() method\n",
    "print(dict2.keys())\n",
    "\n",
    "# pop() method\n",
    "dict2.pop(4)\n",
    "print(dict2)\n",
    "\n",
    "# popitem() method\n",
    "dict2.popitem()\n",
    "print(dict2)\n",
    "\n",
    "# update() method\n",
    "dict2.update({3: \"Scala\"})\n",
    "print(dict2)\n",
    "\n",
    "# values() method\n",
    "print(dict2.values())\n"
   ]
  },
  {
   "cell_type": "code",
   "execution_count": 51,
   "id": "1e187ed7",
   "metadata": {},
   "outputs": [
    {
     "name": "stdout",
     "output_type": "stream",
     "text": [
      "Arrays before updation: 1 2 1 2 3 3 \r\n",
      "Array after updation : 1 2 6 2 3 3 \n",
      "Array after updation : 1 2 6 2 8 3 "
     ]
    }
   ],
   "source": [
    "# Python code to demonstrate\n",
    "# how to update an element in array\n",
    " \n",
    "# importing array module\n",
    "import array \n",
    "#initializing array with array values\n",
    "# initializes array with signed integers\n",
    "arr = array.array('i',[1,2,1,2,3,3,4,5])\n",
    "\n",
    "print(\"Arrays before updation: \", end=\"\")\n",
    "for i in range(0,6):\n",
    "    print(arr[i], end =\" \")\n",
    "    \n",
    "print(\"\\r\")\n",
    "# updating a element in a array\n",
    "arr[2] = 6\n",
    "print(\"Array after updation : \", end =\"\")\n",
    "for i in range (0, 6):\n",
    "    print (arr[i], end =\" \")\n",
    "print()\n",
    " \n",
    "# updating a element in a array\n",
    "arr[4] = 8\n",
    "print(\"Array after updation : \", end =\"\")\n",
    "for i in range (0, 6):\n",
    "    print (arr[i], end =\" \")\n"
   ]
  },
  {
   "cell_type": "code",
   "execution_count": 53,
   "id": "7d34bd12",
   "metadata": {},
   "outputs": [
    {
     "name": "stdout",
     "output_type": "stream",
     "text": [
      "the new created array is: 1 2 3 \n",
      "the new created array is: 1.1 2.2 3.2 \n"
     ]
    }
   ],
   "source": [
    "# Python program to demonstrate\n",
    "# Creation of Array\n",
    " \n",
    "# importing \"array\" for array creations\n",
    "import array as arr\n",
    "\n",
    "# creating an array with integer type\n",
    "a = arr.array('i',[1,2,3])\n",
    "\n",
    "# printing original array\n",
    "print(\"the new created array is:\", end =\" \")\n",
    "for i in range(0,3):\n",
    "    print(a[i], end =\" \")\n",
    "print()\n",
    "\n",
    "# creating an array with double type\n",
    "b =arr.array('d',[1.1,2.2,3.2])\n",
    "\n",
    "# printing original array\n",
    "print(\"the new created array is:\", end =\" \")\n",
    "for i in range(0,3):\n",
    "    print(b[i],end =\" \")\n",
    "print()\n"
   ]
  },
  {
   "cell_type": "code",
   "execution_count": 60,
   "id": "5d2fc9fb",
   "metadata": {},
   "outputs": [
    {
     "name": "stdout",
     "output_type": "stream",
     "text": [
      "Array before insertion: 1 2 3 \n",
      "Array after insertion:  1 4 2 3 \n",
      "Arrays before insertion:  1.1 2.2 3.3 \n",
      "Array after insertion:  1.1 2.2 3.3 4.4 \n"
     ]
    }
   ],
   "source": [
    "# importing \"array\" for array creations\n",
    "import array as arr\n",
    "\n",
    "# creating an array with integer type\n",
    "a = arr.array('i',[1,2,3])\n",
    "\n",
    "# printing original array\n",
    "print(\"Array before insertion:\", end =\" \")\n",
    "for i in range(0,3):\n",
    "    print(a[i], end =\" \")\n",
    "print()\n",
    "# inserting array using\n",
    "# insert() function\n",
    "a.insert(1,4)\n",
    "\n",
    "print(\"Array after insertion: \", end = \" \")\n",
    "for i in (a):\n",
    "    print(i,end = \" \")\n",
    "print()\n",
    "# array with float type\n",
    "b = arr.array('d',[1.1,2.2,3.3])\n",
    "print(\"Arrays before insertion: \", end =\" \")\n",
    "for i in range(0,3):\n",
    "    print(b[i], end =\" \")\n",
    "print()\n",
    "# adding an element using append()\n",
    "b.append(4.4)\n",
    "print(\"Array after insertion: \", end = \" \")\n",
    "for i in (b):\n",
    "    print(i, end = \" \")\n",
    "print()\n"
   ]
  },
  {
   "cell_type": "code",
   "execution_count": 64,
   "id": "fd7a5a6a",
   "metadata": {},
   "outputs": [
    {
     "name": "stdout",
     "output_type": "stream",
     "text": [
      "Acess element in array:  1\n",
      "Acess element in array:  4\n",
      "Acess element in array:  1.1\n",
      "Acess element in array:  4.3\n"
     ]
    }
   ],
   "source": [
    "# Python program to demonstrate\n",
    "# accessing of element from list\n",
    " \n",
    "# importing array module\n",
    "import array as arr\n",
    "\n",
    "a = arr.array('i',[1,2,3,4,5,6,7,8,9,10])\n",
    "# accessing element of array\n",
    "print(\"Acess element in array: \", a[0])\n",
    "print(\"Acess element in array: \", a[3])\n",
    "\n",
    "b = arr.array('d',[1.1,2.2,3.2,4.3,5.4,6.3])\n",
    "# accessing element of array\n",
    "print(\"Acess element in array: \", b[0])\n",
    "print(\"Acess element in array: \", b[3])\n"
   ]
  },
  {
   "cell_type": "code",
   "execution_count": 68,
   "id": "c3cc01dd",
   "metadata": {},
   "outputs": [
    {
     "name": "stdout",
     "output_type": "stream",
     "text": [
      "the new created array is:  1 2 3 4 5 \r\n",
      "the popped element is:  3\n",
      "the new array after getting popped:  1 2 4 5 \r\n",
      "the new array after removing on element:  2 4 5 \r\n"
     ]
    }
   ],
   "source": [
    "import array\n",
    "\n",
    "arr = array.array('i',[1,2,3,4,5])\n",
    "print(\"the new created array is: \", end =\" \")\n",
    "for i in range(0,5):\n",
    "    print(arr[i], end =\" \")\n",
    "print(\"\\r\")\n",
    "\n",
    "print(\"the popped element is: \", end =\" \")\n",
    "print(arr.pop(2))\n",
    "\n",
    "print(\"the new array after getting popped: \", end =\" \")\n",
    "for i in range(0,4):\n",
    "    print(arr[i], end =\" \")\n",
    "print(\"\\r\")\n",
    "\n",
    "arr.remove(1)\n",
    "\n",
    "print(\"the new array after removing on element: \", end =\" \")\n",
    "for i in range(0,3):\n",
    "    print(arr[i], end =\" \")\n",
    "print(\"\\r\")\n",
    "\n"
   ]
  },
  {
   "cell_type": "code",
   "execution_count": 70,
   "id": "10e3f5a9",
   "metadata": {},
   "outputs": [
    {
     "name": "stdout",
     "output_type": "stream",
     "text": [
      "Initial array: \n",
      "12345678910\n",
      "Slicing elements in a range 3-8: \n",
      "array('i', [4, 5, 6, 7, 8])\n"
     ]
    }
   ],
   "source": [
    "import array as arr\n",
    "\n",
    "l = [1,2,3,4,5,6,7,8,9,10]\n",
    "\n",
    "a = arr.array('i',l)\n",
    "print(\"Initial array: \")\n",
    "for i in (a):\n",
    "    print(i,end=\"\")\n",
    "# Print elements of a range\n",
    "# using Slice operation\n",
    "Sliced_array = a[3:8]\n",
    "print(\"\\nSlicing elements in a range 3-8: \")\n",
    "print(Sliced_array)\n",
    "# Print elements from a\n",
    "# pre-defined point to end\n",
    "Sliced_array = a[5:]\n",
    "print(\"\\nElements sliced from 5th \"\n",
    "      \"element till the end: \")\n",
    "print(Sliced_array)\n",
    " \n",
    "# Printing elements from\n",
    "# beginning till end\n",
    "Sliced_array = a[:]\n",
    "print(\"\\nPrinting all elements using slice operation: \")\n",
    "print(Sliced_array)"
   ]
  },
  {
   "cell_type": "code",
   "execution_count": null,
   "id": "29ed5dd7",
   "metadata": {},
   "outputs": [],
   "source": []
  }
 ],
 "metadata": {
  "kernelspec": {
   "display_name": "Python 3 (ipykernel)",
   "language": "python",
   "name": "python3"
  },
  "language_info": {
   "codemirror_mode": {
    "name": "ipython",
    "version": 3
   },
   "file_extension": ".py",
   "mimetype": "text/x-python",
   "name": "python",
   "nbconvert_exporter": "python",
   "pygments_lexer": "ipython3",
   "version": "3.11.1"
  }
 },
 "nbformat": 4,
 "nbformat_minor": 5
}

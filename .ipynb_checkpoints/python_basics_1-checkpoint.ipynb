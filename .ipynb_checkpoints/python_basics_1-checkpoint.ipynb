{
 "cells": [
  {
   "cell_type": "code",
   "execution_count": 1,
   "id": "b81e7def",
   "metadata": {},
   "outputs": [
    {
     "name": "stdout",
     "output_type": "stream",
     "text": [
      "Hello world\n"
     ]
    }
   ],
   "source": [
    "#To print something on the console, print() function is used. \n",
    "print('Hello world')"
   ]
  },
  {
   "cell_type": "code",
   "execution_count": 2,
   "id": "3a48cdab",
   "metadata": {},
   "outputs": [
    {
     "name": "stdout",
     "output_type": "stream",
     "text": [
      "3\n",
      "4.5\n",
      "helloworld\n"
     ]
    }
   ],
   "source": [
    "# Python program to declare variables\n",
    "x = 3\n",
    "print(x)\n",
    "\n",
    "y = 4.5\n",
    "print(y)\n",
    "\n",
    "z =\"helloworld\"\n",
    "print(z)\n"
   ]
  },
  {
   "cell_type": "code",
   "execution_count": 3,
   "id": "ba2bb5f1",
   "metadata": {},
   "outputs": [
    {
     "name": "stdout",
     "output_type": "stream",
     "text": [
      "[21, 40.5, 'String']\n"
     ]
    }
   ],
   "source": [
    "# Python program to illustrate a list\n",
    "\n",
    "# creates a empty list\n",
    "nums = []\n",
    "\n",
    "# appending data in list\n",
    "nums.append(21)\n",
    "nums.append(40.5)\n",
    "nums.append(\"String\")\n",
    "\n",
    "print(nums)\n"
   ]
  },
  {
   "cell_type": "code",
   "execution_count": 5,
   "id": "d07651cf",
   "metadata": {},
   "outputs": [
    {
     "name": "stdout",
     "output_type": "stream",
     "text": [
      "Enter your name: sanket\n",
      "Hello sanket\n"
     ]
    }
   ],
   "source": [
    "# Python program to illustrate\n",
    "# getting input from user\n",
    "name = input(\"Enter your name: \")\n",
    "\n",
    "# user entered the name 'harssh'\n",
    "print(\"Hello\", name)\n"
   ]
  },
  {
   "cell_type": "code",
   "execution_count": 6,
   "id": "e4efa805",
   "metadata": {},
   "outputs": [
    {
     "name": "stdout",
     "output_type": "stream",
     "text": [
      "Enter number 1: 4\n",
      "Enter number 2: 5\n",
      "Product is:  20\n"
     ]
    }
   ],
   "source": [
    "# Python3 program to get input from user\n",
    "\n",
    "# accepting integer from the user\n",
    "# the return type of input() function is string ,\n",
    "# so we need to convert the input to integer\n",
    "x = int(input(\"Enter number 1: \"))\n",
    "y = int(input(\"Enter number 2: \"))\n",
    "\n",
    "z = x * y\n",
    "print(\"Product is: \",z)"
   ]
  },
  {
   "cell_type": "code",
   "execution_count": null,
   "id": "29dc2271",
   "metadata": {},
   "outputs": [],
   "source": [
    "# Python program to illustrate\n",
    "# selection statement\n",
    "\n",
    "num1 = 34\n",
    "if(num1>12):\n",
    "    print(\"Num1 is good\")\n",
    "elif(num1>35):\n",
    "    print(\"Num2 is not gooooo....\")\n",
    "else:\n",
    "    print(\"Num2 is great\")\n"
   ]
  },
  {
   "cell_type": "code",
   "execution_count": 17,
   "id": "07762b9d",
   "metadata": {},
   "outputs": [
    {
     "name": "stdout",
     "output_type": "stream",
     "text": [
      "hello\n",
      "hello again\n",
      "hello\n",
      "hello again\n"
     ]
    }
   ],
   "source": [
    "# Python program to illustrate\n",
    "# functions\n",
    "def hello():\n",
    "    print(\"hello\")\n",
    "    print(\"hello again\")\n",
    "hello()\n",
    "\n",
    "# calling function\n",
    "hello()\n"
   ]
  },
  {
   "cell_type": "code",
   "execution_count": null,
   "id": "1dc9b472",
   "metadata": {},
   "outputs": [],
   "source": [
    "# Python program to illustrate\n",
    "# function with main\n",
    "def getInteger():\n",
    "    result = int(input(\"Enter integer: \"))\n",
    "    return result\n",
    "\n",
    "def Main():\n",
    "    print(\"Started\")\n",
    "\n",
    "# calling the getInteger function and\n",
    "# storing its returned value in the output variable\n",
    "    output = getInteger()\n",
    "    print(output)\n",
    "\n",
    "# now we are required to tell Python\n",
    "# for 'Main' function existence\n",
    "if __name__==\"__main__\":\n",
    "\tMain()\n"
   ]
  },
  {
   "cell_type": "code",
   "execution_count": 19,
   "id": "793d4ba8",
   "metadata": {},
   "outputs": [
    {
     "name": "stdout",
     "output_type": "stream",
     "text": [
      "Started\n",
      "Enter integer: 5\n",
      "5\n"
     ]
    }
   ],
   "source": [
    "def getInteger():\n",
    "    result = int(input(\"Enter integer: \"))\n",
    "    return result\n",
    "def Main():\n",
    "    print(\"Started\")\n",
    "    \n",
    "    output = getInteger()\n",
    "    print(output)\n",
    "    \n",
    "if __name__==\"__main__\":\n",
    "   Main()"
   ]
  },
  {
   "cell_type": "code",
   "execution_count": null,
   "id": "ccd1935b",
   "metadata": {},
   "outputs": [],
   "source": [
    "# Python program to illustrate\n",
    "# a simple for loop\n",
    "\n",
    "for step in range(5):\n",
    "    print(step)\n"
   ]
  },
  {
   "cell_type": "code",
   "execution_count": 20,
   "id": "ae74d350",
   "metadata": {},
   "outputs": [
    {
     "name": "stdout",
     "output_type": "stream",
     "text": [
      "0\n",
      "1\n",
      "2\n",
      "3\n",
      "4\n"
     ]
    }
   ],
   "source": [
    "for step in range(5):\n",
    "    print(step)"
   ]
  },
  {
   "cell_type": "code",
   "execution_count": null,
   "id": "3752b312",
   "metadata": {},
   "outputs": [],
   "source": [
    "# Python program to illustrate a Dictionary\n",
    "\n",
    "# creates a empty list\n",
    "Dict = []\n",
    "\n",
    "# putting integer values\n",
    "Dict = {1: 'Geeks', 2: 'For', 3: 'Geeks'}\n",
    "\n",
    "print(Dict)\n",
    "\n"
   ]
  },
  {
   "cell_type": "code",
   "execution_count": 21,
   "id": "c928c661",
   "metadata": {},
   "outputs": [
    {
     "name": "stdout",
     "output_type": "stream",
     "text": [
      "{1: 'apple', 2: 'mango', 3: 'banana'}\n"
     ]
    }
   ],
   "source": [
    "Dict = []\n",
    "\n",
    "Dict = {1:'apple',2: 'mango', 3:'banana'}\n",
    "print(Dict)"
   ]
  },
  {
   "cell_type": "code",
   "execution_count": 23,
   "id": "3f5aa659",
   "metadata": {
    "scrolled": true
   },
   "outputs": [
    {
     "name": "stdout",
     "output_type": "stream",
     "text": [
      "('aaa', 'bbb', 'ccc')\n"
     ]
    }
   ],
   "source": [
    "# Python program to illustrate a tuple\n",
    "\n",
    "# creates a tuple which is immutable\n",
    "x = ('aaa', 'bbb', 'ccc')\n",
    "\n",
    "print(x)\n"
   ]
  },
  {
   "cell_type": "code",
   "execution_count": 1,
   "id": "663db828",
   "metadata": {},
   "outputs": [
    {
     "name": "stdout",
     "output_type": "stream",
     "text": [
      "Enter number :20\n",
      "20\n",
      "Enter name : sanket\n",
      "sanket\n",
      "type of number <class 'str'>\n",
      "type of name <class 'str'>\n"
     ]
    }
   ],
   "source": [
    "# Program to check input\n",
    "# type in Python\n",
    "\n",
    "num = input (\"Enter number :\")\n",
    "print(num)\n",
    "name1 = input(\"Enter name : \")\n",
    "print(name1)\n",
    "\n",
    "# Printing type of input value\n",
    "print (\"type of number\", type(num))\n",
    "print (\"type of name\", type(name1))\n"
   ]
  },
  {
   "cell_type": "code",
   "execution_count": 2,
   "id": "e45f9da4",
   "metadata": {},
   "outputs": [
    {
     "name": "stdout",
     "output_type": "stream",
     "text": [
      "Enter a number: 20\n",
      "20   <class 'int'>\n",
      "Enter a decimal number: 20.10\n",
      "20.1   <class 'float'>\n"
     ]
    }
   ],
   "source": [
    "num = int(input(\"Enter a number: \"))\n",
    "print(num, \" \", type(num))\n",
    "\n",
    "floatNum = float(input(\"Enter a decimal number: \"))\n",
    "print(floatNum, \" \", type(floatNum))\n"
   ]
  }
 ],
 "metadata": {
  "kernelspec": {
   "display_name": "Python 3 (ipykernel)",
   "language": "python",
   "name": "python3"
  },
  "language_info": {
   "codemirror_mode": {
    "name": "ipython",
    "version": 3
   },
   "file_extension": ".py",
   "mimetype": "text/x-python",
   "name": "python",
   "nbconvert_exporter": "python",
   "pygments_lexer": "ipython3",
   "version": "3.11.1"
  }
 },
 "nbformat": 4,
 "nbformat_minor": 5
}

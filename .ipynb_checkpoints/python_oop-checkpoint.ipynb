{
 "cells": [
  {
   "cell_type": "code",
   "execution_count": 85,
   "id": "32a4c3e1",
   "metadata": {},
   "outputs": [
    {
     "name": "stdout",
     "output_type": "stream",
     "text": [
      "specs of my computer\n",
      "specs of my computer\n"
     ]
    }
   ],
   "source": [
    "#class and object\n",
    "class computer:\n",
    "    \n",
    "    def config(self):\n",
    "        print(\"specs of my computer\")\n",
    "     \n",
    "\n",
    "\n",
    "com1 = computer()\n",
    "com2 = computer()\n",
    "\n",
    "#computer.config(com1)\n",
    "#computer.config(com2)\n",
    "\n",
    "com1.config()\n",
    "com2.config()"
   ]
  },
  {
   "cell_type": "code",
   "execution_count": 19,
   "id": "dbeab9b6",
   "metadata": {},
   "outputs": [
    {
     "name": "stdout",
     "output_type": "stream",
     "text": [
      "config is:  i5 16\n",
      "config is:  Ryzen 5 8\n"
     ]
    }
   ],
   "source": [
    "#__init__\n",
    "class computer:\n",
    "    \n",
    "    def __init__(self,cpu,ram):\n",
    "        self.cpu  = cpu\n",
    "        self.ram = ram\n",
    "    \n",
    "    def config(self):\n",
    "        print(\"config is: \",self.cpu, self.ram)\n",
    "     \n",
    "\n",
    "\n",
    "    \n",
    "com1 = computer('i5',16)\n",
    "com2 = computer('Ryzen 5',8)\n",
    "\n",
    "com1.config()\n",
    "com2.config()\n",
    "\n",
    "\n"
   ]
  },
  {
   "cell_type": "code",
   "execution_count": 44,
   "id": "dcef80aa",
   "metadata": {},
   "outputs": [
    {
     "name": "stdout",
     "output_type": "stream",
     "text": [
      "they are same\n",
      "Sanket\n",
      "Sanket\n"
     ]
    }
   ],
   "source": [
    "class computer:\n",
    "    def __init__(self):\n",
    "        self.name = \"Sanket\"\n",
    "        self.age = 21\n",
    "    \n",
    "    def update(self):\n",
    "        self.age = 22\n",
    "    \n",
    "    def compare(self,other):\n",
    "        if self.age == other.age:\n",
    "            return True\n",
    "        else:\n",
    "            return False\n",
    "    \n",
    "c1 = computer()\n",
    "c2 = computer()\n",
    "\n",
    "if c1.compare(c2):\n",
    "    print(\"they are same\")\n",
    "\n",
    "\n",
    "print(c1.name)\n",
    "print(c2.name)\n",
    "\n"
   ]
  },
  {
   "cell_type": "code",
   "execution_count": 50,
   "id": "f76b42d0",
   "metadata": {},
   "outputs": [
    {
     "name": "stdout",
     "output_type": "stream",
     "text": [
      "they are different\n",
      "Sanket\n",
      "Sanket\n"
     ]
    }
   ],
   "source": [
    "class computer:\n",
    "    def __init__(self):\n",
    "        self.name = \"Sanket\"\n",
    "        self.age = 21\n",
    "    \n",
    "    \n",
    "    def compare(self,other):\n",
    "        if self.age == other.age:\n",
    "            return True\n",
    "        else:\n",
    "            return False\n",
    "    \n",
    "c1 = computer()\n",
    "c2 = computer()\n",
    "c1.age = 30\n",
    "\n",
    "if c1.compare(c2):\n",
    "    print(\"they are same\")\n",
    "else:\n",
    "    print(\"they are different\")\n",
    "\n",
    "print(c1.name)\n",
    "print(c2.name)\n",
    "\n"
   ]
  },
  {
   "cell_type": "code",
   "execution_count": 48,
   "id": "dba3ac1e",
   "metadata": {},
   "outputs": [
    {
     "name": "stdout",
     "output_type": "stream",
     "text": [
      "22\n",
      "Sanket\n"
     ]
    }
   ],
   "source": [
    "class computer:\n",
    "    def __init__(self):\n",
    "        self.name = \"Sanket\"\n",
    "        self.age = 21\n",
    "    \n",
    "    def update(self):\n",
    "        self.age = 22\n",
    "    \n",
    "    \n",
    "c1 = computer()\n",
    "c2 = computer()\n",
    "\n",
    "c1.update()\n",
    "\n",
    "\n",
    "print(c1.age)\n",
    "print(c2.name)\n",
    "\n"
   ]
  },
  {
   "cell_type": "code",
   "execution_count": 84,
   "id": "16a546be",
   "metadata": {},
   "outputs": [
    {
     "name": "stdout",
     "output_type": "stream",
     "text": [
      "Rodger is mammal\n",
      "Tommy is also a mammal\n",
      "My name is Rodger\n",
      "My name is Tommy\n"
     ]
    }
   ],
   "source": [
    "class dog:\n",
    "    \n",
    "    #class attribute\n",
    "    attr1 = \"mammal\"\n",
    "    #instance attribute\n",
    "    def __init__(self,name):\n",
    "        self.name = name\n",
    "        \n",
    "#driver code \n",
    "#Object instantiation\n",
    "\n",
    "Rodger = dog(\"Rodger\")\n",
    "Tommy = dog(\"Tommy\")\n",
    "\n",
    "#Accessing class attributes\n",
    "print(\"Rodger is {}\".format(Rodger.__class__.attr1))\n",
    "print(\"Tommy is also a {}\".format(Tommy.__class__.attr1))\n",
    "\n",
    "#Accessing instance attributes\n",
    "print(\"My name is {}\".format(Rodger.name))\n",
    "print(\"My name is {}\".format(Tommy.name))\n"
   ]
  },
  {
   "cell_type": "code",
   "execution_count": 53,
   "id": "cf440c7c",
   "metadata": {},
   "outputs": [
    {
     "name": "stdout",
     "output_type": "stream",
     "text": [
      "BMW 5 4\n",
      "BMW 10 4\n"
     ]
    }
   ],
   "source": [
    "class car:\n",
    "    wheels = 4\n",
    "    def __init__(self):\n",
    "        self.mil = 10\n",
    "        self.com = \"BMW\"\n",
    "        \n",
    "c1 = car()\n",
    "c2 = car()\n",
    "c1.mil =5\n",
    "\n",
    "print(c1.com, c1.mil, c1.wheels)\n",
    "print(c2.com, c2.mil, c1.wheels)"
   ]
  },
  {
   "cell_type": "code",
   "execution_count": 60,
   "id": "2162da56",
   "metadata": {},
   "outputs": [
    {
     "name": "stdout",
     "output_type": "stream",
     "text": [
      "Average of student 1: 50.333333333333336\n",
      "Average of student 2: 69.66666666666667\n"
     ]
    }
   ],
   "source": [
    " class student:\n",
    "        \n",
    "        school = 'sanket'\n",
    "        \n",
    "        def __init__(self,m1,m2,m3):\n",
    "            self.m1 = m1\n",
    "            self.m2 = m2\n",
    "            self.m3 = m3\n",
    "        \n",
    "        def avg(self):\n",
    "            return(self.m1 + self.m2 +self.m3)/3\n",
    "        \n",
    "        def get_m1(self):\n",
    "            return self.m1\n",
    "        \n",
    "        def set_m1(self,value):\n",
    "            self.m1 = value\n",
    "\n",
    "            \n",
    "            \n",
    "s1 = student(34,50,67)\n",
    "s2 = student(55,66,88)\n",
    "\n",
    "print(\"Average of student 1:\",s1.avg())\n",
    "print(\"Average of student 2:\",s2.avg())"
   ]
  },
  {
   "cell_type": "code",
   "execution_count": 62,
   "id": "c99ea623",
   "metadata": {},
   "outputs": [
    {
     "name": "stdout",
     "output_type": "stream",
     "text": [
      "Average of student 1: 50.333333333333336\n",
      "Average of student 2: 69.66666666666667\n",
      "sanket\n"
     ]
    }
   ],
   "source": [
    " class student:\n",
    "        \n",
    "        school = 'sanket'\n",
    "        \n",
    "        def __init__(self,m1,m2,m3):\n",
    "            self.m1 = m1\n",
    "            self.m2 = m2\n",
    "            self.m3 = m3\n",
    "        \n",
    "        def avg(self):\n",
    "            return(self.m1 + self.m2 +self.m3)/3\n",
    "        \n",
    "        @classmethod\n",
    "        def info(cls):\n",
    "            return cls.school\n",
    "            \n",
    "            \n",
    "s1 = student(34,50,67)\n",
    "s2 = student(55,66,88)\n",
    "\n",
    "print(\"Average of student 1:\",s1.avg())\n",
    "print(\"Average of student 2:\",s2.avg())\n",
    "print(student.info())"
   ]
  },
  {
   "cell_type": "code",
   "execution_count": 74,
   "id": "6b43557c",
   "metadata": {},
   "outputs": [
    {
     "name": "stdout",
     "output_type": "stream",
     "text": [
      "sanket 2\n",
      "ASUS Ryzen 5 8\n"
     ]
    }
   ],
   "source": [
    "class student:\n",
    "    \n",
    "    def __init__(self,name,rollno):\n",
    "        self.name = name\n",
    "        self.rollno = rollno\n",
    "        self.lap = self.laptop()\n",
    "    \n",
    "    def show(self):\n",
    "        print(self.name, self.rollno)\n",
    "        self.lap.show()\n",
    "    \n",
    "    class laptop:\n",
    "        \n",
    "        def __init__(self):\n",
    "            self.brand = 'ASUS'\n",
    "            self.cpu = 'Ryzen 5'\n",
    "            self.ram = 8\n",
    "        \n",
    "        def show(self):\n",
    "            print(self.brand, self.cpu, self.ram)\n",
    "            \n",
    "        \n",
    "\n",
    "s1 =student('sanket',2)\n",
    "s2 =student('gojo',2)\n",
    "\n",
    "s1.show()\n",
    "\n",
    "\n"
   ]
  },
  {
   "cell_type": "code",
   "execution_count": 80,
   "id": "061ebda2",
   "metadata": {},
   "outputs": [
    {
     "name": "stdout",
     "output_type": "stream",
     "text": [
      "Feature 1 working\n",
      "Feature 2 working\n"
     ]
    }
   ],
   "source": [
    "#inheritence\n",
    "class a:\n",
    "    def feature1(self):\n",
    "        print(\"Feature 1 working\")\n",
    "    \n",
    "    def feature2(self):\n",
    "        print(\"Feature 2 working\")\n",
    "class b(a):\n",
    "    def feature3(self):\n",
    "        print(\"Feature 3 working\")\n",
    "    \n",
    "    def feature4(self):\n",
    "        print(\"Feature 4 working\")\n",
    "    \n",
    "a1 = a()\n",
    "\n",
    "a1.feature1()\n",
    "a1.feature2()\n",
    "\n",
    "b1 = b()\n",
    "b1.feature3()\n",
    "b1.feature4()\n",
    "\n"
   ]
  },
  {
   "cell_type": "code",
   "execution_count": null,
   "id": "6ab12b4a",
   "metadata": {},
   "outputs": [],
   "source": [
    "class person(object):\n",
    "    \n",
    "    #__init__is known as the constructor\n",
    "    def __init__(self, name, idnumber):\n",
    "        self.name = name\n",
    "        self.idnumber = idnumber\n",
    "    \n",
    "    def display(self):\n",
    "        print(self.name)\n",
    "        print(self.idnumber)\n",
    "        \n",
    "    def details(self):\n",
    "        print(\"My name is {}\".format(self.name))\n",
    "        print(\"Idnumber: {}\".format(self.idnumber))\n",
    "        \n",
    "#child class\n",
    "class employee(person):\n",
    "    def __init__(self,name,idnumber,salary,post):\n",
    "        self.salary = salary\n",
    "        self.post = post\n",
    "        \n",
    "        #invoking the __init__ of the parent class\n",
    "        person.__init__(self,name,id)\n",
    "    "
   ]
  },
  {
   "cell_type": "code",
   "execution_count": 94,
   "id": "b07fc717",
   "metadata": {},
   "outputs": [
    {
     "name": "stdout",
     "output_type": "stream",
     "text": [
      "aaa\n",
      "None\n"
     ]
    }
   ],
   "source": [
    "class a:\n",
    "    def __init__(self)\n",
    "    var = 'p'\n",
    "    def fun1(self):\n",
    "        print(\"aaa\")\n",
    "        \n",
    "obj = a()\n",
    "ss= obj.fun1()\n",
    "\n",
    "print(ss)"
   ]
  },
  {
   "cell_type": "code",
   "execution_count": 96,
   "id": "32ce2721",
   "metadata": {},
   "outputs": [
    {
     "name": "stdout",
     "output_type": "stream",
     "text": [
      "aaa\n",
      "None\n"
     ]
    }
   ],
   "source": [
    "class a:\n",
    "    var = 'p'\n",
    "    def fun1():\n",
    "        print(\"aaa\")\n",
    "        \n",
    "# obj = a()\n",
    "# ss= obj.fun1()\n",
    "obj = a.fun1()\n",
    "\n",
    "print(obj)"
   ]
  },
  {
   "cell_type": "code",
   "execution_count": null,
   "id": "f57e2615",
   "metadata": {},
   "outputs": [],
   "source": []
  }
 ],
 "metadata": {
  "kernelspec": {
   "display_name": "Python 3 (ipykernel)",
   "language": "python",
   "name": "python3"
  },
  "language_info": {
   "codemirror_mode": {
    "name": "ipython",
    "version": 3
   },
   "file_extension": ".py",
   "mimetype": "text/x-python",
   "name": "python",
   "nbconvert_exporter": "python",
   "pygments_lexer": "ipython3",
   "version": "3.11.1"
  }
 },
 "nbformat": 4,
 "nbformat_minor": 5
}

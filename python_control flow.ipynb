{
 "cells": [
  {
   "cell_type": "code",
   "execution_count": 1,
   "id": "89a91d47",
   "metadata": {},
   "outputs": [
    {
     "name": "stdout",
     "output_type": "stream",
     "text": [
      "odd\n"
     ]
    }
   ],
   "source": [
    "x = 9\n",
    "r = x%2\n",
    "\n",
    "if r==0:\n",
    "    print(\"even\")\n",
    "\n",
    "if r==1:\n",
    "    print(\"odd\")"
   ]
  },
  {
   "cell_type": "code",
   "execution_count": 2,
   "id": "73fd526f",
   "metadata": {},
   "outputs": [
    {
     "name": "stdout",
     "output_type": "stream",
     "text": [
      "odd\n"
     ]
    }
   ],
   "source": [
    "x = 9\n",
    "r = x%2\n",
    "\n",
    "if r==0:\n",
    "    print(\"even\")\n",
    "else:\n",
    "    print(\"odd\")"
   ]
  },
  {
   "cell_type": "code",
   "execution_count": 5,
   "id": "71b3106e",
   "metadata": {},
   "outputs": [
    {
     "name": "stdout",
     "output_type": "stream",
     "text": [
      "even\n",
      "hmmmm\n"
     ]
    }
   ],
   "source": [
    "x = 4\n",
    "r = x%2\n",
    "\n",
    "if r==0:\n",
    "    print(\"even\")\n",
    "    if x>5:\n",
    "        print(\"Great\")\n",
    "    else:\n",
    "        print(\"hmmmm\")\n",
    "\n",
    "if r==1:\n",
    "    print(\"odd\")"
   ]
  },
  {
   "cell_type": "code",
   "execution_count": 15,
   "id": "8d3a3c6a",
   "metadata": {},
   "outputs": [
    {
     "name": "stdout",
     "output_type": "stream",
     "text": [
      "hello world\n",
      "hello world\n",
      "hello world\n",
      "hello world\n"
     ]
    }
   ],
   "source": [
    "#while loop\n",
    "\n",
    "a = 0\n",
    "while (a<=3):\n",
    "    a = a+1\n",
    "    print(\"hello world\")"
   ]
  },
  {
   "cell_type": "code",
   "execution_count": 16,
   "id": "01f11c91",
   "metadata": {},
   "outputs": [
    {
     "name": "stdout",
     "output_type": "stream",
     "text": [
      "hello world\n",
      "hello world\n",
      "hello world\n",
      "hello world\n",
      "bye\n"
     ]
    }
   ],
   "source": [
    "#combining else with while\n",
    "a = 0\n",
    "while (a<=3):\n",
    "    a = a+1\n",
    "    print(\"hello world\")\n",
    "else:\n",
    "    print(\"bye\")"
   ]
  },
  {
   "cell_type": "code",
   "execution_count": 20,
   "id": "4a16de42",
   "metadata": {},
   "outputs": [
    {
     "name": "stdout",
     "output_type": "stream",
     "text": [
      "0\n",
      "1\n",
      "2\n",
      "3\n"
     ]
    }
   ],
   "source": [
    "#for loop\n",
    "n = 4\n",
    "for i in range(0,n):\n",
    "    print(i)"
   ]
  },
  {
   "cell_type": "code",
   "execution_count": 25,
   "id": "e7fe7afb",
   "metadata": {},
   "outputs": [
    {
     "name": "stdout",
     "output_type": "stream",
     "text": [
      "List Iteration\n",
      "sanket\n",
      "R\n",
      "iyer\n",
      "\n",
      " tuple iterartion\n",
      "sanket\n",
      "R\n",
      "iyer\n",
      "\n",
      " String iteration\n",
      "S\n",
      "a\n",
      "n\n",
      "k\n",
      "e\n",
      "t\n",
      "\n",
      " Dictionary Iteration\n",
      "xyz 123\n",
      "abc 345\n"
     ]
    }
   ],
   "source": [
    "# Iterating over a list\n",
    "print(\"List Iteration\")\n",
    "l = [\"sanket\",\"R\",\"iyer\"]\n",
    "for i in l:\n",
    "    print(i)\n",
    "    \n",
    "print(\"\\n tuple iterartion\")\n",
    "t = (\"sanket\",\"R\",\"iyer\")\n",
    "for i in t:\n",
    "    print(i)\n",
    "\n",
    "print(\"\\n String iteration\")\n",
    "s =\"Sanket\"\n",
    "for i in s:\n",
    "    print(i)\n",
    "    \n",
    "print(\"\\n Dictionary Iteration\")\n",
    "d = dict()\n",
    "d['xyz']= 123\n",
    "d['abc']= 345\n",
    "for i in d:\n",
    "    print(\"%s %d\" %(i,d[i]))\n",
    "    "
   ]
  },
  {
   "cell_type": "code",
   "execution_count": 3,
   "id": "f89f4d72",
   "metadata": {},
   "outputs": [
    {
     "name": "stdout",
     "output_type": "stream",
     "text": [
      "1\n",
      "22\n",
      "333\n",
      "4444\n"
     ]
    }
   ],
   "source": [
    "#nested while loop\n",
    "from __future__ import print_function\n",
    "for i in range (1,5):\n",
    "    for j in range(i):\n",
    "        print(i,end='')\n",
    "    print()"
   ]
  },
  {
   "cell_type": "code",
   "execution_count": 5,
   "id": "70bc52bf",
   "metadata": {},
   "outputs": [
    {
     "name": "stdout",
     "output_type": "stream",
     "text": [
      " wht is your age:\n",
      "18\n",
      "we will think about it\n"
     ]
    }
   ],
   "source": [
    "print(\" wht is your age:\")\n",
    "age = int(input(\"\"))\n",
    "\n",
    "if age < 18:\n",
    "    print(\"You can not drive\")\n",
    "elif age == 18:\n",
    "    print(\"we will think about it\")\n",
    "else:\n",
    "    print(\"you can drive\")\n"
   ]
  },
  {
   "cell_type": "code",
   "execution_count": 12,
   "id": "6e4c24b7",
   "metadata": {},
   "outputs": [
    {
     "name": "stdout",
     "output_type": "stream",
     "text": [
      "how many candies you want: 6\n",
      "candy\n",
      "candy\n",
      "candy\n",
      "candy\n",
      "candy\n",
      "out of stock\n",
      "bye\n"
     ]
    }
   ],
   "source": [
    "#break\n",
    "av = 5\n",
    "x = int(input(\"how many candies you want: \"))\n",
    "\n",
    "i = 1\n",
    "while i <= x:\n",
    "    \n",
    "    if i > av:\n",
    "        print(\"out of stock\")\n",
    "        break\n",
    "        \n",
    "    print(\"candy\")\n",
    "    i +=1\n",
    "print(\"bye\")"
   ]
  },
  {
   "cell_type": "code",
   "execution_count": 21,
   "id": "f6f9654e",
   "metadata": {},
   "outputs": [
    {
     "name": "stdout",
     "output_type": "stream",
     "text": [
      "1\n",
      "2\n",
      "4\n",
      "7\n",
      "8\n",
      "11\n",
      "13\n",
      "14\n",
      "16\n",
      "17\n",
      "19\n",
      "bye\n"
     ]
    }
   ],
   "source": [
    "#continue\n",
    "for i in range(1,20):\n",
    "    \n",
    "    if i%3 == 0 or i%5 == 0:\n",
    "        continue\n",
    "        \n",
    "    print(i)   \n",
    "    \n",
    "print(\"bye\")\n"
   ]
  },
  {
   "cell_type": "code",
   "execution_count": 19,
   "id": "c39e3ebd",
   "metadata": {},
   "outputs": [
    {
     "name": "stdout",
     "output_type": "stream",
     "text": [
      "1\n",
      "3\n",
      "5\n",
      "7\n",
      "9\n",
      "bye\n"
     ]
    }
   ],
   "source": [
    "for i in range(1,10):\n",
    "    \n",
    "    if i%2 == 0:\n",
    "        pass\n",
    "    else:\n",
    "        print(i)\n",
    "\n",
    "print(\"bye\")"
   ]
  },
  {
   "cell_type": "code",
   "execution_count": 23,
   "id": "f744b897",
   "metadata": {},
   "outputs": [
    {
     "name": "stdout",
     "output_type": "stream",
     "text": [
      "hello 0\n",
      "hello 1\n",
      "hello 2\n",
      "hello 4\n"
     ]
    }
   ],
   "source": [
    "for i in range(5):\n",
    "    \n",
    "    if i==3:\n",
    "        continue\n",
    "    print(\"hello\",i)"
   ]
  },
  {
   "cell_type": "code",
   "execution_count": 24,
   "id": "2ab25551",
   "metadata": {},
   "outputs": [
    {
     "name": "stdout",
     "output_type": "stream",
     "text": [
      "hello 0\n",
      "hello 1\n",
      "hello 2\n"
     ]
    }
   ],
   "source": [
    "for i in range(5):\n",
    "    \n",
    "    if i==3:\n",
    "        break\n",
    "    print(\"hello\",i)"
   ]
  },
  {
   "cell_type": "code",
   "execution_count": 28,
   "id": "3193e336",
   "metadata": {},
   "outputs": [],
   "source": [
    "print(\"#\")"
   ]
  },
  {
   "cell_type": "code",
   "execution_count": 33,
   "id": "69a5057a",
   "metadata": {},
   "outputs": [
    {
     "name": "stdout",
     "output_type": "stream",
     "text": [
      "* \n",
      "* * \n",
      "* * * \n",
      "* * * * \n"
     ]
    }
   ],
   "source": [
    "for i in range(4):\n",
    "    for j in range(i+1):\n",
    "        print(\"*\",end=\" \")\n",
    "    \n",
    "    print()"
   ]
  },
  {
   "cell_type": "code",
   "execution_count": 34,
   "id": "01516e32",
   "metadata": {},
   "outputs": [
    {
     "name": "stdout",
     "output_type": "stream",
     "text": [
      "* * * * \n",
      "* * * \n",
      "* * \n",
      "* \n"
     ]
    }
   ],
   "source": [
    "for i in range(4):\n",
    "    for j in range(4-i):\n",
    "        print(\"*\",end=\" \")\n",
    "    \n",
    "    print()"
   ]
  },
  {
   "cell_type": "code",
   "execution_count": 41,
   "id": "27055c00",
   "metadata": {},
   "outputs": [
    {
     "name": "stdout",
     "output_type": "stream",
     "text": [
      "****\n",
      "****\n",
      "****\n",
      "****\n"
     ]
    }
   ],
   "source": [
    "for i in range(4):\n",
    "    for j in range(4):\n",
    "        print(\"*\",end=\"\")\n",
    "    print('')"
   ]
  },
  {
   "cell_type": "code",
   "execution_count": 43,
   "id": "dce9285e",
   "metadata": {},
   "outputs": [
    {
     "name": "stdout",
     "output_type": "stream",
     "text": [
      "1 \n",
      "1 2 \n",
      "1 2 3 \n",
      "1 2 3 4 \n",
      "1 2 3 4 5 \n"
     ]
    }
   ],
   "source": [
    "rows = 5\n",
    "for i in range(1,rows+1):\n",
    "    for j in range(1,i+1):\n",
    "        print(j,end=\" \")\n",
    "    \n",
    "    print('')"
   ]
  },
  {
   "cell_type": "code",
   "execution_count": 38,
   "id": "265fa5b1",
   "metadata": {},
   "outputs": [
    {
     "name": "stdout",
     "output_type": "stream",
     "text": [
      "1\n",
      "11\n",
      "111\n",
      "1111\n"
     ]
    }
   ],
   "source": [
    "for i in range(4):\n",
    "    for j in range(i+1):\n",
    "        print(\"1\",end =\"\")\n",
    "        \n",
    "    print()"
   ]
  },
  {
   "cell_type": "code",
   "execution_count": 48,
   "id": "7841f265",
   "metadata": {},
   "outputs": [
    {
     "name": "stdout",
     "output_type": "stream",
     "text": [
      "not found\n"
     ]
    }
   ],
   "source": [
    "nums = [12,16,18,21,26]\n",
    "\n",
    "for num in nums:\n",
    "    \n",
    "    if num%5==0:\n",
    "        print(num)\n",
    "        break\n",
    "else:\n",
    "    print(\"not found\")\n",
    "        "
   ]
  },
  {
   "cell_type": "code",
   "execution_count": 51,
   "id": "ac5c6ef6",
   "metadata": {},
   "outputs": [
    {
     "name": "stdout",
     "output_type": "stream",
     "text": [
      "not prime\n"
     ]
    }
   ],
   "source": [
    "num = 10\n",
    "for i in range(2,num):\n",
    "    if num%i == 0:\n",
    "        print(\"not prime\")\n",
    "        break\n",
    "else:\n",
    "    print(\"prime no.\")"
   ]
  },
  {
   "cell_type": "code",
   "execution_count": 52,
   "id": "a8d4a680",
   "metadata": {},
   "outputs": [
    {
     "name": "stdout",
     "output_type": "stream",
     "text": [
      "0 the\n",
      "1 big\n",
      "2 bang\n",
      "3 theory\n"
     ]
    }
   ],
   "source": [
    "#looping techniques\n",
    "#enumerate()\n",
    "\n",
    "for key, value in enumerate(['the','big','bang','theory']):\n",
    "    print(key,value)"
   ]
  },
  {
   "cell_type": "code",
   "execution_count": 55,
   "id": "24a7ccca",
   "metadata": {},
   "outputs": [
    {
     "name": "stdout",
     "output_type": "stream",
     "text": [
      "what is your name? I am apple.\n",
      "what is your colour? I am red.\n",
      "what is your shape? I am a circle.\n"
     ]
    }
   ],
   "source": [
    " #using zip() to combine two containers and print values\n",
    "questions = ['name','colour','shape']\n",
    "answers = ['apple','red','a circle']\n",
    "for question, answer in zip(questions, answers):\n",
    "    print('what is your {0}? I am {1}.'.format(question, answer))"
   ]
  },
  {
   "cell_type": "code",
   "execution_count": null,
   "id": "a82d8af4",
   "metadata": {},
   "outputs": [],
   "source": []
  }
 ],
 "metadata": {
  "kernelspec": {
   "display_name": "Python 3 (ipykernel)",
   "language": "python",
   "name": "python3"
  },
  "language_info": {
   "codemirror_mode": {
    "name": "ipython",
    "version": 3
   },
   "file_extension": ".py",
   "mimetype": "text/x-python",
   "name": "python",
   "nbconvert_exporter": "python",
   "pygments_lexer": "ipython3",
   "version": "3.11.1"
  }
 },
 "nbformat": 4,
 "nbformat_minor": 5
}

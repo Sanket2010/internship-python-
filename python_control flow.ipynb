{
 "cells": [
  {
   "cell_type": "code",
   "execution_count": 1,
   "id": "89a91d47",
   "metadata": {},
   "outputs": [
    {
     "name": "stdout",
     "output_type": "stream",
     "text": [
      "odd\n"
     ]
    }
   ],
   "source": [
    "x = 9\n",
    "r = x%2\n",
    "\n",
    "if r==0:\n",
    "    print(\"even\")\n",
    "\n",
    "if r==1:\n",
    "    print(\"odd\")"
   ]
  },
  {
   "cell_type": "code",
   "execution_count": 2,
   "id": "73fd526f",
   "metadata": {},
   "outputs": [
    {
     "name": "stdout",
     "output_type": "stream",
     "text": [
      "odd\n"
     ]
    }
   ],
   "source": [
    "x = 9\n",
    "r = x%2\n",
    "\n",
    "if r==0:\n",
    "    print(\"even\")\n",
    "else:\n",
    "    print(\"odd\")"
   ]
  },
  {
   "cell_type": "code",
   "execution_count": 5,
   "id": "71b3106e",
   "metadata": {},
   "outputs": [
    {
     "name": "stdout",
     "output_type": "stream",
     "text": [
      "even\n",
      "hmmmm\n"
     ]
    }
   ],
   "source": [
    "x = 4\n",
    "r = x%2\n",
    "\n",
    "if r==0:\n",
    "    print(\"even\")\n",
    "    if x>5:\n",
    "        print(\"Great\")\n",
    "    else:\n",
    "        print(\"hmmmm\")\n",
    "\n",
    "if r==1:\n",
    "    print(\"odd\")"
   ]
  },
  {
   "cell_type": "code",
   "execution_count": 15,
   "id": "8d3a3c6a",
   "metadata": {},
   "outputs": [
    {
     "name": "stdout",
     "output_type": "stream",
     "text": [
      "hello world\n",
      "hello world\n",
      "hello world\n",
      "hello world\n"
     ]
    }
   ],
   "source": [
    "#while loop\n",
    "\n",
    "a = 0\n",
    "while (a<=3):\n",
    "    a = a+1\n",
    "    print(\"hello world\")"
   ]
  },
  {
   "cell_type": "code",
   "execution_count": 16,
   "id": "01f11c91",
   "metadata": {},
   "outputs": [
    {
     "name": "stdout",
     "output_type": "stream",
     "text": [
      "hello world\n",
      "hello world\n",
      "hello world\n",
      "hello world\n",
      "bye\n"
     ]
    }
   ],
   "source": [
    "#combining else with while\n",
    "a = 0\n",
    "while (a<=3):\n",
    "    a = a+1\n",
    "    print(\"hello world\")\n",
    "else:\n",
    "    print(\"bye\")"
   ]
  },
  {
   "cell_type": "code",
   "execution_count": 20,
   "id": "4a16de42",
   "metadata": {},
   "outputs": [
    {
     "name": "stdout",
     "output_type": "stream",
     "text": [
      "0\n",
      "1\n",
      "2\n",
      "3\n"
     ]
    }
   ],
   "source": [
    "#for loop\n",
    "n = 4\n",
    "for i in range(0,n):\n",
    "    print(i)"
   ]
  },
  {
   "cell_type": "code",
   "execution_count": 25,
   "id": "e7fe7afb",
   "metadata": {},
   "outputs": [
    {
     "name": "stdout",
     "output_type": "stream",
     "text": [
      "List Iteration\n",
      "sanket\n",
      "R\n",
      "iyer\n",
      "\n",
      " tuple iterartion\n",
      "sanket\n",
      "R\n",
      "iyer\n",
      "\n",
      " String iteration\n",
      "S\n",
      "a\n",
      "n\n",
      "k\n",
      "e\n",
      "t\n",
      "\n",
      " Dictionary Iteration\n",
      "xyz 123\n",
      "abc 345\n"
     ]
    }
   ],
   "source": [
    "# Iterating over a list\n",
    "print(\"List Iteration\")\n",
    "l = [\"sanket\",\"R\",\"iyer\"]\n",
    "for i in l:\n",
    "    print(i)\n",
    "    \n",
    "print(\"\\n tuple iterartion\")\n",
    "t = (\"sanket\",\"R\",\"iyer\")\n",
    "for i in t:\n",
    "    print(i)\n",
    "\n",
    "print(\"\\n String iteration\")\n",
    "s =\"Sanket\"\n",
    "for i in s:\n",
    "    print(i)\n",
    "    \n",
    "print(\"\\n Dictionary Iteration\")\n",
    "d = dict()\n",
    "d['xyz']= 123\n",
    "d['abc']= 345\n",
    "for i in d:\n",
    "    print(\"%s %d\" %(i,d[i]))\n",
    "    "
   ]
  },
  {
   "cell_type": "code",
   "execution_count": null,
   "id": "f89f4d72",
   "metadata": {},
   "outputs": [],
   "source": []
  }
 ],
 "metadata": {
  "kernelspec": {
   "display_name": "Python 3 (ipykernel)",
   "language": "python",
   "name": "python3"
  },
  "language_info": {
   "codemirror_mode": {
    "name": "ipython",
    "version": 3
   },
   "file_extension": ".py",
   "mimetype": "text/x-python",
   "name": "python",
   "nbconvert_exporter": "python",
   "pygments_lexer": "ipython3",
   "version": "3.11.1"
  }
 },
 "nbformat": 4,
 "nbformat_minor": 5
}

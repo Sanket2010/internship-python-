{
 "cells": [
  {
   "cell_type": "code",
   "execution_count": 85,
   "id": "3c2e48c2",
   "metadata": {},
   "outputs": [
    {
     "name": "stdout",
     "output_type": "stream",
     "text": [
      "specs of my computer\n",
      "specs of my computer\n"
     ]
    }
   ],
   "source": [
    "#class and object\n",
    "class computer:\n",
    "    \n",
    "    def config(self):\n",
    "        print(\"specs of my computer\")\n",
    "     \n",
    "\n",
    "\n",
    "com1 = computer()\n",
    "com2 = computer()\n",
    "\n",
    "#computer.config(com1)\n",
    "#computer.config(com2)\n",
    "\n",
    "com1.config()\n",
    "com2.config()"
   ]
  },
  {
   "cell_type": "code",
   "execution_count": 19,
   "id": "b9e0c6b8",
   "metadata": {},
   "outputs": [
    {
     "name": "stdout",
     "output_type": "stream",
     "text": [
      "config is:  i5 16\n",
      "config is:  Ryzen 5 8\n"
     ]
    }
   ],
   "source": [
    "#__init__\n",
    "class computer:\n",
    "    \n",
    "    def __init__(self,cpu,ram):\n",
    "        self.cpu  = cpu\n",
    "        self.ram = ram\n",
    "    \n",
    "    def config(self):\n",
    "        print(\"config is: \",self.cpu, self.ram)\n",
    "     \n",
    "\n",
    "\n",
    "    \n",
    "com1 = computer('i5',16)\n",
    "com2 = computer('Ryzen 5',8)\n",
    "\n",
    "com1.config()\n",
    "com2.config()\n",
    "\n",
    "\n"
   ]
  },
  {
   "cell_type": "code",
   "execution_count": 44,
   "id": "c1047918",
   "metadata": {},
   "outputs": [
    {
     "name": "stdout",
     "output_type": "stream",
     "text": [
      "they are same\n",
      "Sanket\n",
      "Sanket\n"
     ]
    }
   ],
   "source": [
    "class computer:\n",
    "    def __init__(self):\n",
    "        self.name = \"Sanket\"\n",
    "        self.age = 21\n",
    "    \n",
    "    def update(self):\n",
    "        self.age = 22\n",
    "    \n",
    "    def compare(self,other):\n",
    "        if self.age == other.age:\n",
    "            return True\n",
    "        else:\n",
    "            return False\n",
    "    \n",
    "c1 = computer()\n",
    "c2 = computer()\n",
    "\n",
    "if c1.compare(c2):\n",
    "    print(\"they are same\")\n",
    "\n",
    "\n",
    "print(c1.name)\n",
    "print(c2.name)\n",
    "\n"
   ]
  },
  {
   "cell_type": "code",
   "execution_count": 50,
   "id": "7340bf6e",
   "metadata": {},
   "outputs": [
    {
     "name": "stdout",
     "output_type": "stream",
     "text": [
      "they are different\n",
      "Sanket\n",
      "Sanket\n"
     ]
    }
   ],
   "source": [
    "class computer:\n",
    "    def __init__(self):\n",
    "        self.name = \"Sanket\"\n",
    "        self.age = 21\n",
    "    \n",
    "    \n",
    "    def compare(self,other):\n",
    "        if self.age == other.age:\n",
    "            return True\n",
    "        else:\n",
    "            return False\n",
    "    \n",
    "c1 = computer()\n",
    "c2 = computer()\n",
    "c1.age = 30\n",
    "\n",
    "if c1.compare(c2):\n",
    "    print(\"they are same\")\n",
    "else:\n",
    "    print(\"they are different\")\n",
    "\n",
    "print(c1.name)\n",
    "print(c2.name)\n",
    "\n"
   ]
  },
  {
   "cell_type": "code",
   "execution_count": 48,
   "id": "0bc781ae",
   "metadata": {},
   "outputs": [
    {
     "name": "stdout",
     "output_type": "stream",
     "text": [
      "22\n",
      "Sanket\n"
     ]
    }
   ],
   "source": [
    "class computer:\n",
    "    def __init__(self):\n",
    "        self.name = \"Sanket\"\n",
    "        self.age = 21\n",
    "    \n",
    "    def update(self):\n",
    "        self.age = 22\n",
    "    \n",
    "    \n",
    "c1 = computer()\n",
    "c2 = computer()\n",
    "\n",
    "c1.update()\n",
    "\n",
    "\n",
    "print(c1.age)\n",
    "print(c2.name)\n",
    "\n"
   ]
  },
  {
   "cell_type": "code",
   "execution_count": 84,
   "id": "ea0fb567",
   "metadata": {},
   "outputs": [
    {
     "name": "stdout",
     "output_type": "stream",
     "text": [
      "Rodger is mammal\n",
      "Tommy is also a mammal\n",
      "My name is Rodger\n",
      "My name is Tommy\n"
     ]
    }
   ],
   "source": [
    "class dog:\n",
    "    \n",
    "    #class attribute\n",
    "    attr1 = \"mammal\"\n",
    "    #instance attribute\n",
    "    def __init__(self,name):\n",
    "        self.name = name\n",
    "        \n",
    "#driver code \n",
    "#Object instantiation\n",
    "\n",
    "Rodger = dog(\"Rodger\")\n",
    "Tommy = dog(\"Tommy\")\n",
    "\n",
    "#Accessing class attributes\n",
    "print(\"Rodger is {}\".format(Rodger.__class__.attr1))\n",
    "print(\"Tommy is also a {}\".format(Tommy.__class__.attr1))\n",
    "\n",
    "#Accessing instance attributes\n",
    "print(\"My name is {}\".format(Rodger.name))\n",
    "print(\"My name is {}\".format(Tommy.name))\n"
   ]
  },
  {
   "cell_type": "code",
   "execution_count": 53,
   "id": "68adfdd7",
   "metadata": {},
   "outputs": [
    {
     "name": "stdout",
     "output_type": "stream",
     "text": [
      "BMW 5 4\n",
      "BMW 10 4\n"
     ]
    }
   ],
   "source": [
    "class car:\n",
    "    wheels = 4\n",
    "    def __init__(self):\n",
    "        self.mil = 10\n",
    "        self.com = \"BMW\"\n",
    "        \n",
    "c1 = car()\n",
    "c2 = car()\n",
    "c1.mil =5\n",
    "\n",
    "print(c1.com, c1.mil, c1.wheels)\n",
    "print(c2.com, c2.mil, c1.wheels)"
   ]
  },
  {
   "cell_type": "code",
   "execution_count": 59,
   "id": "615490f1",
   "metadata": {},
   "outputs": [
    {
     "name": "stdout",
     "output_type": "stream",
     "text": [
      "Average of student 1: 50.333333333333336\n",
      "Average of student 2: 69.66666666666667\n"
     ]
    }
   ],
   "source": [
    " class student:\n",
    "        \n",
    "        school = 'sanket'\n",
    "        \n",
    "        def __init__(self,m1,m2,m3):\n",
    "            self.m1 = m1\n",
    "            self.m2 = m2\n",
    "            self.m3 = m3\n",
    "        \n",
    "        def avg(self):\n",
    "            return(self.m1 + self.m2 + self.m3)/3\n",
    "        \n",
    "        def get_m1(self):\n",
    "            return self.m1\n",
    "        \n",
    "        def set_m1(self,value):\n",
    "            self.m1 = value\n",
    "\n",
    "            \n",
    "            \n",
    "s1 = student(34,50,67)\n",
    "s2 = student(55,66,88)\n",
    "\n",
    "print(\"Average of student 1:\",s1.avg())\n",
    "print(\"Average of student 2:\",s2.avg())"
   ]
  },
  {
   "cell_type": "code",
   "execution_count": 62,
   "id": "f4f89cde",
   "metadata": {},
   "outputs": [
    {
     "name": "stdout",
     "output_type": "stream",
     "text": [
      "Average of student 1: 50.333333333333336\n",
      "Average of student 2: 69.66666666666667\n",
      "sanket\n"
     ]
    }
   ],
   "source": [
    " class student:\n",
    "        \n",
    "        school = 'sanket'\n",
    "        \n",
    "        def __init__(self,m1,m2,m3):\n",
    "            self.m1 = m1\n",
    "            self.m2 = m2\n",
    "            self.m3 = m3\n",
    "        \n",
    "        def avg(self):\n",
    "            return(self.m1 + self.m2 +self.m3)/3\n",
    "        \n",
    "        @classmethod\n",
    "        def info(cls):\n",
    "            return cls.school\n",
    "            \n",
    "            \n",
    "s1 = student(34,50,67)\n",
    "s2 = student(55,66,88)\n",
    "\n",
    "print(\"Average of student 1:\",s1.avg())\n",
    "print(\"Average of student 2:\",s2.avg())\n",
    "print(student.info())"
   ]
  },
  {
   "cell_type": "code",
   "execution_count": 74,
   "id": "03922317",
   "metadata": {},
   "outputs": [
    {
     "name": "stdout",
     "output_type": "stream",
     "text": [
      "sanket 2\n",
      "ASUS Ryzen 5 8\n"
     ]
    }
   ],
   "source": [
    "class student:\n",
    "    \n",
    "    def __init__(self,name,rollno):\n",
    "        self.name = name\n",
    "        self.rollno = rollno\n",
    "        self.lap = self.laptop()\n",
    "    \n",
    "    def show(self):\n",
    "        print(self.name, self.rollno)\n",
    "        self.lap.show()\n",
    "    \n",
    "    class laptop:\n",
    "        \n",
    "        def __init__(self):\n",
    "            self.brand = 'ASUS'\n",
    "            self.cpu = 'Ryzen 5'\n",
    "            self.ram = 8\n",
    "        \n",
    "        def show(self):\n",
    "            print(self.brand, self.cpu, self.ram)\n",
    "            \n",
    "        \n",
    "\n",
    "s1 =student('sanket',2)\n",
    "s2 =student('gojo',2)\n",
    "\n",
    "s1.show()\n",
    "\n",
    "\n"
   ]
  },
  {
   "cell_type": "code",
   "execution_count": 104,
   "id": "ad7b3837",
   "metadata": {},
   "outputs": [
    {
     "name": "stdout",
     "output_type": "stream",
     "text": [
      "Feature 1 working\n",
      "None\n",
      "Feature 2 working\n",
      "Feature 3 working\n",
      "Feature 4 working\n"
     ]
    }
   ],
   "source": [
    "#inheritence\n",
    "class a:\n",
    "    def feature1(self):\n",
    "        print(\"Feature 1 working\")\n",
    "    \n",
    "    def feature2(self):\n",
    "        print(\"Feature 2 working\")\n",
    "class b(a):\n",
    "    def feature3(self):\n",
    "        print(\"Feature 3 working\")\n",
    "    \n",
    "    def feature4(self):\n",
    "        print(\"Feature 4 working\")\n",
    "    \n",
    "a1 = a()\n",
    "\n",
    "print(a1.feature1())\n",
    "a1.feature2()\n",
    "\n",
    "b1 = b()\n",
    "b1.feature3()\n",
    "b1.feature4()\n",
    "\n"
   ]
  },
  {
   "cell_type": "code",
   "execution_count": 118,
   "id": "48e63961",
   "metadata": {},
   "outputs": [
    {
     "name": "stdout",
     "output_type": "stream",
     "text": [
      "Sanket\n",
      "12345\n",
      "My name is Sanket\n",
      "Idnumber is 12345\n",
      "Post: Intern\n"
     ]
    }
   ],
   "source": [
    "class person(object):\n",
    "    \n",
    "    #__init__is known as the constructor\n",
    "    def __init__(self, name, idnumber):\n",
    "        self.name = name\n",
    "        self.idnumber = idnumber\n",
    "    \n",
    "    def display(self):\n",
    "        print(self.name)\n",
    "        print(self.idnumber)\n",
    "        \n",
    "    def details(self):\n",
    "        print(\"My name is {}\".format(self.name))\n",
    "        print(\"Idnumber: {}\".format(self.idnumber))\n",
    "        \n",
    "#child class\n",
    "class employee(person):\n",
    "    def __init__(self,name,idnumber,salary,post):\n",
    "        self.salary = salary\n",
    "        self.post = post\n",
    "        \n",
    "        #invoking the __init__ of the parent class\n",
    "        person.__init__(self,name,idnumber)\n",
    "        \n",
    "    def details(self):\n",
    "        print(\"My name is {}\".format(self.name))\n",
    "        print(\"Idnumber is {}\".format(self.idnumber))\n",
    "        print(\"Post: {}\".format(self.post))\n",
    "        \n",
    "#creation of an object variable or an instance\n",
    "\n",
    "a = employee('Sanket', 12345,23455,\"Intern\")\n",
    "\n",
    "#calling a function of the class person using\n",
    "#its instance\n",
    "\n",
    "a.display()\n",
    "a.details()\n",
    "        \n",
    "    "
   ]
  },
  {
   "cell_type": "code",
   "execution_count": 18,
   "id": "f6c0f45a",
   "metadata": {},
   "outputs": [
    {
     "name": "stdout",
     "output_type": "stream",
     "text": [
      "p\n",
      "aaa\n"
     ]
    }
   ],
   "source": [
    "class a:\n",
    "    def __init__(self):\n",
    "        var = 'p'\n",
    "        print(var)\n",
    "    def fun1(self):\n",
    "        print(\"aaa\")\n",
    "        \n",
    "obj = a()\n",
    "ss= obj.fun1()\n",
    "\n",
    "# print(ss)"
   ]
  },
  {
   "cell_type": "code",
   "execution_count": 100,
   "id": "df449c3a",
   "metadata": {},
   "outputs": [
    {
     "name": "stdout",
     "output_type": "stream",
     "text": [
      "aaa\n",
      "None\n"
     ]
    }
   ],
   "source": [
    "class a:\n",
    "    var = 'p'\n",
    "    def fun1():\n",
    "        print(\"aaa\")\n",
    "        \n",
    "# obj = a()\n",
    "# ss= obj.fun1()\n",
    "obj = a.fun1()\n",
    "# obj = a.var\n",
    "\n",
    "print(obj)"
   ]
  },
  {
   "cell_type": "code",
   "execution_count": 109,
   "id": "1da806d1",
   "metadata": {},
   "outputs": [
    {
     "name": "stdout",
     "output_type": "stream",
     "text": [
      "hello 5\n",
      "hello 5\n"
     ]
    }
   ],
   "source": []
  },
  {
   "cell_type": "code",
   "execution_count": 1,
   "id": "e214aac2",
   "metadata": {},
   "outputs": [
    {
     "name": "stdout",
     "output_type": "stream",
     "text": [
      "[1, 3, 5, 7, 9, 11, 13, 15, 17, 19, 21, 23, 25, 27, 29, 31, 33, 35, 37, 39, 41, 43, 45, 47, 49, 51, 53, 55, 57, 59, 61, 63, 65, 67, 69, 71, 73, 75, 77, 79, 81, 83, 85, 87, 89, 91, 93, 95, 97, 99]\n"
     ]
    }
   ],
   "source": [
    "lst = [x for x in range(101)]\n",
    "print(lst[1:101:2])\n"
   ]
  },
  {
   "cell_type": "code",
   "execution_count": 11,
   "id": "fa7ca238",
   "metadata": {},
   "outputs": [
    {
     "name": "stdout",
     "output_type": "stream",
     "text": [
      "8.99\n",
      "Kenwood\n",
      "12.75\n",
      "Models: Kenwood = 12.75, Hamilton = 14.55 \n",
      "Models: Kenwood = 12.75, Hamilton = 14.55\n",
      "False\n",
      "False\n"
     ]
    }
   ],
   "source": [
    "class Kettle(object):\n",
    "    \n",
    "    def __init__(self,make,price):\n",
    "        self.make = make\n",
    "        self.price = price\n",
    "        self.on = False\n",
    "        \n",
    "    def switch(self):\n",
    "        self.on = True\n",
    "\n",
    "kenwood = Kettle(\"Kenwood\",8.99)\n",
    "print(kenwood.price)\n",
    "print(kenwood.make)\n",
    "\n",
    "kenwood.price = 12.75\n",
    "print(kenwood.price)\n",
    "\n",
    "hamilton =Kettle(\"Hamilton\",14.55)\n",
    "\n",
    "print(\"Models: {} = {}, {} = {} \".format(kenwood.make,kenwood.price,hamilton.make,hamilton.price))\n",
    "print(\"Models: {0.make} = {0.price}, {1.make} = {1.price}\".format(kenwood,hamilton))\n",
    "\n",
    "print(hamilton.on)\n",
    "# hamilton.switch_on()\n",
    "print(hamilton.on)"
   ]
  },
  {
   "cell_type": "code",
   "execution_count": 36,
   "id": "4fe4205f",
   "metadata": {},
   "outputs": [
    {
     "name": "stdout",
     "output_type": "stream",
     "text": [
      "in c init\n"
     ]
    }
   ],
   "source": [
    "#inheritence\n",
    "class a:\n",
    "    \n",
    "    def __init__(self):\n",
    "        print(\"in A init\")\n",
    "    \n",
    "    def feature1(self):\n",
    "        print(\"Feature 1 working\")\n",
    "    \n",
    "    def feature2(self):\n",
    "        print(\"Feature 2 working\")\n",
    "class b():\n",
    "    \n",
    "    def __init__(self):\n",
    "#         super().__init__()\n",
    "        print(\"in b init\")\n",
    "    \n",
    "    \n",
    "    def feature3(self):\n",
    "        print(\"Feature 3 working\")\n",
    "    \n",
    "    def feature4(self):\n",
    "        print(\"Feature 4 working\")\n",
    "        \n",
    "class c(a,b):\n",
    "     \n",
    "    def __init__(self):\n",
    "        super().__init__()\n",
    "        print(\"in c init\")\n",
    "    \n",
    "    \n",
    "    \n",
    "# a1 = b()\n",
    "a1 =c()\n",
    "\n",
    "# print(a1.feature1())\n",
    "# a1.feature2()\n",
    "\n",
    "# b1 = b()\n",
    "# b1.feature3()\n",
    "# b1.feature4()\n",
    "\n"
   ]
  },
  {
   "cell_type": "code",
   "execution_count": 54,
   "id": "bf76c878",
   "metadata": {},
   "outputs": [
    {
     "name": "stdout",
     "output_type": "stream",
     "text": [
      "list containing even no.:  [2, 6, 8, 4]\n",
      "list containing doubles no.:  [4, 12, 16, 8]\n",
      "sum of the content of the list:  44\n"
     ]
    }
   ],
   "source": [
    "#lambda function\n",
    "\n",
    "from functools import reduce\n",
    "nums = [3,2,6,8,9,7,4,5]\n",
    "#filter\n",
    "evens = list(filter(lambda n:n%2==0,nums))\n",
    "#map\n",
    "doubles = list(map(lambda n:n*2,evens))\n",
    "#reduce\n",
    "sums = reduce(lambda a,b:a+b,nums)\n",
    "print(\"list containing even no.: \",evens)\n",
    "print(\"list containing doubles no.: \",doubles)\n",
    "print(\"sum of the content of the list: \",sums)"
   ]
  },
  {
   "cell_type": "code",
   "execution_count": 57,
   "id": "c0d36fe5",
   "metadata": {},
   "outputs": [
    {
     "name": "stdout",
     "output_type": "stream",
     "text": [
      "Compiling\n",
      "Running\n"
     ]
    }
   ],
   "source": [
    "class jupyter:\n",
    "    \n",
    "    def execute(self):\n",
    "        print(\"Compiling\")\n",
    "        print(\"Running\")\n",
    "        \n",
    "\n",
    "\n",
    "class laptop:\n",
    "    \n",
    "    def code(self,ide):\n",
    "        ide.execute()\n",
    "        \n",
    "ide = jupyter()\n",
    "\n",
    "lap1 = laptop()\n",
    "lap2 = laptop()\n",
    "\n",
    "lap1.code(ide)\n"
   ]
  },
  {
   "cell_type": "code",
   "execution_count": 3,
   "id": "c4caa179",
   "metadata": {},
   "outputs": [
    {
     "name": "stdout",
     "output_type": "stream",
     "text": [
      "[2, 4, 6, 8, 10]\n"
     ]
    }
   ],
   "source": [
    "lst1=[1,2,3,4,5,6,7,8,9,10]\n",
    "def even(n):\n",
    "    list2= []\n",
    "    for i in n:\n",
    "        if i%2==0:\n",
    "            list2.append(i)\n",
    "    return list2\n",
    "            \n",
    "list2 = even(lst1)\n",
    "print(list2)\n",
    "        \n",
    "        \n",
    "\n",
    "\n",
    "\n",
    "    "
   ]
  },
  {
   "cell_type": "code",
   "execution_count": 75,
   "id": "5e42c19a",
   "metadata": {},
   "outputs": [
    {
     "name": "stdout",
     "output_type": "stream",
     "text": [
      "[2, 4, 6, 8, 10]\n"
     ]
    }
   ],
   "source": [
    "lst1=[1,2,3,4,5,6,7,8,9,10]\n",
    "print(lst1[1:10:2])"
   ]
  },
  {
   "cell_type": "code",
   "execution_count": null,
   "id": "06eddc66",
   "metadata": {},
   "outputs": [],
   "source": []
  }
 ],
 "metadata": {
  "kernelspec": {
   "display_name": "Python 3 (ipykernel)",
   "language": "python",
   "name": "python3"
  },
  "language_info": {
   "codemirror_mode": {
    "name": "ipython",
    "version": 3
   },
   "file_extension": ".py",
   "mimetype": "text/x-python",
   "name": "python",
   "nbconvert_exporter": "python",
   "pygments_lexer": "ipython3",
   "version": "3.11.1"
  }
 },
 "nbformat": 4,
 "nbformat_minor": 5
}

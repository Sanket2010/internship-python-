{
 "cells": [
  {
   "cell_type": "code",
   "execution_count": 2,
   "id": "0ebe3dda",
   "metadata": {},
   "outputs": [
    {
     "name": "stdout",
     "output_type": "stream",
     "text": [
      "Enter first no: 10\n",
      "Enter second no: 0\n",
      "Cant divide to zero...!\n",
      "Sanket\n"
     ]
    }
   ],
   "source": [
    "a = int(input(\"Enter first no: \"))\n",
    "b = int(input(\"Enter second no: \"))\n",
    "try:    \n",
    "    c= a/b\n",
    "    print(\"Result: \",c)\n",
    "except:\n",
    "    print(\"Cant divide to zero...!\")\n",
    "print(\"Sanket\")"
   ]
  },
  {
   "cell_type": "code",
   "execution_count": 8,
   "id": "bc9287da",
   "metadata": {},
   "outputs": [
    {
     "name": "stdout",
     "output_type": "stream",
     "text": [
      "SanketIyer\n",
      "\n",
      "IyerSanket\n",
      "\n",
      "Sanket\n",
      "Iyer\n",
      "Sanket\n",
      "Iyer\n",
      "SanketIyer\n",
      "\n"
     ]
    }
   ],
   "source": [
    "# multithreading\n",
    "from time import sleep\n",
    "from threading import Thread\n",
    "class A(Thread):\n",
    "    def run(self):\n",
    "        for i in range(5):\n",
    "            print(\"Sanket\")\n",
    "            sleep(1)\n",
    "\n",
    "class B(Thread):\n",
    "    def run(self):\n",
    "        for i in range(5):\n",
    "            print(\"Iyer\")\n",
    "            sleep(1)\n",
    "\n",
    "t1 =A()\n",
    "t2 =B()\n",
    "\n",
    "t1.start()\n",
    "t2.start()"
   ]
  },
  {
   "cell_type": "code",
   "execution_count": null,
   "id": "5ae3fac8",
   "metadata": {},
   "outputs": [],
   "source": []
  }
 ],
 "metadata": {
  "kernelspec": {
   "display_name": "Python 3 (ipykernel)",
   "language": "python",
   "name": "python3"
  },
  "language_info": {
   "codemirror_mode": {
    "name": "ipython",
    "version": 3
   },
   "file_extension": ".py",
   "mimetype": "text/x-python",
   "name": "python",
   "nbconvert_exporter": "python",
   "pygments_lexer": "ipython3",
   "version": "3.11.1"
  }
 },
 "nbformat": 4,
 "nbformat_minor": 5
}

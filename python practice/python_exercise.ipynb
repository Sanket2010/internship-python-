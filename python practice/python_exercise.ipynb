{
 "cells": [
  {
   "cell_type": "code",
   "execution_count": 1,
   "id": "02f4349f",
   "metadata": {},
   "outputs": [
    {
     "name": "stdout",
     "output_type": "stream",
     "text": [
      "Current date and time: \n",
      "2023-02-06 10:35:20\n"
     ]
    }
   ],
   "source": [
    "#print current date and time\n",
    "import datetime as d\n",
    "now = d.datetime.now()\n",
    "print(\"Current date and time: \")\n",
    "print(now.strftime(\"%Y-%m-%d %H:%M:%S\"))"
   ]
  },
  {
   "cell_type": "code",
   "execution_count": null,
   "id": "d99e0d6f",
   "metadata": {},
   "outputs": [],
   "source": [
    "r = float(input(\"Enter the radius:\"))\n",
    "a = 3.14*r*r\n",
    "print(\"Area of the circle:\",a)"
   ]
  },
  {
   "cell_type": "code",
   "execution_count": 1,
   "id": "120637ab",
   "metadata": {},
   "outputs": [
    {
     "name": "stdout",
     "output_type": "stream",
     "text": [
      "240 18\n"
     ]
    }
   ],
   "source": [
    "# Create a Class with instance attributes\n",
    "class Vehicle:\n",
    "    \n",
    "    def __init__(self,max_speed,mileage):\n",
    "        self.max_speed = max_speed\n",
    "        self.mileage = mileage\n",
    "        \n",
    "modelx = Vehicle(240,18)\n",
    "# modely = Vehicle(210,20)\n",
    "print(modelx.max_speed, modelx.mileage)\n",
    "\n",
    "        "
   ]
  },
  {
   "cell_type": "code",
   "execution_count": 2,
   "id": "8c0442a2",
   "metadata": {},
   "outputs": [],
   "source": [
    "#  Create a Vehicle class without any variables and methods\n",
    "\n",
    "class vehicle:\n",
    "    pass\n"
   ]
  },
  {
   "cell_type": "code",
   "execution_count": 5,
   "id": "963c3c98",
   "metadata": {},
   "outputs": [
    {
     "name": "stdout",
     "output_type": "stream",
     "text": [
      "Vehicle namme:  School Volvo Speed:  180 Mileage 12\n"
     ]
    }
   ],
   "source": [
    "# Create a child class Bus that will inherit all of the variables and methods of the Vehicle class\n",
    "class Vehicle:\n",
    "\n",
    "    def __init__(self, name, max_speed, mileage):\n",
    "        self.name = name\n",
    "        self.max_speed = max_speed\n",
    "        self.mileage = mileage\n",
    "        \n",
    "\n",
    "        \n",
    "class bus(Vehicle):\n",
    "    pass\n",
    "    \n",
    "\n",
    "school_bus = bus(\"School Volvo\",180,12)\n",
    "print(\"Vehicle namme: \",school_bus.name,\"Speed: \",school_bus.max_speed,\"Mileage\",school_bus.mileage)\n",
    "\n",
    "    "
   ]
  },
  {
   "cell_type": "code",
   "execution_count": null,
   "id": "08f7bd91",
   "metadata": {},
   "outputs": [],
   "source": [
    "# Create a Bus class that inherits from the Vehicle class. Give the capacity argument of Bus.seating_capacity() a default value of 50.\n",
    "class Vehicle:\n",
    "    def __init__(self, name, max_speed, mileage):\n",
    "        self.name = name\n",
    "        self.max_speed = max_speed\n",
    "        self.mileage = mileage\n",
    "\n",
    "    def seating_capacity(self, capacity):\n",
    "        return f\"The seating capacity of a {self.name} is {capacity} passengers\"\n",
    "\n",
    "        \n",
    "class bus(Vehicle):\n",
    "    pass\n",
    "    \n",
    "\n",
    "school_bus = bus(\"School Volvo\",180,12)\n",
    "print(\"Vehicle namme: \",school_bus.name,\"Speed: \",school_bus.max_speed,\"Mileage\",school_bus.mileage)\n",
    "\n",
    "\n",
    "\n",
    "\n",
    "\n",
    "\n",
    "\n",
    "\n",
    "# The seating capacity of a bus is 50 passengers"
   ]
  },
  {
   "cell_type": "code",
   "execution_count": 8,
   "id": "53410a20",
   "metadata": {},
   "outputs": [
    {
     "name": "stdout",
     "output_type": "stream",
     "text": [
      "Sanket 21\n"
     ]
    }
   ],
   "source": [
    "# Write a program to create a function that takes two arguments, name and age, and print their value.\n",
    "def person(name,age):\n",
    "    print(name, age)\n",
    "    \n",
    "person(\"Sanket\",21)"
   ]
  },
  {
   "cell_type": "code",
   "execution_count": 11,
   "id": "332542ea",
   "metadata": {},
   "outputs": [
    {
     "name": "stdout",
     "output_type": "stream",
     "text": [
      "Printing values\n",
      "20\n",
      "40\n",
      "60\n",
      "Printing values\n",
      "80\n",
      "100\n"
     ]
    }
   ],
   "source": [
    "def fun1(*args):\n",
    "    for i in args:\n",
    "        print(i)\n",
    "\n",
    "# call function with 3 arguments\n",
    "fun1(\"Printing values: \",20, 40, 60)\n",
    "\n",
    "# call function with 2 arguments\n",
    "fun1(\"Printing values: \",80, 100)\n"
   ]
  },
  {
   "cell_type": "code",
   "execution_count": 14,
   "id": "8b1ef27e",
   "metadata": {},
   "outputs": [
    {
     "name": "stdout",
     "output_type": "stream",
     "text": [
      "(50, 30)\n"
     ]
    }
   ],
   "source": [
    "def calculation(a, b):\n",
    "    # Your Code\n",
    "    return a+b,a-b\n",
    "\n",
    "res = calculation(40, 10)\n",
    "print(res)"
   ]
  },
  {
   "cell_type": "code",
   "execution_count": 15,
   "id": "91df6485",
   "metadata": {},
   "outputs": [
    {
     "name": "stdout",
     "output_type": "stream",
     "text": [
      "(50, 30)\n"
     ]
    }
   ],
   "source": [
    "def calculation(a, b):\n",
    "    # Your Code\n",
    "    add = a+b\n",
    "    sub = a-b\n",
    "    return add,sub\n",
    "\n",
    "res = calculation(40, 10)\n",
    "print(res)"
   ]
  },
  {
   "cell_type": "code",
   "execution_count": 17,
   "id": "c9d59fd9",
   "metadata": {},
   "outputs": [
    {
     "name": "stdout",
     "output_type": "stream",
     "text": [
      "Name: Ben salary: 12000\n",
      "Name: Jessa salary: 9000\n"
     ]
    }
   ],
   "source": [
    "def show_employee(name,salary=9000):\n",
    "    \n",
    "    print(\"Name:\",name,\"salary:\",salary)\n",
    "    \n",
    "    \n",
    "show_employee(\"Ben\", 12000)\n",
    "show_employee(\"Jessa\")"
   ]
  },
  {
   "cell_type": "code",
   "execution_count": 20,
   "id": "97edeceb",
   "metadata": {},
   "outputs": [
    {
     "name": "stdout",
     "output_type": "stream",
     "text": [
      "35\n"
     ]
    }
   ],
   "source": [
    "def demo(a,b):\n",
    "    \n",
    "    def addition(a,b):\n",
    "        return a+b\n",
    "    add = addition(a,b)\n",
    "    return add+5\n",
    "\n",
    "result = demo(10,20)\n",
    "print(result)"
   ]
  },
  {
   "cell_type": "code",
   "execution_count": 23,
   "id": "9706d9d3",
   "metadata": {},
   "outputs": [
    {
     "name": "stdout",
     "output_type": "stream",
     "text": [
      "55\n"
     ]
    }
   ],
   "source": [
    "def fun1(num):\n",
    "    if num:\n",
    "        return num + fun1(num -1)\n",
    "    else:\n",
    "        return 0\n",
    "    \n",
    "res = fun1(10)\n",
    "print(res)\n",
    "        "
   ]
  },
  {
   "cell_type": "code",
   "execution_count": 31,
   "id": "fbe415d9",
   "metadata": {},
   "outputs": [
    {
     "name": "stdout",
     "output_type": "stream",
     "text": [
      "Sanket 21\n",
      "Iyer 22\n"
     ]
    }
   ],
   "source": [
    "def display_student(name, age):\n",
    "    print(name,age)\n",
    "\n",
    "\n",
    "display_student(\"Sanket\",21)\n",
    "\n",
    "show_student = display_student\n",
    "\n",
    "show_student(\"Iyer\",22)\n",
    "\n",
    "\n"
   ]
  },
  {
   "cell_type": "code",
   "execution_count": 36,
   "id": "b08e8cf6",
   "metadata": {},
   "outputs": [
    {
     "name": "stdout",
     "output_type": "stream",
     "text": [
      "[4, 6, 8, 10, 12, 14, 16, 18, 20, 22, 24, 26, 28]\n",
      "[4, 6, 8, 10, 12, 14, 16, 18, 20, 22, 24, 26, 28]\n"
     ]
    }
   ],
   "source": [
    "lst = [4, 6, 8, 10, 12, 14, 16, 18, 20, 22, 24, 26, 28]\n",
    "filter(lambda n:n%2==0,lst)\n",
    "print(lst)\n",
    "\n",
    "print(list(range(4,30,2)))"
   ]
  },
  {
   "cell_type": "code",
   "execution_count": 38,
   "id": "1ec0a05a",
   "metadata": {},
   "outputs": [
    {
     "name": "stdout",
     "output_type": "stream",
     "text": [
      "24\n"
     ]
    }
   ],
   "source": [
    "x = [4, 6, 8, 24, 12, 2]\n",
    "\n",
    "print(max(x))"
   ]
  },
  {
   "cell_type": "code",
   "execution_count": 39,
   "id": "9520f2b4",
   "metadata": {},
   "outputs": [
    {
     "name": "stdout",
     "output_type": "stream",
     "text": [
      "15\n"
     ]
    }
   ],
   "source": [
    "def outer_fun(a, b):\n",
    "    def inner_fun(c, d):\n",
    "        return c + d\n",
    "\n",
    "    return inner_fun(a, b)\n",
    "    return a\n",
    "\n",
    "result = outer_fun(5, 10)\n",
    "print(result)\n"
   ]
  },
  {
   "cell_type": "code",
   "execution_count": 40,
   "id": "922905ea",
   "metadata": {},
   "outputs": [
    {
     "name": "stdout",
     "output_type": "stream",
     "text": [
      "15\n"
     ]
    }
   ],
   "source": [
    "def outer_fun(a, b):\n",
    "    def inner_fun(c, d):\n",
    "        return c + d\n",
    "    return inner_fun(a, b)\n",
    "\n",
    "res = outer_fun(5, 10)\n",
    "print(res)"
   ]
  },
  {
   "cell_type": "code",
   "execution_count": 43,
   "id": "41a9d4aa",
   "metadata": {},
   "outputs": [
    {
     "name": "stdout",
     "output_type": "stream",
     "text": [
      "(12, 2, 35)\n"
     ]
    }
   ],
   "source": [
    "def fun1(a,b):\n",
    "    add = a+b\n",
    "    sub = a-b\n",
    "    mul = a*b\n",
    "    return add,sub,mul\n",
    "\n",
    "res =fun1(7,5)\n",
    "print(res)\n",
    "    "
   ]
  },
  {
   "cell_type": "code",
   "execution_count": 47,
   "id": "6d5f5462",
   "metadata": {},
   "outputs": [
    {
     "name": "stdout",
     "output_type": "stream",
     "text": [
      "Enter the value 1: 7\n",
      "Enter the value 2: 5\n",
      "sum is = 12 ,\n",
      "subtraction is = 2,\n",
      "multiplication is = 35\n"
     ]
    }
   ],
   "source": [
    "def fun1(a,b):\n",
    "    add = a+b\n",
    "    sub = a-b\n",
    "    mul = a*b\n",
    "    print(\"sum is = {} ,\\nsubtraction is = {},\\nmultiplication is = {}\".format(add,sub,mul))\n",
    "\n",
    "a = int(input(\"Enter the value 1: \"))\n",
    "b = int(input(\"Enter the value 2: \"))\n",
    "\n",
    "fun1(a,b)"
   ]
  },
  {
   "cell_type": "code",
   "execution_count": 51,
   "id": "baa2ff6a",
   "metadata": {},
   "outputs": [
    {
     "name": "stdout",
     "output_type": "stream",
     "text": [
      "Enter roll no.: 22\n",
      "Roll no number 22 is absent\n"
     ]
    }
   ],
   "source": [
    "def detail(roll):\n",
    "    x =[23,34,12,40]\n",
    "    if roll in x:\n",
    "        print(f\"Roll no number {roll} is present\")\n",
    "    else:\n",
    "        print(f\"Roll no number {roll} is absent\")\n",
    "\n",
    "roll = int(input(\"Enter roll no.: \"))\n",
    "detail(roll)\n",
    "        "
   ]
  },
  {
   "cell_type": "code",
   "execution_count": 54,
   "id": "27783cf5",
   "metadata": {},
   "outputs": [
    {
     "name": "stdout",
     "output_type": "stream",
     "text": [
      "Value of a: 30\n",
      "Value of b: 22\n",
      "Value of c: 18\n",
      "30 is maximum among all\n"
     ]
    }
   ],
   "source": [
    "def fun1(a,b,c):\n",
    "    if a>b & a>c:\n",
    "        print(f\"{a} is maximum among all\")\n",
    "    elif b>a & b>c:\n",
    "        print(f\"{b} is maximum among all\")\n",
    "    else:\n",
    "        print(f\"{c} is maximum among all\")\n",
    "\n",
    "a = int(input(\"Value of a: \"))\n",
    "b = int(input(\"Value of b: \"))\n",
    "c = int(input(\"Value of c: \"))\n",
    "\n",
    "fun1(a,b,c)"
   ]
  },
  {
   "cell_type": "code",
   "execution_count": 55,
   "id": "221ef65f",
   "metadata": {},
   "outputs": [
    {
     "name": "stdout",
     "output_type": "stream",
     "text": [
      "Enter the value: 4\n",
      "4 is even\n"
     ]
    }
   ],
   "source": [
    "def fun1(n):\n",
    "    if n%2==0:\n",
    "        print(f\"{n} is even\")\n",
    "    else:\n",
    "        print(f\"{n} is odd\")\n",
    "        \n",
    "n=int(input(\"Enter the value: \"))\n",
    "\n",
    "fun1(n)"
   ]
  },
  {
   "cell_type": "code",
   "execution_count": 56,
   "id": "567e97ec",
   "metadata": {},
   "outputs": [
    {
     "name": "stdout",
     "output_type": "stream",
     "text": [
      "Enter the word: sanket\n",
      "Count of vowels is  2\n",
      "Count of consonent is  4\n"
     ]
    }
   ],
   "source": [
    "def count(val):\n",
    "    \n",
    "    vov = 0\n",
    "    con = 0\n",
    "    \n",
    "    for i in range(len(val)):\n",
    "        \n",
    "        if val[i] in ['a','e','i','o','u']:\n",
    "            vov = vov+1\n",
    "        else:\n",
    "            con = con+1\n",
    "\n",
    "    print(\"Count of vowels is \",vov)\n",
    "    print(\"Count of consonent is \",con)\n",
    "\n",
    "x=input(\"Enter the word: \")\n",
    "count(x)"
   ]
  },
  {
   "cell_type": "code",
   "execution_count": 58,
   "id": "5da7bbb7",
   "metadata": {},
   "outputs": [
    {
     "name": "stdout",
     "output_type": "stream",
     "text": [
      "Enter teh value: 6\n",
      "720\n"
     ]
    }
   ],
   "source": [
    "#factorial\n",
    "def fact(n):\n",
    "    f = 1\n",
    "    \n",
    "    for i in range(1,n+1):\n",
    "        f = f*i\n",
    "        \n",
    "    return f\n",
    "\n",
    "x = int(input(\"Enter teh value: \"))\n",
    "\n",
    "result = fact(x)\n",
    "\n",
    "print(result)"
   ]
  },
  {
   "cell_type": "code",
   "execution_count": 59,
   "id": "3ceb9899",
   "metadata": {},
   "outputs": [
    {
     "name": "stdout",
     "output_type": "stream",
     "text": [
      "Enter the string: sanket\n",
      "SANKET\n"
     ]
    }
   ],
   "source": [
    "def response(text):\n",
    "    z = text.upper()\n",
    "    print(z)\n",
    "    \n",
    "text = input(\"Enter the string: \")\n",
    "response(text)"
   ]
  },
  {
   "cell_type": "code",
   "execution_count": 61,
   "id": "f79ac57b",
   "metadata": {},
   "outputs": [
    {
     "name": "stdout",
     "output_type": "stream",
     "text": [
      "Enter the radius:4\n",
      "Area of the circle is:  50.24\n"
     ]
    }
   ],
   "source": [
    "def circle(r):\n",
    "    a = 3.14*r**2\n",
    "    print(\"Area of the circle is: \",a)\n",
    "\n",
    "r =float(input(\"Enter the radius:\"))\n",
    "circle(r)"
   ]
  },
  {
   "cell_type": "code",
   "execution_count": 63,
   "id": "bbfcf546",
   "metadata": {},
   "outputs": [
    {
     "name": "stdout",
     "output_type": "stream",
     "text": [
      "Enter Radius: 4\n",
      "Area of the circle is:  50.24\n"
     ]
    }
   ],
   "source": [
    "def area(radius):\n",
    "    area = 3.14*radius*radius\n",
    "    return area\n",
    "\n",
    "radius = int(input(\"Enter Radius: \"))  # 4\n",
    "print(\"Area of the circle is: \",area(radius))"
   ]
  },
  {
   "cell_type": "code",
   "execution_count": 64,
   "id": "9d2658db",
   "metadata": {},
   "outputs": [
    {
     "name": "stdout",
     "output_type": "stream",
     "text": [
      "Enter the value: 5\n",
      "Factorial is 120\n"
     ]
    }
   ],
   "source": [
    "n = int(input(\"Enter the value: \"))\n",
    "\n",
    "if (n==0 or n<0):\n",
    "    print(\"Value of n should be greater than 1 \")\n",
    "else:\n",
    "    fact = 1\n",
    "    while(n):\n",
    "        fact *=n\n",
    "        n=n-1\n",
    "    print(f\"Factorial is {fact}\")"
   ]
  },
  {
   "cell_type": "code",
   "execution_count": 1,
   "id": "de21ea5d",
   "metadata": {},
   "outputs": [
    {
     "name": "stdout",
     "output_type": "stream",
     "text": [
      "Enter the first no.: 3\n",
      "Enter the second no.: 3\n",
      "3 3\n"
     ]
    }
   ],
   "source": [
    "a = int(input(\"Enter the first no.: \"))\n",
    "b = int(input(\"Enter the second no.: \"))\n",
    "print(a,b)"
   ]
  },
  {
   "cell_type": "code",
   "execution_count": 2,
   "id": "894e0e4d",
   "metadata": {},
   "outputs": [
    {
     "name": "stdout",
     "output_type": "stream",
     "text": [
      "my**Name**is**Sanket\n"
     ]
    }
   ],
   "source": [
    "print('my','Name','is','Sanket',sep='**')"
   ]
  },
  {
   "cell_type": "code",
   "execution_count": 3,
   "id": "344ea9ce",
   "metadata": {},
   "outputs": [
    {
     "name": "stdout",
     "output_type": "stream",
     "text": [
      "10\n"
     ]
    }
   ],
   "source": [
    "num = 8\n",
    "print('%o' % num)"
   ]
  },
  {
   "cell_type": "code",
   "execution_count": 7,
   "id": "2ebe958d",
   "metadata": {},
   "outputs": [
    {
     "name": "stdout",
     "output_type": "stream",
     "text": [
      "458.54\n"
     ]
    }
   ],
   "source": [
    "num = 458.541315\n",
    "print('%.2f'% num)"
   ]
  },
  {
   "cell_type": "code",
   "execution_count": null,
   "id": "b19670f9",
   "metadata": {},
   "outputs": [],
   "source": []
  }
 ],
 "metadata": {
  "kernelspec": {
   "display_name": "Python 3 (ipykernel)",
   "language": "python",
   "name": "python3"
  },
  "language_info": {
   "codemirror_mode": {
    "name": "ipython",
    "version": 3
   },
   "file_extension": ".py",
   "mimetype": "text/x-python",
   "name": "python",
   "nbconvert_exporter": "python",
   "pygments_lexer": "ipython3",
   "version": "3.11.1"
  }
 },
 "nbformat": 4,
 "nbformat_minor": 5
}

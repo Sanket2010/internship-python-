{
 "cells": [
  {
   "cell_type": "markdown",
   "id": "2c6313aa",
   "metadata": {},
   "source": []
  },
  {
   "cell_type": "code",
   "execution_count": null,
   "id": "948a222d",
   "metadata": {},
   "outputs": [],
   "source": [
    "#print current date and time\n",
    "import datetime as d\n",
    "now = d.datetime.now()\n",
    "print(\"Current date and time: \")\n",
    "print(now.strftime(\"%Y-%m-%d %H:%M:%S\"))"
   ]
  },
  {
   "cell_type": "code",
   "execution_count": null,
   "id": "d99e0d6f",
   "metadata": {},
   "outputs": [],
   "source": [
    "r = float(input(\"Enter the radius:\"))\n",
    "a = 3.14*r*r\n",
    "print(\"Area of the circle:\",a)"
   ]
  },
  {
   "cell_type": "code",
   "execution_count": 1,
   "id": "120637ab",
   "metadata": {},
   "outputs": [
    {
     "name": "stdout",
     "output_type": "stream",
     "text": [
      "240 18\n"
     ]
    }
   ],
   "source": [
    "# Create a Class with instance attributes\n",
    "class Vehicle:\n",
    "    \n",
    "    def __init__(self,max_speed,mileage):\n",
    "        self.max_speed = max_speed\n",
    "        self.mileage = mileage\n",
    "        \n",
    "modelx = Vehicle(240,18)\n",
    "# modely = Vehicle(210,20)\n",
    "print(modelx.max_speed, modelx.mileage)\n",
    "\n",
    "        "
   ]
  },
  {
   "cell_type": "code",
   "execution_count": 2,
   "id": "8c0442a2",
   "metadata": {},
   "outputs": [],
   "source": [
    "#  Create a Vehicle class without any variables and methods\n",
    "\n",
    "class vehicle:\n",
    "    pass\n"
   ]
  },
  {
   "cell_type": "code",
   "execution_count": 5,
   "id": "963c3c98",
   "metadata": {},
   "outputs": [
    {
     "name": "stdout",
     "output_type": "stream",
     "text": [
      "Vehicle namme:  School Volvo Speed:  180 Mileage 12\n"
     ]
    }
   ],
   "source": [
    "# Create a child class Bus that will inherit all of the variables and methods of the Vehicle class\n",
    "class Vehicle:\n",
    "\n",
    "    def __init__(self, name, max_speed, mileage):\n",
    "        self.name = name\n",
    "        self.max_speed = max_speed\n",
    "        self.mileage = mileage\n",
    "        \n",
    "\n",
    "        \n",
    "class bus(Vehicle):\n",
    "    pass\n",
    "    \n",
    "\n",
    "school_bus = bus(\"School Volvo\",180,12)\n",
    "print(\"Vehicle namme: \",school_bus.name,\"Speed: \",school_bus.max_speed,\"Mileage\",school_bus.mileage)\n",
    "\n",
    "    "
   ]
  },
  {
   "cell_type": "code",
   "execution_count": null,
   "id": "08f7bd91",
   "metadata": {},
   "outputs": [],
   "source": [
    "# Create a Bus class that inherits from the Vehicle class. Give the capacity argument of Bus.seating_capacity() a default value of 50.\n",
    "class Vehicle:\n",
    "    def __init__(self, name, max_speed, mileage):\n",
    "        self.name = name\n",
    "        self.max_speed = max_speed\n",
    "        self.mileage = mileage\n",
    "\n",
    "    def seating_capacity(self, capacity):\n",
    "        return f\"The seating capacity of a {self.name} is {capacity} passengers\"\n",
    "\n",
    "        \n",
    "class bus(Vehicle):\n",
    "    pass\n",
    "    \n",
    "\n",
    "school_bus = bus(\"School Volvo\",180,12)\n",
    "print(\"Vehicle namme: \",school_bus.name,\"Speed: \",school_bus.max_speed,\"Mileage\",school_bus.mileage)\n",
    "\n",
    "\n",
    "\n",
    "\n",
    "\n",
    "\n",
    "\n",
    "\n",
    "# The seating capacity of a bus is 50 passengers"
   ]
  },
  {
   "cell_type": "code",
   "execution_count": 8,
   "id": "53410a20",
   "metadata": {},
   "outputs": [
    {
     "name": "stdout",
     "output_type": "stream",
     "text": [
      "Sanket 21\n"
     ]
    }
   ],
   "source": [
    "# Write a program to create a function that takes two arguments, name and age, and print their value.\n",
    "def person(name,age):\n",
    "    print(name, age)\n",
    "    \n",
    "person(\"Sanket\",21)"
   ]
  },
  {
   "cell_type": "code",
   "execution_count": 11,
   "id": "332542ea",
   "metadata": {},
   "outputs": [
    {
     "name": "stdout",
     "output_type": "stream",
     "text": [
      "Printing values\n",
      "20\n",
      "40\n",
      "60\n",
      "Printing values\n",
      "80\n",
      "100\n"
     ]
    }
   ],
   "source": [
    "def fun1(*args):\n",
    "    for i in args:\n",
    "        print(i)\n",
    "\n",
    "# call function with 3 arguments\n",
    "fun1(\"Printing values: \",20, 40, 60)\n",
    "\n",
    "# call function with 2 arguments\n",
    "fun1(\"Printing values: \",80, 100)\n"
   ]
  },
  {
   "cell_type": "code",
   "execution_count": 14,
   "id": "8b1ef27e",
   "metadata": {},
   "outputs": [
    {
     "name": "stdout",
     "output_type": "stream",
     "text": [
      "(50, 30)\n"
     ]
    }
   ],
   "source": [
    "def calculation(a, b):\n",
    "    # Your Code\n",
    "    return a+b,a-b\n",
    "\n",
    "res = calculation(40, 10)\n",
    "print(res)"
   ]
  },
  {
   "cell_type": "code",
   "execution_count": 15,
   "id": "91df6485",
   "metadata": {},
   "outputs": [
    {
     "name": "stdout",
     "output_type": "stream",
     "text": [
      "(50, 30)\n"
     ]
    }
   ],
   "source": [
    "def calculation(a, b):\n",
    "    # Your Code\n",
    "    add = a+b\n",
    "    sub = a-b\n",
    "    return add,sub\n",
    "\n",
    "res = calculation(40, 10)\n",
    "print(res)"
   ]
  },
  {
   "cell_type": "code",
   "execution_count": 17,
   "id": "c9d59fd9",
   "metadata": {},
   "outputs": [
    {
     "name": "stdout",
     "output_type": "stream",
     "text": [
      "Name: Ben salary: 12000\n",
      "Name: Jessa salary: 9000\n"
     ]
    }
   ],
   "source": [
    "def show_employee(name,salary=9000):\n",
    "    \n",
    "    print(\"Name:\",name,\"salary:\",salary)\n",
    "    \n",
    "    \n",
    "show_employee(\"Ben\", 12000)\n",
    "show_employee(\"Jessa\")"
   ]
  },
  {
   "cell_type": "code",
   "execution_count": 20,
   "id": "97edeceb",
   "metadata": {},
   "outputs": [
    {
     "name": "stdout",
     "output_type": "stream",
     "text": [
      "35\n"
     ]
    }
   ],
   "source": [
    "def demo(a,b):\n",
    "    \n",
    "    def addition(a,b):\n",
    "        return a+b\n",
    "    add = addition(a,b)\n",
    "    return add+5\n",
    "\n",
    "result = demo(10,20)\n",
    "print(result)"
   ]
  },
  {
   "cell_type": "code",
   "execution_count": 23,
   "id": "9706d9d3",
   "metadata": {},
   "outputs": [
    {
     "name": "stdout",
     "output_type": "stream",
     "text": [
      "55\n"
     ]
    }
   ],
   "source": [
    "def fun1(num):\n",
    "    if num:\n",
    "        return num + fun1(num -1)\n",
    "    else:\n",
    "        return 0\n",
    "    \n",
    "res = fun1(10)\n",
    "print(res)\n",
    "        "
   ]
  },
  {
   "cell_type": "code",
   "execution_count": 31,
   "id": "fbe415d9",
   "metadata": {},
   "outputs": [
    {
     "name": "stdout",
     "output_type": "stream",
     "text": [
      "Sanket 21\n",
      "Iyer 22\n"
     ]
    }
   ],
   "source": [
    "def display_student(name, age):\n",
    "    print(name,age)\n",
    "\n",
    "\n",
    "display_student(\"Sanket\",21)\n",
    "\n",
    "show_student = display_student\n",
    "\n",
    "show_student(\"Iyer\",22)\n",
    "\n",
    "\n"
   ]
  },
  {
   "cell_type": "code",
   "execution_count": 36,
   "id": "b08e8cf6",
   "metadata": {},
   "outputs": [
    {
     "name": "stdout",
     "output_type": "stream",
     "text": [
      "[4, 6, 8, 10, 12, 14, 16, 18, 20, 22, 24, 26, 28]\n",
      "[4, 6, 8, 10, 12, 14, 16, 18, 20, 22, 24, 26, 28]\n"
     ]
    }
   ],
   "source": [
    "lst = [4, 6, 8, 10, 12, 14, 16, 18, 20, 22, 24, 26, 28]\n",
    "filter(lambda n:n%2==0,lst)\n",
    "print(lst)\n",
    "\n",
    "print(list(range(4,30,2)))"
   ]
  },
  {
   "cell_type": "code",
   "execution_count": 38,
   "id": "1ec0a05a",
   "metadata": {},
   "outputs": [
    {
     "name": "stdout",
     "output_type": "stream",
     "text": [
      "24\n"
     ]
    }
   ],
   "source": [
    "x = [4, 6, 8, 24, 12, 2]\n",
    "\n",
    "print(max(x))"
   ]
  },
  {
   "cell_type": "code",
   "execution_count": 39,
   "id": "9520f2b4",
   "metadata": {},
   "outputs": [
    {
     "name": "stdout",
     "output_type": "stream",
     "text": [
      "15\n"
     ]
    }
   ],
   "source": [
    "def outer_fun(a, b):\n",
    "    def inner_fun(c, d):\n",
    "        return c + d\n",
    "\n",
    "    return inner_fun(a, b)\n",
    "    return a\n",
    "\n",
    "result = outer_fun(5, 10)\n",
    "print(result)\n"
   ]
  },
  {
   "cell_type": "code",
   "execution_count": 40,
   "id": "922905ea",
   "metadata": {},
   "outputs": [
    {
     "name": "stdout",
     "output_type": "stream",
     "text": [
      "15\n"
     ]
    }
   ],
   "source": [
    "def outer_fun(a, b):\n",
    "    def inner_fun(c, d):\n",
    "        return c + d\n",
    "    return inner_fun(a, b)\n",
    "\n",
    "res = outer_fun(5, 10)\n",
    "print(res)"
   ]
  },
  {
   "cell_type": "code",
   "execution_count": 43,
   "id": "41a9d4aa",
   "metadata": {},
   "outputs": [
    {
     "name": "stdout",
     "output_type": "stream",
     "text": [
      "(12, 2, 35)\n"
     ]
    }
   ],
   "source": [
    "def fun1(a,b):\n",
    "    add = a+b\n",
    "    sub = a-b\n",
    "    mul = a*b\n",
    "    return add,sub,mul\n",
    "\n",
    "res =fun1(7,5)\n",
    "print(res)\n",
    "    "
   ]
  },
  {
   "cell_type": "code",
   "execution_count": 47,
   "id": "6d5f5462",
   "metadata": {},
   "outputs": [
    {
     "name": "stdout",
     "output_type": "stream",
     "text": [
      "Enter the value 1: 7\n",
      "Enter the value 2: 5\n",
      "sum is = 12 ,\n",
      "subtraction is = 2,\n",
      "multiplication is = 35\n"
     ]
    }
   ],
   "source": [
    "def fun1(a,b):\n",
    "    add = a+b\n",
    "    sub = a-b\n",
    "    mul = a*b\n",
    "    print(\"sum is = {} ,\\nsubtraction is = {},\\nmultiplication is = {}\".format(add,sub,mul))\n",
    "\n",
    "a = int(input(\"Enter the value 1: \"))\n",
    "b = int(input(\"Enter the value 2: \"))\n",
    "\n",
    "fun1(a,b)"
   ]
  },
  {
   "cell_type": "code",
   "execution_count": 51,
   "id": "baa2ff6a",
   "metadata": {},
   "outputs": [
    {
     "name": "stdout",
     "output_type": "stream",
     "text": [
      "Enter roll no.: 22\n",
      "Roll no number 22 is absent\n"
     ]
    }
   ],
   "source": [
    "def detail(roll):\n",
    "    x =[23,34,12,40]\n",
    "    if roll in x:\n",
    "        print(f\"Roll no number {roll} is present\")\n",
    "    else:\n",
    "        print(f\"Roll no number {roll} is absent\")\n",
    "\n",
    "roll = int(input(\"Enter roll no.: \"))\n",
    "detail(roll)\n",
    "        "
   ]
  },
  {
   "cell_type": "code",
   "execution_count": 54,
   "id": "27783cf5",
   "metadata": {},
   "outputs": [
    {
     "name": "stdout",
     "output_type": "stream",
     "text": [
      "Value of a: 30\n",
      "Value of b: 22\n",
      "Value of c: 18\n",
      "30 is maximum among all\n"
     ]
    }
   ],
   "source": [
    "def fun1(a,b,c):\n",
    "    if a>b & a>c:\n",
    "        print(f\"{a} is maximum among all\")\n",
    "    elif b>a & b>c:\n",
    "        print(f\"{b} is maximum among all\")\n",
    "    else:\n",
    "        print(f\"{c} is maximum among all\")\n",
    "\n",
    "a = int(input(\"Value of a: \"))\n",
    "b = int(input(\"Value of b: \"))\n",
    "c = int(input(\"Value of c: \"))\n",
    "\n",
    "fun1(a,b,c)"
   ]
  },
  {
   "cell_type": "code",
   "execution_count": 55,
   "id": "221ef65f",
   "metadata": {},
   "outputs": [
    {
     "name": "stdout",
     "output_type": "stream",
     "text": [
      "Enter the value: 4\n",
      "4 is even\n"
     ]
    }
   ],
   "source": [
    "def fun1(n):\n",
    "    if n%2==0:\n",
    "        print(f\"{n} is even\")\n",
    "    else:\n",
    "        print(f\"{n} is odd\")\n",
    "        \n",
    "n=int(input(\"Enter the value: \"))\n",
    "\n",
    "fun1(n)"
   ]
  },
  {
   "cell_type": "code",
   "execution_count": 56,
   "id": "567e97ec",
   "metadata": {},
   "outputs": [
    {
     "name": "stdout",
     "output_type": "stream",
     "text": [
      "Enter the word: sanket\n",
      "Count of vowels is  2\n",
      "Count of consonent is  4\n"
     ]
    }
   ],
   "source": [
    "def count(val):\n",
    "    \n",
    "    vov = 0\n",
    "    con = 0\n",
    "    \n",
    "    for i in range(len(val)):\n",
    "        \n",
    "        if val[i] in ['a','e','i','o','u']:\n",
    "            vov = vov+1\n",
    "        else:\n",
    "            con = con+1\n",
    "\n",
    "    print(\"Count of vowels is \",vov)\n",
    "    print(\"Count of consonent is \",con)\n",
    "\n",
    "x=input(\"Enter the word: \")\n",
    "count(x)"
   ]
  },
  {
   "cell_type": "code",
   "execution_count": 58,
   "id": "5da7bbb7",
   "metadata": {},
   "outputs": [
    {
     "name": "stdout",
     "output_type": "stream",
     "text": [
      "Enter teh value: 6\n",
      "720\n"
     ]
    }
   ],
   "source": [
    "#factorial\n",
    "def fact(n):\n",
    "    f = 1\n",
    "    \n",
    "    for i in range(1,n+1):\n",
    "        f = f*i\n",
    "        \n",
    "    return f\n",
    "\n",
    "x = int(input(\"Enter teh value: \"))\n",
    "\n",
    "result = fact(x)\n",
    "\n",
    "print(result)"
   ]
  },
  {
   "cell_type": "code",
   "execution_count": 59,
   "id": "3ceb9899",
   "metadata": {},
   "outputs": [
    {
     "name": "stdout",
     "output_type": "stream",
     "text": [
      "Enter the string: sanket\n",
      "SANKET\n"
     ]
    }
   ],
   "source": [
    "def response(text):\n",
    "    z = text.upper()\n",
    "    print(z)\n",
    "    \n",
    "text = input(\"Enter the string: \")\n",
    "response(text)"
   ]
  },
  {
   "cell_type": "code",
   "execution_count": 61,
   "id": "f79ac57b",
   "metadata": {},
   "outputs": [
    {
     "name": "stdout",
     "output_type": "stream",
     "text": [
      "Enter the radius:4\n",
      "Area of the circle is:  50.24\n"
     ]
    }
   ],
   "source": [
    "def circle(r):\n",
    "    a = 3.14*r**2\n",
    "    print(\"Area of the circle is: \",a)\n",
    "\n",
    "r =float(input(\"Enter the radius:\"))\n",
    "circle(r)"
   ]
  },
  {
   "cell_type": "code",
   "execution_count": 63,
   "id": "bbfcf546",
   "metadata": {},
   "outputs": [
    {
     "name": "stdout",
     "output_type": "stream",
     "text": [
      "Enter Radius: 4\n",
      "Area of the circle is:  50.24\n"
     ]
    }
   ],
   "source": [
    "def area(radius):\n",
    "    area = 3.14*radius*radius\n",
    "    return area\n",
    "\n",
    "radius = int(input(\"Enter Radius: \"))  # 4\n",
    "print(\"Area of the circle is: \",area(radius))"
   ]
  },
  {
   "cell_type": "code",
   "execution_count": 64,
   "id": "9d2658db",
   "metadata": {},
   "outputs": [
    {
     "name": "stdout",
     "output_type": "stream",
     "text": [
      "Enter the value: 5\n",
      "Factorial is 120\n"
     ]
    }
   ],
   "source": [
    "n = int(input(\"Enter the value: \"))\n",
    "\n",
    "if (n==0 or n<0):\n",
    "    print(\"Value of n should be greater than 1 \")\n",
    "else:\n",
    "    fact = 1\n",
    "    while(n):\n",
    "        fact *=n\n",
    "        n=n-1\n",
    "    print(f\"Factorial is {fact}\")"
   ]
  },
  {
   "cell_type": "code",
   "execution_count": 1,
   "id": "de21ea5d",
   "metadata": {},
   "outputs": [
    {
     "name": "stdout",
     "output_type": "stream",
     "text": [
      "Enter the first no.: 3\n",
      "Enter the second no.: 3\n",
      "3 3\n"
     ]
    }
   ],
   "source": [
    "a = int(input(\"Enter the first no.: \"))\n",
    "b = int(input(\"Enter the second no.: \"))\n",
    "print(a,b)"
   ]
  },
  {
   "cell_type": "code",
   "execution_count": 2,
   "id": "894e0e4d",
   "metadata": {},
   "outputs": [
    {
     "name": "stdout",
     "output_type": "stream",
     "text": [
      "my**Name**is**Sanket\n"
     ]
    }
   ],
   "source": [
    "print('my','Name','is','Sanket',sep='**')"
   ]
  },
  {
   "cell_type": "code",
   "execution_count": 3,
   "id": "344ea9ce",
   "metadata": {},
   "outputs": [
    {
     "name": "stdout",
     "output_type": "stream",
     "text": [
      "10\n"
     ]
    }
   ],
   "source": [
    "num = 8\n",
    "print('%o' % num)"
   ]
  },
  {
   "cell_type": "code",
   "execution_count": 7,
   "id": "2ebe958d",
   "metadata": {},
   "outputs": [
    {
     "name": "stdout",
     "output_type": "stream",
     "text": [
      "458.54\n"
     ]
    }
   ],
   "source": [
    "num = 458.541315\n",
    "print('%.2f'% num)"
   ]
  },
  {
   "cell_type": "code",
   "execution_count": 1,
   "id": "b19670f9",
   "metadata": {},
   "outputs": [
    {
     "name": "stdout",
     "output_type": "stream",
     "text": [
      "1\n",
      "2\n",
      "3\n",
      "4\n",
      "5\n",
      "6\n",
      "7\n",
      "8\n",
      "9\n",
      "10\n"
     ]
    }
   ],
   "source": [
    "i =1\n",
    "while i<=10:\n",
    "    print(i)\n",
    "    \n",
    "    i +=1"
   ]
  },
  {
   "cell_type": "code",
   "execution_count": 2,
   "id": "7534fba1",
   "metadata": {},
   "outputs": [
    {
     "name": "stdout",
     "output_type": "stream",
     "text": [
      "maJ\n"
     ]
    }
   ],
   "source": [
    "var= \"James Bond\"\n",
    "print(var[2::-1])"
   ]
  },
  {
   "cell_type": "code",
   "execution_count": 3,
   "id": "82a73c61",
   "metadata": {},
   "outputs": [
    {
     "name": "stdout",
     "output_type": "stream",
     "text": [
      "182.0\n"
     ]
    }
   ],
   "source": [
    "x = 36 / 4 * (3 +  2) * 4 + 2\n",
    "print(x)"
   ]
  },
  {
   "cell_type": "code",
   "execution_count": 4,
   "id": "b8f14b58",
   "metadata": {},
   "outputs": [
    {
     "name": "stdout",
     "output_type": "stream",
     "text": [
      "True\n",
      "False\n"
     ]
    }
   ],
   "source": [
    "listOne = [20, 40, 60, 80]\n",
    "listTwo = [20, 40, 60, 80]\n",
    "\n",
    "print(listOne == listTwo)\n",
    "print(listOne is listTwo)"
   ]
  },
  {
   "cell_type": "code",
   "execution_count": 6,
   "id": "39765dc5",
   "metadata": {},
   "outputs": [
    {
     "name": "stdout",
     "output_type": "stream",
     "text": [
      "1\n",
      "2\n",
      "3\n",
      "4\n",
      "this is else block statement\n"
     ]
    }
   ],
   "source": [
    "for i in range(1, 5):\n",
    "    print(i)\n",
    "else:\n",
    "    print(\"this is else block statement\" )"
   ]
  },
  {
   "cell_type": "code",
   "execution_count": 1,
   "id": "0ab18095",
   "metadata": {},
   "outputs": [
    {
     "name": "stdout",
     "output_type": "stream",
     "text": [
      "25\n"
     ]
    }
   ],
   "source": [
    " print(int(25.65))"
   ]
  },
  {
   "cell_type": "code",
   "execution_count": 2,
   "id": "310e4f32",
   "metadata": {},
   "outputs": [
    {
     "name": "stdout",
     "output_type": "stream",
     "text": [
      "[10, 0, 30, ['A', 0, 'C']]\n",
      "[10, 20, 30, ['A', 0, 'C']]\n",
      "[10, 20, 30, ['A', 'B', 'C']]\n"
     ]
    }
   ],
   "source": [
    "import copy\n",
    "list1 = [10, 20, 30, ['A' , 'B' , 'C']]\n",
    "list2 = list1.copy()\n",
    "list3 = copy.deepcopy(list1)\n",
    "list1[3][1] = 0000\n",
    "list1[1] = 0000\n",
    "print(list1) \n",
    "print(list2)\n",
    "print(list3)"
   ]
  },
  {
   "cell_type": "code",
   "execution_count": 4,
   "id": "6ab45549",
   "metadata": {},
   "outputs": [
    {
     "name": "stdout",
     "output_type": "stream",
     "text": [
      "False\n",
      "True\n",
      "True\n",
      "False\n",
      "False\n",
      "True\n"
     ]
    }
   ],
   "source": [
    "print(not('False'))\n",
    "print(not(0))\n",
    "print(not(''))\n",
    "print(not(' '))\n",
    "print(not([\"Python\"]))\n",
    "print(not([]))"
   ]
  },
  {
   "cell_type": "code",
   "execution_count": 5,
   "id": "c0a0c828",
   "metadata": {},
   "outputs": [
    {
     "name": "stdout",
     "output_type": "stream",
     "text": [
      "0\n"
     ]
    }
   ],
   "source": [
    "print(2^2)"
   ]
  },
  {
   "cell_type": "code",
   "execution_count": 6,
   "id": "22543251",
   "metadata": {},
   "outputs": [
    {
     "ename": "TypeError",
     "evalue": "__init__() should return None, not 'int'",
     "output_type": "error",
     "traceback": [
      "\u001b[1;31m---------------------------------------------------------------------------\u001b[0m",
      "\u001b[1;31mTypeError\u001b[0m                                 Traceback (most recent call last)",
      "Cell \u001b[1;32mIn[6], line 5\u001b[0m\n\u001b[0;32m      2\u001b[0m   \u001b[38;5;28;01mdef\u001b[39;00m \u001b[38;5;21m__init__\u001b[39m(\u001b[38;5;28mself\u001b[39m , var):\n\u001b[0;32m      3\u001b[0m          \u001b[38;5;28;01mreturn\u001b[39;00m var\n\u001b[1;32m----> 5\u001b[0m obj \u001b[38;5;241m=\u001b[39m \u001b[43mClass_A\u001b[49m\u001b[43m(\u001b[49m\u001b[38;5;241;43m20\u001b[39;49m\u001b[43m)\u001b[49m\n\u001b[0;32m      6\u001b[0m \u001b[38;5;28mprint\u001b[39m(obj)\n",
      "\u001b[1;31mTypeError\u001b[0m: __init__() should return None, not 'int'"
     ]
    }
   ],
   "source": [
    "class Class_A:\n",
    "  def __init__(self , var):\n",
    "         return var\n",
    " \n",
    "obj = Class_A(20)\n",
    "print(obj)"
   ]
  },
  {
   "cell_type": "code",
   "execution_count": 8,
   "id": "8eb7159a",
   "metadata": {},
   "outputs": [
    {
     "name": "stdout",
     "output_type": "stream",
     "text": [
      "27\n",
      "17\n",
      "34\n",
      "22\n"
     ]
    }
   ],
   "source": [
    "class Calculate:\n",
    "  var1=20\n",
    "  def __init__(self,var1):\n",
    "      self.var1 = var1\n",
    "      self.var1 = self.var1 + 7\n",
    "      Calculate.var1 = Calculate.var1 + 7\n",
    "      \n",
    "def Print(self):\n",
    "       print(Calculate.var1)\n",
    "       print(self.var1)\n",
    "  \n",
    "Calculate(10).Print()\n",
    "Calculate(15).Print()"
   ]
  },
  {
   "cell_type": "code",
   "execution_count": 7,
   "id": "3e5118df",
   "metadata": {},
   "outputs": [
    {
     "name": "stdout",
     "output_type": "stream",
     "text": [
      "tuple[3]\n"
     ]
    }
   ],
   "source": [
    "print(tuple[3])"
   ]
  },
  {
   "cell_type": "code",
   "execution_count": 9,
   "id": "2e9bcb9f",
   "metadata": {},
   "outputs": [
    {
     "ename": "SyntaxError",
     "evalue": "name 'x' is parameter and global (4058986942.py, line 5)",
     "output_type": "error",
     "traceback": [
      "\u001b[1;36m  Cell \u001b[1;32mIn[9], line 5\u001b[1;36m\u001b[0m\n\u001b[1;33m    global x\u001b[0m\n\u001b[1;37m    ^\u001b[0m\n\u001b[1;31mSyntaxError\u001b[0m\u001b[1;31m:\u001b[0m name 'x' is parameter and global\n"
     ]
    }
   ],
   "source": [
    "x = 45\n",
    "y = 25\n",
    " \n",
    "def Sum(x):\n",
    "  global x\n",
    "  print(\"Sum inside Sum() :\",x+y)\n",
    "  \n",
    "Sum(25) \n",
    "print(\"Sum outside Sum() :\",x+y)\n",
    "\n",
    "\n",
    "\n",
    "\n",
    "\n",
    "\n",
    "\n"
   ]
  },
  {
   "cell_type": "code",
   "execution_count": 10,
   "id": "e48a962a",
   "metadata": {},
   "outputs": [
    {
     "name": "stdout",
     "output_type": "stream",
     "text": [
      "[5, 15, '5', '15', 'Python']\n"
     ]
    }
   ],
   "source": [
    "D = {5 : 5, 15 : '15', '5' : 5, '15' : 25} \n",
    "D[str(15)] = 100\n",
    "L = list(D)\n",
    "L.append(\"Python\")\n",
    "print(L)"
   ]
  },
  {
   "cell_type": "code",
   "execution_count": 11,
   "id": "11256e0c",
   "metadata": {},
   "outputs": [
    {
     "name": "stdout",
     "output_type": "stream",
     "text": [
      "11\n"
     ]
    }
   ],
   "source": [
    "print(0x3 | 0x9)"
   ]
  },
  {
   "cell_type": "code",
   "execution_count": 13,
   "id": "dfd6ccbf",
   "metadata": {},
   "outputs": [
    {
     "name": "stdout",
     "output_type": "stream",
     "text": [
      "0-1.5-3.0-"
     ]
    }
   ],
   "source": [
    "i = 0\n",
    "while i < 4: \n",
    "    print(i , end = \"-\") \n",
    "    i += 1.5\n",
    "    if((i < 4) == False):\n",
    "        break\n",
    "else: \n",
    "    print(0 , end = \" \")"
   ]
  },
  {
   "cell_type": "code",
   "execution_count": 2,
   "id": "cdc02c0a",
   "metadata": {},
   "outputs": [
    {
     "name": "stdout",
     "output_type": "stream",
     "text": [
      "Enter a number: 5\n",
      "120\n"
     ]
    }
   ],
   "source": [
    "a = int(input(\"Enter a number: \"))\n",
    "fact = 1\n",
    "for i in range(1,a+1):\n",
    "    fact = i*fact\n",
    "    \n",
    "    \n",
    "print(fact)\n"
   ]
  },
  {
   "cell_type": "code",
   "execution_count": 9,
   "id": "dece2f50",
   "metadata": {},
   "outputs": [
    {
     "name": "stdout",
     "output_type": "stream",
     "text": [
      "4\n"
     ]
    }
   ],
   "source": [
    "for i in range(5):\n",
    "     pass\n",
    "print(i)"
   ]
  },
  {
   "cell_type": "code",
   "execution_count": 21,
   "id": "fc47e568",
   "metadata": {},
   "outputs": [
    {
     "name": "stdout",
     "output_type": "stream",
     "text": [
      "[10, 0, 30, ['A', 0, 'C']]\n"
     ]
    }
   ],
   "source": [
    "list1 = [10, 20, 30, ['A' , 'B' , 'C']]\n",
    "list1[3][1] = 0000\n",
    "list1[1] = 0000\n",
    "print(list1)"
   ]
  },
  {
   "cell_type": "code",
   "execution_count": 25,
   "id": "821512f6",
   "metadata": {},
   "outputs": [
    {
     "name": "stdout",
     "output_type": "stream",
     "text": [
      "Bella\n"
     ]
    }
   ],
   "source": [
    "class Pet :\n",
    "     def call_me(name):\n",
    "         print(\"Bella\")\n",
    "         \n",
    "obj = Pet()\n",
    "# obj.call_me(\"Bella\")\n",
    "Pet.call_me(\"Bella\")\n"
   ]
  },
  {
   "cell_type": "code",
   "execution_count": 27,
   "id": "613ad273",
   "metadata": {},
   "outputs": [
    {
     "name": "stdout",
     "output_type": "stream",
     "text": [
      " p : 20  q : 42  r : 5  s : 28\n"
     ]
    }
   ],
   "source": [
    "def say(p ,q=42,r=5 , s=28):\n",
    "      print(' p :',p,' q :',q,' r :',r,' s :',s)\n",
    "        \n",
    "# say(48,(45,39),s=30)\n",
    "say(20)"
   ]
  },
  {
   "cell_type": "code",
   "execution_count": 29,
   "id": "e0f78636",
   "metadata": {},
   "outputs": [
    {
     "name": "stdout",
     "output_type": "stream",
     "text": [
      "[10, 0, 30, [0, 0, 'C']]\n",
      "[10, 20, 30, [0, 0, 'C']]\n",
      "[10, 20, 30, ['A', 'B', 'C']]\n"
     ]
    }
   ],
   "source": [
    "import copy\n",
    "list1 = [10, 20, 30, ['A' , 'B' , 'C']]\n",
    "list2 = list1.copy()\n",
    "list3 = copy.deepcopy(list1)\n",
    "list1[3][1] = 0000\n",
    "list1[1] = 0000\n",
    "list1[3][0] = 0000\n",
    "print(list1) \n",
    "print(list2)\n",
    "print(list3)"
   ]
  },
  {
   "cell_type": "code",
   "execution_count": 34,
   "id": "f227fac4",
   "metadata": {},
   "outputs": [
    {
     "data": {
      "text/plain": [
       "2970327190144"
      ]
     },
     "execution_count": 34,
     "metadata": {},
     "output_type": "execute_result"
    }
   ],
   "source": [
    "id(list1[3])"
   ]
  },
  {
   "cell_type": "code",
   "execution_count": 35,
   "id": "ca2a08b5",
   "metadata": {},
   "outputs": [
    {
     "data": {
      "text/plain": [
       "2970327190144"
      ]
     },
     "execution_count": 35,
     "metadata": {},
     "output_type": "execute_result"
    }
   ],
   "source": [
    "id(list2[3])"
   ]
  },
  {
   "cell_type": "code",
   "execution_count": 36,
   "id": "5ae7159b",
   "metadata": {},
   "outputs": [
    {
     "ename": "ModuleNotFoundError",
     "evalue": "No module named 'numpy'",
     "output_type": "error",
     "traceback": [
      "\u001b[1;31m---------------------------------------------------------------------------\u001b[0m",
      "\u001b[1;31mModuleNotFoundError\u001b[0m                       Traceback (most recent call last)",
      "Cell \u001b[1;32mIn[36], line 1\u001b[0m\n\u001b[1;32m----> 1\u001b[0m \u001b[38;5;28;01mimport\u001b[39;00m \u001b[38;5;21;01mnumpy\u001b[39;00m \u001b[38;5;28;01mas\u001b[39;00m \u001b[38;5;21;01mnp\u001b[39;00m\n\u001b[0;32m      2\u001b[0m a \u001b[38;5;241m=\u001b[39m np\u001b[38;5;241m.\u001b[39marray([\u001b[38;5;241m11\u001b[39m,\u001b[38;5;241m22\u001b[39m,\u001b[38;5;241m33\u001b[39m,[\u001b[38;5;241m1\u001b[39m,\u001b[38;5;241m2\u001b[39m,\u001b[38;5;241m3\u001b[39m]])\n\u001b[0;32m      3\u001b[0m a\n",
      "\u001b[1;31mModuleNotFoundError\u001b[0m: No module named 'numpy'"
     ]
    }
   ],
   "source": [
    "import numpy as np\n",
    "a = np.array([11,22,33,[1,2,3]])\n",
    "a"
   ]
  },
  {
   "cell_type": "code",
   "execution_count": 40,
   "id": "0e09e020",
   "metadata": {},
   "outputs": [
    {
     "name": "stdout",
     "output_type": "stream",
     "text": [
      "Requirement already satisfied: numpy in c:\\users\\asus\\desktop\\internship\\env\\lib\\site-packages (1.21.6)\n"
     ]
    }
   ],
   "source": [
    "!pip3 install numpy"
   ]
  },
  {
   "cell_type": "code",
   "execution_count": 42,
   "id": "0abc4384",
   "metadata": {},
   "outputs": [
    {
     "ename": "ModuleNotFoundError",
     "evalue": "No module named 'numpy'",
     "output_type": "error",
     "traceback": [
      "\u001b[1;31m---------------------------------------------------------------------------\u001b[0m",
      "\u001b[1;31mModuleNotFoundError\u001b[0m                       Traceback (most recent call last)",
      "Cell \u001b[1;32mIn[42], line 1\u001b[0m\n\u001b[1;32m----> 1\u001b[0m \u001b[38;5;28;01mimport\u001b[39;00m \u001b[38;5;21;01mnumpy\u001b[39;00m \u001b[38;5;28;01mas\u001b[39;00m \u001b[38;5;21;01mnp\u001b[39;00m\n\u001b[0;32m      2\u001b[0m a \u001b[38;5;241m=\u001b[39m np\u001b[38;5;241m.\u001b[39marray([\u001b[38;5;241m11\u001b[39m,\u001b[38;5;241m22\u001b[39m,\u001b[38;5;241m33\u001b[39m,[\u001b[38;5;241m1\u001b[39m,\u001b[38;5;241m2\u001b[39m,\u001b[38;5;241m3\u001b[39m]])\n\u001b[0;32m      3\u001b[0m a\n",
      "\u001b[1;31mModuleNotFoundError\u001b[0m: No module named 'numpy'"
     ]
    }
   ],
   "source": [
    "import numpy as np\n",
    "a = np.array([11,22,33,[1,2,3]])\n",
    "a"
   ]
  },
  {
   "cell_type": "code",
   "execution_count": 43,
   "id": "58f4910b",
   "metadata": {},
   "outputs": [
    {
     "data": {
      "text/plain": [
       "0.4"
      ]
     },
     "execution_count": 43,
     "metadata": {},
     "output_type": "execute_result"
    }
   ],
   "source": [
    "0.3+0.1"
   ]
  },
  {
   "cell_type": "code",
   "execution_count": 48,
   "id": "14a39437",
   "metadata": {},
   "outputs": [],
   "source": [
    "a='1.2'\n",
    "f=float(a)"
   ]
  },
  {
   "cell_type": "code",
   "execution_count": 49,
   "id": "41982101",
   "metadata": {},
   "outputs": [
    {
     "data": {
      "text/plain": [
       "(1.2, float)"
      ]
     },
     "execution_count": 49,
     "metadata": {},
     "output_type": "execute_result"
    }
   ],
   "source": [
    "f,type(f)"
   ]
  },
  {
   "cell_type": "code",
   "execution_count": 1,
   "id": "4d61886e",
   "metadata": {},
   "outputs": [
    {
     "data": {
      "text/plain": [
       "int"
      ]
     },
     "execution_count": 1,
     "metadata": {},
     "output_type": "execute_result"
    }
   ],
   "source": [
    "a= '0.1'\n",
    "i = int(float(a))\n",
    "type(i)"
   ]
  },
  {
   "cell_type": "code",
   "execution_count": 57,
   "id": "3dffd9ea",
   "metadata": {},
   "outputs": [
    {
     "data": {
      "text/plain": [
       "0"
      ]
     },
     "execution_count": 57,
     "metadata": {},
     "output_type": "execute_result"
    }
   ],
   "source": [
    "i"
   ]
  },
  {
   "cell_type": "code",
   "execution_count": 52,
   "id": "1af31d01",
   "metadata": {},
   "outputs": [
    {
     "data": {
      "text/plain": [
       "2"
      ]
     },
     "execution_count": 52,
     "metadata": {},
     "output_type": "execute_result"
    }
   ],
   "source": [
    "round(1.5)"
   ]
  },
  {
   "cell_type": "code",
   "execution_count": null,
   "id": "68fd8bdb",
   "metadata": {},
   "outputs": [],
   "source": []
  },
  {
   "cell_type": "code",
   "execution_count": 53,
   "id": "e6ad52c3",
   "metadata": {},
   "outputs": [
    {
     "data": {
      "text/plain": [
       "4"
      ]
     },
     "execution_count": 53,
     "metadata": {},
     "output_type": "execute_result"
    }
   ],
   "source": [
    "round(3.5)"
   ]
  },
  {
   "cell_type": "code",
   "execution_count": 3,
   "id": "dbec8c03",
   "metadata": {},
   "outputs": [
    {
     "name": "stdout",
     "output_type": "stream",
     "text": [
      "False\n"
     ]
    }
   ],
   "source": [
    "print(True<False)"
   ]
  },
  {
   "cell_type": "code",
   "execution_count": 7,
   "id": "abfd0176",
   "metadata": {},
   "outputs": [
    {
     "name": "stdout",
     "output_type": "stream",
     "text": [
      "[3, 2, 1]\n"
     ]
    }
   ],
   "source": [
    "list1 =[0,1,2,3,4]\n",
    "list1[0],list1[4] = list1[4],list1[0]\n",
    "list1[1],list1[3] = list1[3],list1[1]\n",
    "list1 = list1[1:-1]\n",
    "print(list1)"
   ]
  },
  {
   "cell_type": "code",
   "execution_count": 8,
   "id": "5ebdd9a9",
   "metadata": {},
   "outputs": [
    {
     "name": "stdout",
     "output_type": "stream",
     "text": [
      "{'AA': 'Apple'}\n"
     ]
    }
   ],
   "source": [
    "Dict ={\"AA\":\"book\"}\n",
    "Dict['AA'] ='Apple'\n",
    "print(Dict)"
   ]
  },
  {
   "cell_type": "code",
   "execution_count": 14,
   "id": "5589e85e",
   "metadata": {},
   "outputs": [
    {
     "name": "stdout",
     "output_type": "stream",
     "text": [
      "5\n"
     ]
    }
   ],
   "source": [
    "a ='5.23'\n",
    "f =float(a)\n",
    "# print(f)\n",
    "i =int(float(a))\n",
    "print(i)"
   ]
  },
  {
   "cell_type": "code",
   "execution_count": 17,
   "id": "e1dd1603",
   "metadata": {},
   "outputs": [
    {
     "name": "stdout",
     "output_type": "stream",
     "text": [
      "hello 5 10\n"
     ]
    }
   ],
   "source": [
    "a = 5\n",
    "b= 10\n",
    "print(f\"hello {a} {b}\")txt = \"We are the so-called \\\"Vikings\\\" from the north.\""
   ]
  },
  {
   "cell_type": "code",
   "execution_count": 19,
   "id": "507a9379",
   "metadata": {},
   "outputs": [
    {
     "name": "stdout",
     "output_type": "stream",
     "text": [
      "We are the so-called \"Vikings\" from the north.\n"
     ]
    }
   ],
   "source": [
    "txt = \"We are the so-called \\\"Vikings\\\" from the north.\"\n",
    "print(txt)"
   ]
  },
  {
   "cell_type": "code",
   "execution_count": 5,
   "id": "15f52f5d",
   "metadata": {},
   "outputs": [
    {
     "name": "stdout",
     "output_type": "stream",
     "text": [
      "[6, 1, 7, 2, 8, 3, 9, 4, 10, 5]\n"
     ]
    }
   ],
   "source": [
    "# Python3 program to merge two lists\n",
    "# alternatively\n",
    "\n",
    "def countList(lst1, lst2):\n",
    "    return [sub[item] for item in range(len(lst2))\n",
    "                    for sub in [lst2, lst1]]\n",
    "\n",
    "# Driver code\n",
    "lst1 = [1, 2, 3,4,5]\n",
    "lst2 = [6,7,8,9,10]\n",
    "print(countList(lst1, lst2))\n"
   ]
  },
  {
   "cell_type": "code",
   "execution_count": 3,
   "id": "cdc391b4",
   "metadata": {},
   "outputs": [
    {
     "name": "stdout",
     "output_type": "stream",
     "text": [
      "[1, 'a', 2, 'b', 3, 'c']\n"
     ]
    }
   ],
   "source": [
    "\n",
    "def countList(lst1, lst2):\n",
    "    return [item for pair in zip(lst1, lst2 + [0])for item in pair]\n",
    "\n",
    "lst1 = [1, 2, 3]\n",
    "lst2 = ['a', 'b', 'c']\n",
    "print(countList(lst1, lst2))"
   ]
  },
  {
   "cell_type": "code",
   "execution_count": 11,
   "id": "dbe91d33",
   "metadata": {},
   "outputs": [
    {
     "name": "stdout",
     "output_type": "stream",
     "text": [
      "(1, 'a', 2, 'b', 3, 'c')\n"
     ]
    }
   ],
   "source": [
    "# Python3 program to merge two lists\n",
    "# alternatively\n",
    "import operator\n",
    "from functools import reduce\n",
    "\n",
    "def countList(lst1, lst2):\n",
    "    return reduce(operator.add, zip(lst1, lst2))\n",
    "\n",
    "# Driver code\n",
    "lst1 = [1, 2, 3]\n",
    "lst2 = ['a', 'b', 'c']\n",
    "print(countList(lst1, lst2))\n"
   ]
  },
  {
   "cell_type": "code",
   "execution_count": 7,
   "id": "e26ac82f",
   "metadata": {},
   "outputs": [
    {
     "name": "stdout",
     "output_type": "stream",
     "text": [
      "[(1, 6), (2, 7), (3, 8), (4, 9), (5, 10)]\n"
     ]
    }
   ],
   "source": [
    "lst1 = [1, 2, 3,4,5]\n",
    "lst2 = [6,7,8,9,10]\n",
    "x = zip(lst1,lst2)\n",
    "print(list(x))"
   ]
  },
  {
   "cell_type": "code",
   "execution_count": 9,
   "id": "5eee79cd",
   "metadata": {},
   "outputs": [
    {
     "name": "stdout",
     "output_type": "stream",
     "text": [
      "Indices and value in list:\n",
      "(0, 1)\n",
      "(1, 2)\n",
      "(2, 3)\n",
      "(3, 4)\n",
      "(4, 5)\n"
     ]
    }
   ],
   "source": [
    "# create a list of subjects\n",
    "lst1 = [1, 2, 3, 4, 5]\n",
    "\n",
    "print(\"Indices and value in list:\")\n",
    "# get the indices and values using enumerate method\n",
    "for i in enumerate(lst1):\n",
    "    print(i)"
   ]
  },
  {
   "cell_type": "code",
   "execution_count": 10,
   "id": "e6d82572",
   "metadata": {
    "scrolled": true
   },
   "outputs": [
    {
     "name": "stdout",
     "output_type": "stream",
     "text": [
      "index and values in list:\n",
      "[(1, 6), (2, 7), (3, 8), (4, 9), (5, 10)]\n",
      "[(1, 6), (2, 7), (3, 8), (4, 9), (5, 10)]\n",
      "[(1, 6), (2, 7), (3, 8), (4, 9), (5, 10)]\n",
      "[(1, 6), (2, 7), (3, 8), (4, 9), (5, 10)]\n",
      "[(1, 6), (2, 7), (3, 8), (4, 9), (5, 10)]\n"
     ]
    }
   ],
   "source": [
    "# create a index list that stores list\n",
    "indexlist = [1, 2, 3, 4,5]\n",
    "\n",
    "# create a list of subjects\n",
    "data = [6,7,8,9,10]\n",
    "\n",
    "\n",
    "print(\"index and values in list:\")\n",
    "\n",
    "# get the values from indices using zip method\n",
    "for index, value in zip(indexlist, data):\n",
    "    a =zip(indexlist, data)\n",
    "    print(list(a))\n"
   ]
  },
  {
   "cell_type": "code",
   "execution_count": 5,
   "id": "0a89d41a",
   "metadata": {},
   "outputs": [
    {
     "name": "stdout",
     "output_type": "stream",
     "text": [
      "[]\n"
     ]
    }
   ],
   "source": [
    "lst1 = [1, 2, 3,4,5]\n",
    "lst2 = [6,7,8,9,10]\n",
    "lst3 = []\n",
    "for i in range(len(lst1),len(lst2)):\n",
    "    \n",
    "\n",
    "print(lst3)\n",
    "# x = zip(lst1,lst2)\n",
    "# print(list(x))"
   ]
  },
  {
   "cell_type": "code",
   "execution_count": 6,
   "id": "8aac0b13",
   "metadata": {},
   "outputs": [
    {
     "name": "stdout",
     "output_type": "stream",
     "text": [
      "2\n"
     ]
    }
   ],
   "source": [
    "lst1 = [1, 2, 3,4,5]\n",
    "print(lst1[1])"
   ]
  },
  {
   "cell_type": "code",
   "execution_count": 22,
   "id": "bbafb71d",
   "metadata": {},
   "outputs": [
    {
     "name": "stdout",
     "output_type": "stream",
     "text": [
      "index and values in list:\n",
      "1 6\n",
      "2 7\n",
      "3 8\n",
      "4 9\n",
      "5 10\n",
      "[1, 6, 2, 7, 3, 8, 4, 9, 5, 10]\n"
     ]
    }
   ],
   "source": [
    "l1 = [1, 2, 3, 4,5]\n",
    "l2 = [6,7,8,9,10]\n",
    "l3 = []\n",
    "# [1,6,2,7,3,8,4,9,5,10]\n",
    "\n",
    "print(\"index and values in list:\")\n",
    "for i, j in zip(l1, l2):\n",
    "    print(i,j)\n",
    "    l3.append(i)\n",
    "    l3.append(j)\n",
    "     \n",
    "    \n",
    "print(l3)"
   ]
  },
  {
   "cell_type": "code",
   "execution_count": 25,
   "id": "21ad5314",
   "metadata": {},
   "outputs": [
    {
     "name": "stdout",
     "output_type": "stream",
     "text": [
      "4\n",
      "4\n",
      "4444\n"
     ]
    }
   ],
   "source": [
    "num1 = input()\n",
    "num2 = int(input())\n",
    "print(num1*num2)"
   ]
  },
  {
   "cell_type": "code",
   "execution_count": 28,
   "id": "04e21d82",
   "metadata": {},
   "outputs": [
    {
     "name": "stdout",
     "output_type": "stream",
     "text": [
      "Sanket Iyer\n"
     ]
    }
   ],
   "source": [
    "class Employee:\n",
    "    \n",
    "    def __init__(self,first,last,pay):\n",
    "        self.first = first\n",
    "        self.last = last\n",
    "        self.pay = pay\n",
    "        self.email = first + '.' + last + '@company.com'\n",
    "        \n",
    "    def fullname(self):\n",
    "        return '{} {}'.format(self.first,self.last)\n",
    "    \n",
    "emp_1 = Employee('Sanket','Iyer',10000)\n",
    "emp_2 = Employee('Jay','Patel',10000)\n",
    "\n",
    "print(emp_1.fullname())"
   ]
  },
  {
   "cell_type": "code",
   "execution_count": 29,
   "id": "3fcaf2d8",
   "metadata": {},
   "outputs": [
    {
     "name": "stdout",
     "output_type": "stream",
     "text": [
      "10000\n"
     ]
    }
   ],
   "source": [
    "class Employee:\n",
    "    \n",
    "    def __init__(self,first,last,pay):\n",
    "        self.first = first\n",
    "        self.last = last\n",
    "        self.pay = pay\n",
    "        self.email = first + '.' + last + '@company.com'\n",
    "        \n",
    "    def fullname(self):\n",
    "        return '{} {}'.format(self.first,self.last)\n",
    "    \n",
    "    def apply_raise(self):\n",
    "        self.pay = int(self.pay + 1.04)\n",
    "    \n",
    "emp_1 = Employee('Sanket','Iyer',10000)\n",
    "emp_2 = Employee('Jay','Patel',10000)\n",
    "\n",
    "print(emp_1.pay)\n"
   ]
  },
  {
   "cell_type": "code",
   "execution_count": null,
   "id": "445ae81e",
   "metadata": {},
   "outputs": [],
   "source": []
  }
 ],
 "metadata": {
  "kernelspec": {
   "display_name": "Python 3 (ipykernel)",
   "language": "python",
   "name": "python3"
  },
  "language_info": {
   "codemirror_mode": {
    "name": "ipython",
    "version": 3
   },
   "file_extension": ".py",
   "mimetype": "text/x-python",
   "name": "python",
   "nbconvert_exporter": "python",
   "pygments_lexer": "ipython3",
   "version": "3.11.1"
  }
 },
 "nbformat": 4,
 "nbformat_minor": 5
}

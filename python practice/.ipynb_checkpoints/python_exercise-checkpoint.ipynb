{
 "cells": [
  {
   "cell_type": "code",
   "execution_count": 1,
   "id": "02f4349f",
   "metadata": {},
   "outputs": [
    {
     "name": "stdout",
     "output_type": "stream",
     "text": [
      "Current date and time: \n",
      "2023-02-06 10:35:20\n"
     ]
    }
   ],
   "source": [
    "#print current date and time\n",
    "import datetime as d\n",
    "now = d.datetime.now()\n",
    "print(\"Current date and time: \")\n",
    "print(now.strftime(\"%Y-%m-%d %H:%M:%S\"))"
   ]
  },
  {
   "cell_type": "code",
   "execution_count": null,
   "id": "2869ef0d",
   "metadata": {},
   "outputs": [],
   "source": [
    "class Vehicle:\n",
    "    \n",
    "    def __init__(self,max_speed,mileage):\n",
    "        self.max_speed = max_speed\n",
    "        self.mileage = mileage\n",
    "        \n",
    "modelx = Vehicle(240,18)\n",
    "# modely = Vehicle(210,20)\n",
    "print(modelx.max_speed, modelx.mileage)\n",
    "\n",
    "        "
   ]
  },
  {
   "cell_type": "code",
   "execution_count": null,
   "id": "f1a8bba1",
   "metadata": {},
   "outputs": [],
   "source": [
    "class vehicle:\n",
    "    pass\n"
   ]
  },
  {
   "cell_type": "code",
   "execution_count": null,
   "id": "9f19ee33",
   "metadata": {},
   "outputs": [],
   "source": [
    "class Vehicle:\n",
    "\n",
    "    def __init__(self, name, max_speed, mileage):\n",
    "        self.name = name\n",
    "        self.max_speed = max_speed\n",
    "        self.mileage = mileage\n",
    "        \n",
    "    def \n",
    "        \n",
    "class bus(Vehicle):\n",
    "    \n",
    "\n",
    "school_bus = bus(\"School Volvo\",180,12)\n",
    "print(\"Vehicle namme: \",school_bus.name,\"Speed: \",school_bus.max_speed,\"Mileage\",school_bus.mileage)\n",
    "\n",
    "    "
   ]
  },
  {
   "cell_type": "code",
   "execution_count": null,
   "id": "08f7bd91",
   "metadata": {},
   "outputs": [],
   "source": [
    "r = float(input(\"Enter the radius:\"))\n",
    "a = 3.14*r*r\n",
    "print(\"Area of the circle:\",a)"
   ]
  }
 ],
 "metadata": {
  "kernelspec": {
   "display_name": "Python 3 (ipykernel)",
   "language": "python",
   "name": "python3"
  },
  "language_info": {
   "codemirror_mode": {
    "name": "ipython",
    "version": 3
   },
   "file_extension": ".py",
   "mimetype": "text/x-python",
   "name": "python",
   "nbconvert_exporter": "python",
   "pygments_lexer": "ipython3",
   "version": "3.11.1"
  }
 },
 "nbformat": 4,
 "nbformat_minor": 5
}

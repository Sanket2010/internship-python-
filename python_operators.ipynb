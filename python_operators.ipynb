{
 "cells": [
  {
   "cell_type": "code",
   "execution_count": 7,
   "id": "a60efc80",
   "metadata": {},
   "outputs": [
    {
     "name": "stdout",
     "output_type": "stream",
     "text": [
      "31\n",
      "11\n",
      "2.1\n",
      "2\n",
      "210\n",
      "1\n",
      "16679880978201\n",
      "True\n",
      "False\n",
      "False\n",
      "True\n",
      "True\n",
      "False\n"
     ]
    }
   ],
   "source": [
    "# Examples of Arithmetic Operator\n",
    "a = 21\n",
    "b = 10\n",
    "# Addition of numbers\n",
    "add = a + b\n",
    "# subtraction of numbers\n",
    "sub = a - b\n",
    "# Division(float) of numbers\n",
    "div1 = a / b\n",
    "#divion(floor) of number\n",
    "div2 = a//b\n",
    "#multiplication of numbers\n",
    "m = a * b\n",
    "#mudulo of both number\n",
    "mod = a % b\n",
    "# power\n",
    "p = a**b\n",
    "\n",
    "print(add)\n",
    "print(sub)\n",
    "print(div1)\n",
    "print(div2)\n",
    "print(m)\n",
    "print(mod)\n",
    "print(p)\n",
    "\n",
    "#comparision operator\n",
    "# a>b is true\n",
    "print(a>b)\n",
    "# a>b is false\n",
    "print(a<b)\n",
    "# a==b is false\n",
    "print(a==b)\n",
    "# a!=b is true\n",
    "print(a!=b)\n",
    "# a>=b is true\n",
    "print(a>=b)\n",
    "# a<=b is false\n",
    "print(a<=b)\n"
   ]
  },
  {
   "cell_type": "code",
   "execution_count": 8,
   "id": "84025a91",
   "metadata": {},
   "outputs": [
    {
     "name": "stdout",
     "output_type": "stream",
     "text": [
      "False\n",
      "True\n",
      "False\n"
     ]
    }
   ],
   "source": [
    "#logical operator\n",
    "a = True\n",
    "b = False\n",
    "  \n",
    "# Print a and b is False\n",
    "print(a and b)\n",
    "  \n",
    "# Print a or b is True\n",
    "print(a or b)\n",
    "  \n",
    "# Print not a is False\n",
    "print(not a)"
   ]
  },
  {
   "cell_type": "code",
   "execution_count": 9,
   "id": "c8fe5499",
   "metadata": {},
   "outputs": [
    {
     "name": "stdout",
     "output_type": "stream",
     "text": [
      "0\n",
      "14\n",
      "-11\n",
      "14\n",
      "2\n",
      "40\n"
     ]
    }
   ],
   "source": [
    "#bitwise operator\n",
    "a = 10\n",
    "b = 4\n",
    "# Print bitwise AND operation\n",
    "print(a&b)\n",
    "# Print bitwise OR operation\n",
    "print(a|b)\n",
    "# Print bitwise complement or NOT operation\n",
    "print(~a)\n",
    "# Print bitwise XOR operation\n",
    "print(a^b)\n",
    "# Print bitwise right shift operation\n",
    "print(a>>2)\n",
    "# Print bitwise left shift operation\n",
    "print(a<<2)"
   ]
  },
  {
   "cell_type": "code",
   "execution_count": null,
   "id": "8fa3dcdf",
   "metadata": {},
   "outputs": [],
   "source": [
    "# Examples of Assignment Operators\n",
    "a = 10\n",
    "\n",
    "# Assign value\n",
    "b = a\n",
    "print(b)\n",
    "\n",
    "# Add and assign value\n",
    "b += a\n",
    "print(b)\n",
    "\n",
    "# Subtract and assign value\n",
    "b -= a\n",
    "print(b)\n",
    "\n",
    "# multiply and assign\n",
    "b *= a\n",
    "print(b)\n",
    "\n",
    "# bitwise lishift operator\n",
    "b <<= a\n",
    "print(b)\n"
   ]
  }
 ],
 "metadata": {
  "kernelspec": {
   "display_name": "Python 3 (ipykernel)",
   "language": "python",
   "name": "python3"
  },
  "language_info": {
   "codemirror_mode": {
    "name": "ipython",
    "version": 3
   },
   "file_extension": ".py",
   "mimetype": "text/x-python",
   "name": "python",
   "nbconvert_exporter": "python",
   "pygments_lexer": "ipython3",
   "version": "3.11.1"
  }
 },
 "nbformat": 4,
 "nbformat_minor": 5
}

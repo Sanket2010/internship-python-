{
 "cells": [
  {
   "cell_type": "code",
   "execution_count": 1,
   "id": "89a91d47",
   "metadata": {},
   "outputs": [
    {
     "name": "stdout",
     "output_type": "stream",
     "text": [
      "odd\n"
     ]
    }
   ],
   "source": [
    "x = 9\n",
    "r = x%2\n",
    "\n",
    "if r==0:\n",
    "    print(\"even\")\n",
    "\n",
    "if r==1:\n",
    "    print(\"odd\")"
   ]
  },
  {
   "cell_type": "code",
   "execution_count": 2,
   "id": "73fd526f",
   "metadata": {},
   "outputs": [
    {
     "name": "stdout",
     "output_type": "stream",
     "text": [
      "odd\n"
     ]
    }
   ],
   "source": [
    "x = 9\n",
    "r = x%2\n",
    "\n",
    "if r==0:\n",
    "    print(\"even\")\n",
    "else:\n",
    "    print(\"odd\")"
   ]
  },
  {
   "cell_type": "code",
   "execution_count": 5,
   "id": "71b3106e",
   "metadata": {},
   "outputs": [
    {
     "name": "stdout",
     "output_type": "stream",
     "text": [
      "even\n",
      "hmmmm\n"
     ]
    }
   ],
   "source": [
    "x = 4\n",
    "r = x%2\n",
    "\n",
    "if r==0:\n",
    "    print(\"even\")\n",
    "    if x>5:\n",
    "        print(\"Great\")\n",
    "    else:\n",
    "        print(\"hmmmm\")\n",
    "\n",
    "if r==1:\n",
    "    print(\"odd\")"
   ]
  },
  {
   "cell_type": "code",
   "execution_count": 15,
   "id": "8d3a3c6a",
   "metadata": {},
   "outputs": [
    {
     "name": "stdout",
     "output_type": "stream",
     "text": [
      "hello world\n",
      "hello world\n",
      "hello world\n",
      "hello world\n"
     ]
    }
   ],
   "source": [
    "#while loop\n",
    "\n",
    "a = 0\n",
    "while (a<=3):\n",
    "    a = a+1\n",
    "    print(\"hello world\")"
   ]
  },
  {
   "cell_type": "code",
   "execution_count": 16,
   "id": "01f11c91",
   "metadata": {},
   "outputs": [
    {
     "name": "stdout",
     "output_type": "stream",
     "text": [
      "hello world\n",
      "hello world\n",
      "hello world\n",
      "hello world\n",
      "bye\n"
     ]
    }
   ],
   "source": [
    "#combining else with while\n",
    "a = 0\n",
    "while (a<=3):\n",
    "    a = a+1\n",
    "    print(\"hello world\")\n",
    "else:\n",
    "    print(\"bye\")"
   ]
  },
  {
   "cell_type": "code",
   "execution_count": 20,
   "id": "4a16de42",
   "metadata": {},
   "outputs": [
    {
     "name": "stdout",
     "output_type": "stream",
     "text": [
      "0\n",
      "1\n",
      "2\n",
      "3\n"
     ]
    }
   ],
   "source": [
    "#for loop\n",
    "n = 4\n",
    "for i in range(0,n):\n",
    "    print(i)"
   ]
  },
  {
   "cell_type": "code",
   "execution_count": 25,
   "id": "e7fe7afb",
   "metadata": {},
   "outputs": [
    {
     "name": "stdout",
     "output_type": "stream",
     "text": [
      "List Iteration\n",
      "sanket\n",
      "R\n",
      "iyer\n",
      "\n",
      " tuple iterartion\n",
      "sanket\n",
      "R\n",
      "iyer\n",
      "\n",
      " String iteration\n",
      "S\n",
      "a\n",
      "n\n",
      "k\n",
      "e\n",
      "t\n",
      "\n",
      " Dictionary Iteration\n",
      "xyz 123\n",
      "abc 345\n"
     ]
    }
   ],
   "source": [
    "# Iterating over a list\n",
    "print(\"List Iteration\")\n",
    "l = [\"sanket\",\"R\",\"iyer\"]\n",
    "for i in l:\n",
    "    print(i)\n",
    "    \n",
    "print(\"\\n tuple iterartion\")\n",
    "t = (\"sanket\",\"R\",\"iyer\")\n",
    "for i in t:\n",
    "    print(i)\n",
    "\n",
    "print(\"\\n String iteration\")\n",
    "s =\"Sanket\"\n",
    "for i in s:\n",
    "    print(i)\n",
    "    \n",
    "print(\"\\n Dictionary Iteration\")\n",
    "d = dict()\n",
    "d['xyz']= 123\n",
    "d['abc']= 345\n",
    "for i in d:\n",
    "    print(\"%s %d\" %(i,d[i]))\n",
    "    "
   ]
  },
  {
   "cell_type": "code",
   "execution_count": 3,
   "id": "f89f4d72",
   "metadata": {},
   "outputs": [
    {
     "name": "stdout",
     "output_type": "stream",
     "text": [
      "1\n",
      "22\n",
      "333\n",
      "4444\n"
     ]
    }
   ],
   "source": [
    "#nested while loop\n",
    "from __future__ import print_function\n",
    "for i in range (1,5):\n",
    "    for j in range(i):\n",
    "        print(i,end='')\n",
    "    print()"
   ]
  },
  {
   "cell_type": "code",
   "execution_count": 5,
   "id": "2641b515",
   "metadata": {},
   "outputs": [
    {
     "name": "stdout",
     "output_type": "stream",
     "text": [
      " wht is your age:\n",
      "18\n",
      "we will think about it\n"
     ]
    }
   ],
   "source": [
    "print(\" wht is your age:\")\n",
    "age = int(input(\"\"))\n",
    "\n",
    "if age < 18:\n",
    "    print(\"You can not drive\")\n",
    "elif age == 18:\n",
    "    print(\"we will think about it\")\n",
    "else:\n",
    "    print(\"you can drive\")\n"
   ]
  },
  {
   "cell_type": "code",
   "execution_count": 12,
   "id": "640d5760",
   "metadata": {},
   "outputs": [
    {
     "name": "stdout",
     "output_type": "stream",
     "text": [
      "how many candies you want: 6\n",
      "candy\n",
      "candy\n",
      "candy\n",
      "candy\n",
      "candy\n",
      "out of stock\n",
      "bye\n"
     ]
    }
   ],
   "source": [
    "#break\n",
    "av = 5\n",
    "x = int(input(\"how many candies you want: \"))\n",
    "\n",
    "i = 1\n",
    "while i <= x:\n",
    "    \n",
    "    if i > av:\n",
    "        print(\"out of stock\")\n",
    "        break\n",
    "        \n",
    "    print(\"candy\")\n",
    "    i +=1\n",
    "print(\"bye\")"
   ]
  },
  {
   "cell_type": "code",
   "execution_count": 21,
   "id": "5f6ef9f3",
   "metadata": {},
   "outputs": [
    {
     "name": "stdout",
     "output_type": "stream",
     "text": [
      "1\n",
      "2\n",
      "4\n",
      "7\n",
      "8\n",
      "11\n",
      "13\n",
      "14\n",
      "16\n",
      "17\n",
      "19\n",
      "bye\n"
     ]
    }
   ],
   "source": [
    "#continue\n",
    "for i in range(1,20):\n",
    "    \n",
    "    if i%3 == 0 or i%5 == 0:\n",
    "        continue\n",
    "        \n",
    "    print(i)   \n",
    "    \n",
    "print(\"bye\")\n"
   ]
  },
  {
   "cell_type": "code",
   "execution_count": 19,
   "id": "718fe570",
   "metadata": {},
   "outputs": [
    {
     "name": "stdout",
     "output_type": "stream",
     "text": [
      "1\n",
      "3\n",
      "5\n",
      "7\n",
      "9\n",
      "bye\n"
     ]
    }
   ],
   "source": [
    "for i in range(1,10):\n",
    "    \n",
    "    if i%2 == 0:\n",
    "        pass\n",
    "    else:\n",
    "        print(i)\n",
    "\n",
    "print(\"bye\")"
   ]
  },
  {
   "cell_type": "code",
   "execution_count": 23,
   "id": "e305a8a6",
   "metadata": {},
   "outputs": [
    {
     "name": "stdout",
     "output_type": "stream",
     "text": [
      "hello 0\n",
      "hello 1\n",
      "hello 2\n",
      "hello 4\n"
     ]
    }
   ],
   "source": [
    "for i in range(5):\n",
    "    \n",
    "    if i==3:\n",
    "        continue\n",
    "    print(\"hello\",i)"
   ]
  },
  {
   "cell_type": "code",
   "execution_count": 24,
   "id": "9e2659df",
   "metadata": {},
   "outputs": [
    {
     "name": "stdout",
     "output_type": "stream",
     "text": [
      "hello 0\n",
      "hello 1\n",
      "hello 2\n"
     ]
    }
   ],
   "source": [
    "for i in range(5):\n",
    "    \n",
    "    if i==3:\n",
    "        break\n",
    "    print(\"hello\",i)"
   ]
  },
  {
   "cell_type": "code",
   "execution_count": 28,
   "id": "0d9c1b65",
   "metadata": {},
   "outputs": [],
   "source": [
    "print(\"#\")"
   ]
  },
  {
   "cell_type": "code",
   "execution_count": 33,
   "id": "cf935f7e",
   "metadata": {},
   "outputs": [
    {
     "name": "stdout",
     "output_type": "stream",
     "text": [
      "* \n",
      "* * \n",
      "* * * \n",
      "* * * * \n"
     ]
    }
   ],
   "source": [
    "# outer loop to handle number of rows\n",
    "# n in this case\n",
    "for i in range(4):\n",
    "# inner loop to handle number of columns\n",
    "# values changing acc. to outer loop\n",
    "    for j in range(i+1):\n",
    "# printing stars\n",
    "        print(\"*\",end=\" \")\n",
    "# ending line after each row   \n",
    "    print(\"\\r\")"
   ]
  },
  {
   "cell_type": "code",
   "execution_count": 34,
   "id": "c788d57e",
   "metadata": {},
   "outputs": [
    {
     "name": "stdout",
     "output_type": "stream",
     "text": [
      "* * * * \n",
      "* * * \n",
      "* * \n",
      "* \n"
     ]
    }
   ],
   "source": [
    "for i in range(4):\n",
    "    for j in range(4-i):\n",
    "        print(\"*\",end=\" \")\n",
    "    \n",
    "    print(\"\\r\")"
   ]
  },
  {
   "cell_type": "code",
   "execution_count": 41,
   "id": "58c75b46",
   "metadata": {},
   "outputs": [
    {
     "name": "stdout",
     "output_type": "stream",
     "text": [
      "****\n",
      "****\n",
      "****\n",
      "****\n"
     ]
    }
   ],
   "source": [
    "for i in range(4):\n",
    "    for j in range(4):\n",
    "        print(\"*\",end=\"\")\n",
    "    print(\"\\r\")"
   ]
  },
  {
   "cell_type": "code",
   "execution_count": 43,
   "id": "4b610da3",
   "metadata": {},
   "outputs": [
    {
     "name": "stdout",
     "output_type": "stream",
     "text": [
      "1 \n",
      "1 2 \n",
      "1 2 3 \n",
      "1 2 3 4 \n",
      "1 2 3 4 5 \n"
     ]
    }
   ],
   "source": [
    "# Decide the row count. (above pattern contains 5 rows)\n",
    "rows = 5\n",
    "# start: 1\n",
    "# stop: row+1 (range never include stop number in result)\n",
    "# step: 1\n",
    "# run loop 5 times\n",
    "for i in range(1,rows+1):\n",
    "    # Run inner loop i+1 times\n",
    "    for j in range(1,i+1):\n",
    "        # empty line after each row\n",
    "        print(j,end=\" \")\n",
    "    \n",
    "    print('')"
   ]
  },
  {
   "cell_type": "code",
   "execution_count": 38,
   "id": "369f70ed",
   "metadata": {},
   "outputs": [
    {
     "name": "stdout",
     "output_type": "stream",
     "text": [
      "1\n",
      "11\n",
      "111\n",
      "1111\n"
     ]
    }
   ],
   "source": [
    "for i in range(4):\n",
    "    for j in range(i+1):\n",
    "        print(\"1\",end =\"\")\n",
    "        \n",
    "    print()"
   ]
  },
  {
   "cell_type": "code",
   "execution_count": 48,
   "id": "b69e59c2",
   "metadata": {},
   "outputs": [
    {
     "name": "stdout",
     "output_type": "stream",
     "text": [
      "not found\n"
     ]
    }
   ],
   "source": [
    "nums = [12,16,18,21,26]\n",
    "\n",
    "for num in nums:\n",
    "    \n",
    "    if num%5==0:\n",
    "        print(num)\n",
    "        break\n",
    "else:\n",
    "    print(\"not found\")\n",
    "        "
   ]
  },
  {
   "cell_type": "code",
   "execution_count": 51,
   "id": "3da6294b",
   "metadata": {},
   "outputs": [
    {
     "name": "stdout",
     "output_type": "stream",
     "text": [
      "not prime\n"
     ]
    }
   ],
   "source": [
    "num = 10\n",
    "for i in range(2,num):\n",
    "    if num%i == 0:\n",
    "        print(\"not prime\")\n",
    "        break\n",
    "else:\n",
    "    print(\"prime no.\")"
   ]
  },
  {
   "cell_type": "code",
   "execution_count": 52,
   "id": "da3e049f",
   "metadata": {},
   "outputs": [
    {
     "name": "stdout",
     "output_type": "stream",
     "text": [
      "0 the\n",
      "1 big\n",
      "2 bang\n",
      "3 theory\n"
     ]
    }
   ],
   "source": [
    "#looping techniques\n",
    "#enumerate()\n",
    "\n",
    "for key, value in enumerate(['the','big','bang','theory']):\n",
    "    print(key,value)"
   ]
  },
  {
   "cell_type": "code",
   "execution_count": 55,
   "id": "db8eed45",
   "metadata": {},
   "outputs": [
    {
     "name": "stdout",
     "output_type": "stream",
     "text": [
      "what is your name? I am apple.\n",
      "what is your colour? I am red.\n",
      "what is your shape? I am a circle.\n"
     ]
    }
   ],
   "source": [
    " #using zip() to combine two containers and print values\n",
    "questions = ['name','colour','shape']\n",
    "answers = ['apple','red','a circle']\n",
    "for question, answer in zip(questions, answers):\n",
    "    print('what is your {0}? I am {1}.'.format(question, answer))"
   ]
  },
  {
   "cell_type": "code",
   "execution_count": 59,
   "id": "2e436ad2",
   "metadata": {},
   "outputs": [
    {
     "name": "stdout",
     "output_type": "stream",
     "text": [
      " The key value pair using iteritems is: \n",
      "a apple\n",
      "b ball\n"
     ]
    }
   ],
   "source": [
    "d = {\"a\":\"apple\", \"b\":\"ball\"}\n",
    "\n",
    "#using items to print the dictionary key-value pair\n",
    "print(\" The key value pair using iteritems is: \")\n",
    "for i,j in d.items():\n",
    "    print(i,j)"
   ]
  },
  {
   "cell_type": "code",
   "execution_count": 60,
   "id": "fada1954",
   "metadata": {},
   "outputs": [
    {
     "name": "stdout",
     "output_type": "stream",
     "text": [
      "True 10\n",
      "False\n",
      "True\n",
      "True\n",
      "True\n"
     ]
    }
   ],
   "source": [
    "# Python code to illustrate\n",
    "# chaining comparison operators\n",
    "x = 5\n",
    "print(1<x,10)\n",
    "print(10<x<20)\n",
    "print(x<10<x*10<100)\n",
    "print(10>x<=9)\n",
    "print(5 == x>4)"
   ]
  },
  {
   "cell_type": "code",
   "execution_count": 62,
   "id": "9966ae69",
   "metadata": {},
   "outputs": [
    {
     "name": "stdout",
     "output_type": "stream",
     "text": [
      "spameggsbeans\n",
      "spam\n",
      "eggs\n",
      "beans\n",
      "spam, eggs, beans\n",
      "spam\n",
      "eggs\n",
      "beans\n"
     ]
    }
   ],
   "source": [
    "meal1 = \"spam\" + \"eggs\" + \"beans\"\n",
    "meal2 = \"spam\\neggs\\nbeans\"\n",
    "meal3 = \"spam, eggs, beans\"\n",
    "meal4 = \"\"\"spam\n",
    "eggs\n",
    "beans\"\"\"\n",
    "print(meal1)\n",
    "print(meal2)\n",
    "print(meal3)\n",
    "print(meal4)"
   ]
  },
  {
   "cell_type": "code",
   "execution_count": 63,
   "id": "ddc9c8a9",
   "metadata": {},
   "outputs": [
    {
     "name": "stdout",
     "output_type": "stream",
     "text": [
      "40.0\n"
     ]
    }
   ],
   "source": [
    "a = 45\n",
    "b = 15\n",
    "c = 3\n",
    " \n",
    "print(a - b / c)\n"
   ]
  },
  {
   "cell_type": "code",
   "execution_count": 64,
   "id": "4544dc21",
   "metadata": {},
   "outputs": [
    {
     "name": "stdout",
     "output_type": "stream",
     "text": [
      "MTWTFSS\n"
     ]
    }
   ],
   "source": [
    "days = \"Mon, Tue, Wed, Thu, Fri, Sat, Sun\"\n",
    "print(days[::5])"
   ]
  },
  {
   "cell_type": "code",
   "execution_count": 66,
   "id": "f90ec6f7",
   "metadata": {},
   "outputs": [
    {
     "name": "stdout",
     "output_type": "stream",
     "text": [
      "False\n",
      "True\n"
     ]
    }
   ],
   "source": [
    "flower = \"blue violet\" \n",
    "print(flower=='blue')\n",
    "print('blue' in flower)"
   ]
  },
  {
   "cell_type": "code",
   "execution_count": 70,
   "id": "83960966",
   "metadata": {},
   "outputs": [
    {
     "name": "stdout",
     "output_type": "stream",
     "text": [
      "Please guess the number between 1 nad 10: \n",
      "3\n",
      "please guess higher\n",
      "4\n",
      "sorry you guessed incorrectly\n"
     ]
    }
   ],
   "source": [
    "answer = 5\n",
    "\n",
    "print(\"Please guess the number between 1 nad 10: \")\n",
    "guess = int(input())\n",
    "\n",
    "if guess<answer:\n",
    "    print(\"please guess higher\")\n",
    "    guess = int(input())\n",
    "    if guess == answer:\n",
    "        print(\"Well done, you guessws it\")\n",
    "    else:\n",
    "        print(\"sorry you guessed incorrectly\")\n",
    "elif guess>answer:\n",
    "    print(\"Please guess lower\")\n",
    "    guess = int(input())\n",
    "    if guess == answer:\n",
    "        print(\"well done\")\n",
    "    else:\n",
    "        print(\"sorry you guessed incorrectly\")\n",
    "else:\n",
    "    print(\"you got it first time\")"
   ]
  },
  {
   "cell_type": "code",
   "execution_count": null,
   "id": "594ddff4",
   "metadata": {},
   "outputs": [],
   "source": [
    "answer = 5\n",
    "\n",
    "print(\"Please guess number between 1 and 10: \")\n",
    "guess = int(input())\n",
    "\n",
    "if guess != answer:\n",
    "    if guess < answer:\n",
    "        print(\"Please guess higher\")\n",
    "    else:   # guess must be greater than answer\n",
    "        print(\"Please guess lower\")\n",
    "    guess = int(input())\n",
    "    if guess == answer:\n",
    "        print(\"Well done, you guessed it\")\n",
    "    else:\n",
    "        print(\"Sorry, you have not guessed correctly\")\n",
    "else:\n",
    "    print(\"You got it first time\")"
   ]
  },
  {
   "cell_type": "code",
   "execution_count": 72,
   "id": "6afa6c39",
   "metadata": {},
   "outputs": [
    {
     "name": "stdout",
     "output_type": "stream",
     "text": [
      "Please guess number between 1 and 10: \n",
      "3\n",
      "Please guess higher\n",
      "4\n",
      "Sorry, you have not guessed correctly\n"
     ]
    }
   ],
   "source": [
    "answer = 5\n",
    "\n",
    "print(\"Please guess number between 1 and 10: \")\n",
    "guess = int(input())\n",
    "\n",
    "if guess == answer:\n",
    "    print(\"You got it first time\")\n",
    "else:\n",
    "    if guess < answer:\n",
    "        print(\"Please guess higher\")\n",
    "    else:   # guess must be greater than answer\n",
    "        print(\"Please guess lower\")\n",
    "    guess = int(input())\n",
    "    if guess == answer:\n",
    "        print(\"Well done, you guessed it\")\n",
    "    else:\n",
    "        print(\"Sorry, you have not guessed correctly\")\n",
    "\n",
    "    "
   ]
  },
  {
   "cell_type": "code",
   "execution_count": 75,
   "id": "6664e725",
   "metadata": {},
   "outputs": [
    {
     "name": "stdout",
     "output_type": "stream",
     "text": [
      "how old are you: 12\n"
     ]
    }
   ],
   "source": [
    "age = int(input(\"how old are you: \"))\n",
    "\n",
    "if age>=16 and age <= 65:\n",
    "    print(\"have great day\")\n",
    "else:\n",
    "    print(\"good day\")"
   ]
  },
  {
   "cell_type": "code",
   "execution_count": 77,
   "id": "c5dfd47a",
   "metadata": {},
   "outputs": [],
   "source": [
    "from collections import defaultdict\n",
    "d = defaultdict()\n",
    "  "
   ]
  },
  {
   "cell_type": "code",
   "execution_count": 79,
   "id": "000b13b5",
   "metadata": {},
   "outputs": [],
   "source": [
    "d['a']='xyz'"
   ]
  },
  {
   "cell_type": "code",
   "execution_count": 80,
   "id": "98f905ab",
   "metadata": {},
   "outputs": [
    {
     "data": {
      "text/plain": [
       "defaultdict(None, {'a': 'xyz'})"
      ]
     },
     "execution_count": 80,
     "metadata": {},
     "output_type": "execute_result"
    }
   ],
   "source": [
    "d"
   ]
  },
  {
   "cell_type": "code",
   "execution_count": 81,
   "id": "f07591d7",
   "metadata": {},
   "outputs": [],
   "source": [
    "d['b']='qwe'"
   ]
  },
  {
   "cell_type": "code",
   "execution_count": 82,
   "id": "001353c5",
   "metadata": {},
   "outputs": [
    {
     "data": {
      "text/plain": [
       "defaultdict(None, {'a': 'xyz', 'b': 'qwe'})"
      ]
     },
     "execution_count": 82,
     "metadata": {},
     "output_type": "execute_result"
    }
   ],
   "source": [
    "d"
   ]
  },
  {
   "cell_type": "code",
   "execution_count": null,
   "id": "6a38cdd9",
   "metadata": {},
   "outputs": [],
   "source": []
  }
 ],
 "metadata": {
  "kernelspec": {
   "display_name": "Python 3 (ipykernel)",
   "language": "python",
   "name": "python3"
  },
  "language_info": {
   "codemirror_mode": {
    "name": "ipython",
    "version": 3
   },
   "file_extension": ".py",
   "mimetype": "text/x-python",
   "name": "python",
   "nbconvert_exporter": "python",
   "pygments_lexer": "ipython3",
   "version": "3.11.1"
  }
 },
 "nbformat": 4,
 "nbformat_minor": 5
}

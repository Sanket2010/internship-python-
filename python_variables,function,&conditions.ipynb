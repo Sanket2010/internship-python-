{
 "cells": [
  {
   "cell_type": "code",
   "execution_count": 1,
   "id": "f99353a6",
   "metadata": {},
   "outputs": [
    {
     "name": "stdout",
     "output_type": "stream",
     "text": [
      "Sanket Iyer\n"
     ]
    }
   ],
   "source": [
    "def f():\n",
    "    # local variable\n",
    "    s = \"Sanket Iyer\"\n",
    "    print(s)\n",
    "#driver code\n",
    "f()"
   ]
  },
  {
   "cell_type": "code",
   "execution_count": 12,
   "id": "f9736b93",
   "metadata": {},
   "outputs": [
    {
     "name": "stdout",
     "output_type": "stream",
     "text": [
      "Sanket Iyer\n",
      "Inside the function:  Sanket Iyer\n",
      "Outside the function Sanket Iyer\n"
     ]
    }
   ],
   "source": [
    "def f():\n",
    "    print(\"Inside the function: \", s)\n",
    "#global scope\n",
    "s = \"Sanket Iyer\"\n",
    "print(s)\n",
    "#driver code\n",
    "f()\n",
    "print(\"Outside the function\",s)"
   ]
  },
  {
   "cell_type": "code",
   "execution_count": 15,
   "id": "fc937cda",
   "metadata": {},
   "outputs": [
    {
     "name": "stdout",
     "output_type": "stream",
     "text": [
      "Sanket\n",
      "Iyer\n"
     ]
    }
   ],
   "source": [
    "# This function has a variable with name same as s.\n",
    "def f():\n",
    "    s = \"Sanket\"\n",
    "    print(s)\n",
    "#global scope\n",
    "s = \"Iyer\"\n",
    "f()\n",
    "print(s)"
   ]
  },
  {
   "cell_type": "code",
   "execution_count": 20,
   "id": "08333261",
   "metadata": {},
   "outputs": [
    {
     "name": "stdout",
     "output_type": "stream",
     "text": [
      "python is great Sanket\n",
      "working with python\n",
      "working with python\n"
     ]
    }
   ],
   "source": [
    "#Using global keyword\n",
    "# This function modifies the global variable 's'\n",
    "def f():\n",
    "    global s\n",
    "    s += ' Sanket'\n",
    "    print(s)\n",
    "    s = \"working with python\"\n",
    "    print(s)\n",
    "s = \"python is great\"\n",
    "f()\n",
    "print(s)"
   ]
  },
  {
   "cell_type": "code",
   "execution_count": 21,
   "id": "3ee9b46c",
   "metadata": {},
   "outputs": [
    {
     "name": "stdout",
     "output_type": "stream",
     "text": [
      "global:  1\n",
      "insidef():  1\n",
      "global:  1\n",
      "insideg():  2\n",
      "global:  1\n",
      "Inside h(): 3\n",
      "global:  3\n"
     ]
    }
   ],
   "source": [
    "a = 1\n",
    "# Uses global because there is no local 'a'\n",
    "\n",
    "def f():\n",
    "    print('insidef(): ',a)\n",
    "# Variable 'a' is redefined as a local\n",
    "\n",
    "def g():\n",
    "    a = 2\n",
    "    print('insideg(): ',a)\n",
    "    \n",
    "# Uses global keyword to modify global 'a' \n",
    "def h():\n",
    "    global a\n",
    "    a=3\n",
    "    print('Inside h():',a)\n",
    "    \n",
    "# Global scope   \n",
    "print('global: ',a)\n",
    "f()\n",
    "print('global: ',a)\n",
    "g()\n",
    "print('global: ',a)\n",
    "h()\n",
    "print('global: ',a)"
   ]
  },
  {
   "cell_type": "code",
   "execution_count": 23,
   "id": "c44fb648",
   "metadata": {},
   "outputs": [
    {
     "name": "stdout",
     "output_type": "stream",
     "text": [
      "x is of type: <class 'int'>\n",
      "y is of type: <class 'float'>\n",
      "20.6\n",
      "z is of type: <class 'float'>\n"
     ]
    }
   ],
   "source": [
    "#implicit type conversion\n",
    "x = 10\n",
    "\n",
    "print(\"x is of type:\",type(x))\n",
    "\n",
    "y = 10.6\n",
    "print(\"y is of type:\",type(y))\n",
    "\n",
    "z = x + y\n",
    "print(z)\n",
    "print(\"z is of type:\",type(z))\n"
   ]
  },
  {
   "cell_type": "code",
   "execution_count": 24,
   "id": "a454eb46",
   "metadata": {},
   "outputs": [
    {
     "name": "stdout",
     "output_type": "stream",
     "text": [
      "after converting to integer base 2: 18\n",
      "after converting to float: 10010.0\n"
     ]
    }
   ],
   "source": [
    "#Python code to demonstrate Type conversion\n",
    "# using int(), float()\n",
    "# initializing string\n",
    "\n",
    "s = \"10010\"\n",
    "\n",
    "# printing string converting to int base 2\n",
    "c = int(s,2)\n",
    "print(\"after converting to integer base 2: \", end =\"\")\n",
    "print(c)\n",
    "\n",
    "\n",
    "# printing string converting to float\n",
    "e = float(s)\n",
    "print(\"after converting to float: \",end=\"\")\n",
    "print(e)\n",
    "\n"
   ]
  },
  {
   "cell_type": "code",
   "execution_count": 28,
   "id": "be4528f8",
   "metadata": {},
   "outputs": [
    {
     "name": "stdout",
     "output_type": "stream",
     "text": [
      "after converting character to integer: 52\n",
      "after converting to hex: 0x38\n",
      "after converting to oct: 0o70\n"
     ]
    }
   ],
   "source": [
    "s = '4'\n",
    "\n",
    "# printing character converting to integer\n",
    "c = ord(s)\n",
    "print(\"after converting character to integer: \", end =\"\")\n",
    "print(c)\n",
    "\n",
    "\n",
    "# printing integer converting to hexadecimal string\n",
    "c = hex(56)\n",
    "print(\"after converting to hex: \",end=\"\")\n",
    "print(c)\n",
    "\n",
    "# printing integer converting to octal string\n",
    "c = oct(56)\n",
    "print(\"after converting to oct: \",end=\"\")\n",
    "print(c)\n",
    "\n"
   ]
  },
  {
   "cell_type": "code",
   "execution_count": 31,
   "id": "279ccb70",
   "metadata": {},
   "outputs": [
    {
     "name": "stdout",
     "output_type": "stream",
     "text": [
      "After swapping values of a and y are: 10 5\n"
     ]
    }
   ],
   "source": [
    "# to swap two variables in a single line\n",
    "x = 5\n",
    "y = 10\n",
    "x, y = y, x\n",
    "print(\"After swapping values of a and y are:\",x,y)"
   ]
  },
  {
   "cell_type": "code",
   "execution_count": 2,
   "id": "f7a04fd4",
   "metadata": {},
   "outputs": [
    {
     "name": "stdout",
     "output_type": "stream",
     "text": [
      "Original values\n",
      "X: 10\n",
      "Y: 20\n",
      "-----------\n",
      "values after swapping\n",
      "X: 20\n",
      "Y: 10\n",
      "\n",
      "\n",
      "Original values\n",
      "X: 10.5\n",
      "Y: 20.5\n",
      "-----------\n",
      "values after swapping\n",
      "X: 20.5\n",
      "Y: 10.5\n",
      "\n",
      "\n"
     ]
    }
   ],
   "source": [
    "#using arithmatic operator to swap values in python\n",
    "def swap_values(x,y):\n",
    "#printing Original values:\n",
    "    print(\"Original values\")\n",
    "    print(\"X:\",x)\n",
    "    print(\"Y:\",y)\n",
    "    print(\"-----------\")\n",
    "    \n",
    "    #swapping variables\n",
    "    x = x + y\n",
    "    y = x - y\n",
    "    x = x - y\n",
    "    \n",
    "    #printing values after swapping\n",
    "    print(\"values after swapping\")\n",
    "    print(\"X:\",x)\n",
    "    print(\"Y:\",y)\n",
    "    \n",
    "#function call\n",
    "\n",
    "#integer values:\n",
    "swap_values(10,20)\n",
    "print(\"\\n\")\n",
    "\n",
    "\n",
    "#float value\n",
    "swap_values(10.5,20.5)\n",
    "print(\"\\n\")\n"
   ]
  },
  {
   "cell_type": "code",
   "execution_count": null,
   "id": "cf3185a8",
   "metadata": {},
   "outputs": [],
   "source": []
  }
 ],
 "metadata": {
  "kernelspec": {
   "display_name": "Python 3 (ipykernel)",
   "language": "python",
   "name": "python3"
  },
  "language_info": {
   "codemirror_mode": {
    "name": "ipython",
    "version": 3
   },
   "file_extension": ".py",
   "mimetype": "text/x-python",
   "name": "python",
   "nbconvert_exporter": "python",
   "pygments_lexer": "ipython3",
   "version": "3.11.1"
  }
 },
 "nbformat": 4,
 "nbformat_minor": 5
}
